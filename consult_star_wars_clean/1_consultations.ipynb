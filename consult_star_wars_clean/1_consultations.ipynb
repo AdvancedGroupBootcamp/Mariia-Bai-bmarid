{
 "cells": [
  {
   "cell_type": "code",
   "execution_count": 385,
   "id": "b1c4b2cc",
   "metadata": {},
   "outputs": [],
   "source": [
    "import pandas as pd\n",
    "import datetime\n",
    "import numpy"
   ]
  },
  {
   "cell_type": "code",
   "execution_count": 386,
   "id": "5d0ef644",
   "metadata": {},
   "outputs": [
    {
     "data": {
      "text/html": [
       "<div>\n",
       "<style scoped>\n",
       "    .dataframe tbody tr th:only-of-type {\n",
       "        vertical-align: middle;\n",
       "    }\n",
       "\n",
       "    .dataframe tbody tr th {\n",
       "        vertical-align: top;\n",
       "    }\n",
       "\n",
       "    .dataframe thead th {\n",
       "        text-align: right;\n",
       "    }\n",
       "</style>\n",
       "<table border=\"1\" class=\"dataframe\">\n",
       "  <thead>\n",
       "    <tr style=\"text-align: right;\">\n",
       "      <th></th>\n",
       "      <th>consultation_date</th>\n",
       "      <th>physician_id</th>\n",
       "      <th>patient_id</th>\n",
       "      <th>speciality</th>\n",
       "      <th>cim10</th>\n",
       "    </tr>\n",
       "  </thead>\n",
       "  <tbody>\n",
       "    <tr>\n",
       "      <th>0</th>\n",
       "      <td>2022-04-07 09:20:00</td>\n",
       "      <td>122</td>\n",
       "      <td>0</td>\n",
       "      <td>general-practician</td>\n",
       "      <td>Grippe, à virus grippal saisonnier identifié</td>\n",
       "    </tr>\n",
       "    <tr>\n",
       "      <th>1</th>\n",
       "      <td>2021-10-01 12:00:00</td>\n",
       "      <td>56</td>\n",
       "      <td>1</td>\n",
       "      <td>general-practician</td>\n",
       "      <td>Sinusite aiguë</td>\n",
       "    </tr>\n",
       "    <tr>\n",
       "      <th>2</th>\n",
       "      <td>2022-05-04 20:40:00</td>\n",
       "      <td>89</td>\n",
       "      <td>2</td>\n",
       "      <td>general-practician</td>\n",
       "      <td>Rhinopharyngite aiguë [rhume banal]</td>\n",
       "    </tr>\n",
       "    <tr>\n",
       "      <th>3</th>\n",
       "      <td>2022-07-22 21:30:00</td>\n",
       "      <td>129</td>\n",
       "      <td>3</td>\n",
       "      <td>general-practician</td>\n",
       "      <td>Autres cystites</td>\n",
       "    </tr>\n",
       "    <tr>\n",
       "      <th>4</th>\n",
       "      <td>2021-01-06 07:10:00</td>\n",
       "      <td>31</td>\n",
       "      <td>4</td>\n",
       "      <td>general-practician</td>\n",
       "      <td>Grippe, virus non identifié</td>\n",
       "    </tr>\n",
       "  </tbody>\n",
       "</table>\n",
       "</div>"
      ],
      "text/plain": [
       "    consultation_date  physician_id  patient_id          speciality  \\\n",
       "0 2022-04-07 09:20:00           122           0  general-practician   \n",
       "1 2021-10-01 12:00:00            56           1  general-practician   \n",
       "2 2022-05-04 20:40:00            89           2  general-practician   \n",
       "3 2022-07-22 21:30:00           129           3  general-practician   \n",
       "4 2021-01-06 07:10:00            31           4  general-practician   \n",
       "\n",
       "                                          cim10  \n",
       "0  Grippe, à virus grippal saisonnier identifié  \n",
       "1                                Sinusite aiguë  \n",
       "2           Rhinopharyngite aiguë [rhume banal]  \n",
       "3                               Autres cystites  \n",
       "4                   Grippe, virus non identifié  "
      ]
     },
     "execution_count": 386,
     "metadata": {},
     "output_type": "execute_result"
    }
   ],
   "source": [
    "link = 'https://api-data.public-prod.qare.tech/test_data_science/'\n",
    "data_test = pd.read_json(link)\n",
    "data_test['consultation_date'] = pd.to_datetime(data_test['consultation_date'])\n",
    "data_test.head()"
   ]
  },
  {
   "cell_type": "code",
   "execution_count": 387,
   "id": "8db8d8fe",
   "metadata": {},
   "outputs": [
    {
     "data": {
      "text/html": [
       "<div>\n",
       "<style scoped>\n",
       "    .dataframe tbody tr th:only-of-type {\n",
       "        vertical-align: middle;\n",
       "    }\n",
       "\n",
       "    .dataframe tbody tr th {\n",
       "        vertical-align: top;\n",
       "    }\n",
       "\n",
       "    .dataframe thead th {\n",
       "        text-align: right;\n",
       "    }\n",
       "</style>\n",
       "<table border=\"1\" class=\"dataframe\">\n",
       "  <thead>\n",
       "    <tr style=\"text-align: right;\">\n",
       "      <th></th>\n",
       "      <th>physician_id</th>\n",
       "      <th>patient_id</th>\n",
       "    </tr>\n",
       "  </thead>\n",
       "  <tbody>\n",
       "    <tr>\n",
       "      <th>count</th>\n",
       "      <td>5000.000000</td>\n",
       "      <td>5000.00000</td>\n",
       "    </tr>\n",
       "    <tr>\n",
       "      <th>mean</th>\n",
       "      <td>78.413200</td>\n",
       "      <td>2345.29340</td>\n",
       "    </tr>\n",
       "    <tr>\n",
       "      <th>std</th>\n",
       "      <td>37.901195</td>\n",
       "      <td>1350.22648</td>\n",
       "    </tr>\n",
       "    <tr>\n",
       "      <th>min</th>\n",
       "      <td>0.000000</td>\n",
       "      <td>0.00000</td>\n",
       "    </tr>\n",
       "    <tr>\n",
       "      <th>25%</th>\n",
       "      <td>56.000000</td>\n",
       "      <td>1182.75000</td>\n",
       "    </tr>\n",
       "    <tr>\n",
       "      <th>50%</th>\n",
       "      <td>80.000000</td>\n",
       "      <td>2342.50000</td>\n",
       "    </tr>\n",
       "    <tr>\n",
       "      <th>75%</th>\n",
       "      <td>104.000000</td>\n",
       "      <td>3508.25000</td>\n",
       "    </tr>\n",
       "    <tr>\n",
       "      <th>max</th>\n",
       "      <td>152.000000</td>\n",
       "      <td>4692.00000</td>\n",
       "    </tr>\n",
       "  </tbody>\n",
       "</table>\n",
       "</div>"
      ],
      "text/plain": [
       "       physician_id  patient_id\n",
       "count   5000.000000  5000.00000\n",
       "mean      78.413200  2345.29340\n",
       "std       37.901195  1350.22648\n",
       "min        0.000000     0.00000\n",
       "25%       56.000000  1182.75000\n",
       "50%       80.000000  2342.50000\n",
       "75%      104.000000  3508.25000\n",
       "max      152.000000  4692.00000"
      ]
     },
     "execution_count": 387,
     "metadata": {},
     "output_type": "execute_result"
    }
   ],
   "source": [
    "data_test.describe()"
   ]
  },
  {
   "cell_type": "code",
   "execution_count": 388,
   "id": "cd7216f6",
   "metadata": {},
   "outputs": [
    {
     "name": "stdout",
     "output_type": "stream",
     "text": [
      "<class 'pandas.core.frame.DataFrame'>\n",
      "RangeIndex: 5000 entries, 0 to 4999\n",
      "Data columns (total 5 columns):\n",
      " #   Column             Non-Null Count  Dtype         \n",
      "---  ------             --------------  -----         \n",
      " 0   consultation_date  5000 non-null   datetime64[ns]\n",
      " 1   physician_id       5000 non-null   int64         \n",
      " 2   patient_id         5000 non-null   int64         \n",
      " 3   speciality         5000 non-null   object        \n",
      " 4   cim10              5000 non-null   object        \n",
      "dtypes: datetime64[ns](1), int64(2), object(2)\n",
      "memory usage: 195.4+ KB\n"
     ]
    }
   ],
   "source": [
    "data_test.info()"
   ]
  },
  {
   "cell_type": "code",
   "execution_count": 389,
   "id": "64992809",
   "metadata": {},
   "outputs": [
    {
     "data": {
      "text/plain": [
       "Index(['consultation_date', 'physician_id', 'patient_id', 'speciality',\n",
       "       'cim10'],\n",
       "      dtype='object')"
      ]
     },
     "execution_count": 389,
     "metadata": {},
     "output_type": "execute_result"
    }
   ],
   "source": [
    "data_test.columns"
   ]
  },
  {
   "cell_type": "code",
   "execution_count": 390,
   "id": "5e993de8",
   "metadata": {},
   "outputs": [
    {
     "data": {
      "text/plain": [
       "speciality        \n",
       "general-practician    5000\n",
       "dtype: int64"
      ]
     },
     "execution_count": 390,
     "metadata": {},
     "output_type": "execute_result"
    }
   ],
   "source": [
    "#Only one speciality\n",
    "data_test[['speciality']].value_counts()"
   ]
  },
  {
   "cell_type": "code",
   "execution_count": 391,
   "id": "7c7159b0",
   "metadata": {},
   "outputs": [
    {
     "data": {
      "text/plain": [
       "cim10                              \n",
       "Gastro-entérite et colite toxiques     415\n",
       "Rhinopharyngite aiguë [rhume banal]    334\n",
       "COVID-19                               322\n",
       "Autres cystites                        238\n",
       "Cystite aiguë                          200\n",
       "dtype: int64"
      ]
     },
     "execution_count": 391,
     "metadata": {},
     "output_type": "execute_result"
    }
   ],
   "source": [
    "# Top 5 deseases. For example, 415 people have Gastro-entérite et colite toxiques\n",
    "data_test[['cim10']].value_counts().head()"
   ]
  },
  {
   "cell_type": "code",
   "execution_count": 392,
   "id": "189bc93f",
   "metadata": {
    "scrolled": true
   },
   "outputs": [
    {
     "data": {
      "text/plain": [
       "physician_id\n",
       "56              926\n",
       "122             315\n",
       "89              244\n",
       "90              240\n",
       "97              218\n",
       "dtype: int64"
      ]
     },
     "execution_count": 392,
     "metadata": {},
     "output_type": "execute_result"
    }
   ],
   "source": [
    "# Top 5 the best doctors by total number of consultations of all the time\n",
    "data_test[['physician_id']].value_counts().head()"
   ]
  },
  {
   "cell_type": "code",
   "execution_count": 393,
   "id": "34d42a4c",
   "metadata": {},
   "outputs": [
    {
     "data": {
      "text/plain": [
       "physician_id\n",
       "39              1\n",
       "36              1\n",
       "32              1\n",
       "125             1\n",
       "152             1\n",
       "dtype: int64"
      ]
     },
     "execution_count": 393,
     "metadata": {},
     "output_type": "execute_result"
    }
   ],
   "source": [
    "# Top 5 last doctors by total number of consultations of all the time\n",
    "data_test[['physician_id']].value_counts().tail()"
   ]
  },
  {
   "cell_type": "code",
   "execution_count": 394,
   "id": "988d2fd7",
   "metadata": {},
   "outputs": [
    {
     "data": {
      "text/plain": [
       "consultation_date  \n",
       "2022-08-23 13:00:00    3\n",
       "2022-03-07 10:30:00    3\n",
       "2022-06-13 20:00:00    3\n",
       "2022-06-02 07:40:00    3\n",
       "2022-07-20 10:30:00    3\n",
       "                      ..\n",
       "2021-12-20 17:15:00    1\n",
       "2021-12-20 16:40:00    1\n",
       "2021-12-20 15:10:00    1\n",
       "2021-12-20 14:45:00    1\n",
       "2022-10-02 21:20:00    1\n",
       "Length: 4809, dtype: int64"
      ]
     },
     "execution_count": 394,
     "metadata": {},
     "output_type": "execute_result"
    }
   ],
   "source": [
    "# When and how many people were consulted\n",
    "data_test[['consultation_date']].value_counts()"
   ]
  },
  {
   "cell_type": "code",
   "execution_count": 395,
   "id": "8e917511",
   "metadata": {},
   "outputs": [
    {
     "data": {
      "text/plain": [
       "consultation_date   2021-01-01 17:30:00\n",
       "dtype: datetime64[ns]"
      ]
     },
     "execution_count": 395,
     "metadata": {},
     "output_type": "execute_result"
    }
   ],
   "source": [
    "# First consultation was on \n",
    "data_test[['consultation_date']].min()"
   ]
  },
  {
   "cell_type": "code",
   "execution_count": 396,
   "id": "e9505790",
   "metadata": {},
   "outputs": [
    {
     "data": {
      "text/plain": [
       "consultation_date   2022-10-02 21:20:00\n",
       "dtype: datetime64[ns]"
      ]
     },
     "execution_count": 396,
     "metadata": {},
     "output_type": "execute_result"
    }
   ],
   "source": [
    "# Last consultation was on \n",
    "data_test[['consultation_date']].max()"
   ]
  },
  {
   "cell_type": "code",
   "execution_count": 397,
   "id": "058c3915",
   "metadata": {},
   "outputs": [
    {
     "data": {
      "text/plain": [
       "physician_id  cim10                                            \n",
       "56            Gastro-entérite et colite toxiques                   135\n",
       "              Autres cystites                                      102\n",
       "              Rhinopharyngite aiguë [rhume banal]                   93\n",
       "42            Gastro-entérite et colite toxiques                    72\n",
       "56            COVID-19                                              54\n",
       "                                                                  ... \n",
       "73            Rash et autres éruptions cutanées non spécifiques      1\n",
       "              Prostatite aiguë                                       1\n",
       "              Pharyngite aiguë                                       1\n",
       "              Nausées et vomissements                                1\n",
       "152           COVID-19                                               1\n",
       "Length: 1978, dtype: int64"
      ]
     },
     "execution_count": 397,
     "metadata": {},
     "output_type": "execute_result"
    }
   ],
   "source": [
    "# All deseases that physician worked on\n",
    "data_test[['physician_id','cim10']].value_counts()"
   ]
  },
  {
   "cell_type": "code",
   "execution_count": 398,
   "id": "4132ac23",
   "metadata": {
    "scrolled": true
   },
   "outputs": [
    {
     "data": {
      "text/plain": [
       "patient_id\n",
       "663           4\n",
       "3364          4\n",
       "1634          4\n",
       "1197          3\n",
       "395           3\n",
       "dtype: int64"
      ]
     },
     "execution_count": 398,
     "metadata": {},
     "output_type": "execute_result"
    }
   ],
   "source": [
    "# Number of consultations for patient\n",
    "# Top 5 patients by number of consultations\n",
    "data_test[['patient_id']].value_counts().head()"
   ]
  },
  {
   "cell_type": "code",
   "execution_count": 399,
   "id": "de3f4585",
   "metadata": {},
   "outputs": [
    {
     "data": {
      "text/plain": [
       "physician_id\n",
       "56              370\n",
       "97               91\n",
       "6                90\n",
       "42               84\n",
       "89               72\n",
       "dtype: int64"
      ]
     },
     "execution_count": 399,
     "metadata": {},
     "output_type": "execute_result"
    }
   ],
   "source": [
    "# Top 5 physician buy amount of consultations for 2021-2022 year\n",
    "data_test[\n",
    "    (data_test['consultation_date'] > datetime.datetime(2021, 1, 1)) \n",
    "    & (data_test['consultation_date'] < datetime.datetime(2022, 1, 1))\n",
    "][['physician_id']].value_counts().head()"
   ]
  }
 ],
 "metadata": {
  "kernelspec": {
   "display_name": "Python 3 (ipykernel)",
   "language": "python",
   "name": "python3"
  },
  "language_info": {
   "codemirror_mode": {
    "name": "ipython",
    "version": 3
   },
   "file_extension": ".py",
   "mimetype": "text/x-python",
   "name": "python",
   "nbconvert_exporter": "python",
   "pygments_lexer": "ipython3",
   "version": "3.10.1"
  }
 },
 "nbformat": 4,
 "nbformat_minor": 5
}
