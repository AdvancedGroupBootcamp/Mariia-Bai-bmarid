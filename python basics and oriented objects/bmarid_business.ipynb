{
 "cells": [
  {
   "cell_type": "markdown",
   "id": "20026427",
   "metadata": {},
   "source": [
    "# Device store for client to buy a device"
   ]
  },
  {
   "cell_type": "code",
   "execution_count": 1,
   "id": "97e60586",
   "metadata": {},
   "outputs": [],
   "source": [
    "import datetime\n",
    "import random\n",
    "import time"
   ]
  },
  {
   "cell_type": "code",
   "execution_count": 2,
   "id": "3fea8586",
   "metadata": {},
   "outputs": [],
   "source": [
    "brand_tuple = (\"Apple\", \"Asus\", \"Dell\", \"Huawei\")\n",
    "type_tuple = (\"phone\", \"laptop\")"
   ]
  },
  {
   "cell_type": "code",
   "execution_count": 3,
   "id": "80222fa4",
   "metadata": {},
   "outputs": [],
   "source": [
    "def get_price(argument):\n",
    "    match argument:\n",
    "        case 0:\n",
    "            price = random.randint(400,1000)\n",
    "        case 1:\n",
    "            price = random.randint(1001,2000)\n",
    "        case default:\n",
    "            return 1000\n",
    "    return price"
   ]
  },
  {
   "cell_type": "code",
   "execution_count": 24,
   "id": "df4c76fe",
   "metadata": {},
   "outputs": [
    {
     "name": "stdout",
     "output_type": "stream",
     "text": [
      "[{'brand': 'Huawei', 'type': 'laptop', 'price': 1771, 'status': 'available'}, {'brand': 'Asus', 'type': 'phone', 'price': 985, 'status': 'available'}, {'brand': 'Asus', 'type': 'phone', 'price': 769, 'status': 'available'}, {'brand': 'Apple', 'type': 'phone', 'price': 994, 'status': 'available'}, {'brand': 'Apple', 'type': 'laptop', 'price': 1815, 'status': 'available'}, {'brand': 'Huawei', 'type': 'laptop', 'price': 1812, 'status': 'available'}, {'brand': 'Dell', 'type': 'phone', 'price': 766, 'status': 'available'}, {'brand': 'Huawei', 'type': 'phone', 'price': 444, 'status': 'available'}, {'brand': 'Apple', 'type': 'laptop', 'price': 1834, 'status': 'available'}, {'brand': 'Apple', 'type': 'phone', 'price': 576, 'status': 'available'}]\n"
     ]
    }
   ],
   "source": [
    "dev_list = []\n",
    " \n",
    "number_of_devices_in_store = 10 \n",
    "def new_store():\n",
    "    for x in range(number_of_devices_in_store):\n",
    "        num_brand_tuple = len(brand_tuple) - 1\n",
    "        num_type_tuple = len(type_tuple) - 1\n",
    "\n",
    "        index_brand = random.randint(0,num_brand_tuple)\n",
    "        index_type = random.randint(0,num_type_tuple)\n",
    "\n",
    "        new_dev = {\n",
    "            'brand' : brand_tuple[index_brand], \n",
    "            'type' : type_tuple[index_type], \n",
    "            'price' : get_price(index_type), \n",
    "            'status' : 'available'\n",
    "            }\n",
    "        dev_list.append(new_dev)\n",
    "\n",
    "new_store()\n",
    "print(dev_list)"
   ]
  },
  {
   "cell_type": "code",
   "execution_count": 25,
   "id": "797a667d",
   "metadata": {},
   "outputs": [],
   "source": [
    "class Client:\n",
    "    # 1/3 Mandatory methods\n",
    "    def data_extracting(self): \n",
    "        self.name = self.registration_form.split(' ')[0]\n",
    "        self.gender = self.registration_form.split(' ')[1]\n",
    "        self.age = self.registration_form.split(' ')[2]\n",
    "        \n",
    "    def get_rnd(self):\n",
    "        out = round(time.time()*1000000%10)\n",
    "        return out\n",
    "    \n",
    "    def __init__(self, registration_form):\n",
    "        self.registration_form = registration_form\n",
    "        self.name = None\n",
    "        self.gender = None\n",
    "        self.age = None\n",
    "        self.price = 0 #take type by item_id?\n",
    "        self.time_bought = 0\n",
    "        \n",
    "        self.data_extracting()\n",
    "    \n",
    "    def get_time(self):\n",
    "        h = random.randint(9, 17)\n",
    "        m = random.randint(0, 59)\n",
    "        return datetime.time(h,m)\n",
    "        \n",
    "    # 2/3 Mandatory methods\n",
    "    def buy_device(self): #generate random device to buy\n",
    "#         print('STORE',dev_list)\n",
    "        amuount_of_elements = len(dev_list) - 1\n",
    "        count_for_exit = 0\n",
    "        tmp = self.get_rnd()\n",
    "        if tmp > amuount_of_elements:\n",
    "            tmp = (random.randint(0, amuount_of_elements))\n",
    "        index_dev = tmp \n",
    "#         print(self.name, index_dev)\n",
    "                \n",
    "        if dev_list[index_dev]['status'] == 'available':\n",
    "            dev_list[index_dev]['status'] = 'sold'\n",
    "            self.price = dev_list[index_dev]['price']\n",
    "            self.time_bought = self.get_time()\n",
    "#             print(dev_list[index_dev])\n",
    "            print(self.name, 'bought', \n",
    "              dev_list[index_dev]['brand'], dev_list[index_dev]['type'], \n",
    "              'for', dev_list[index_dev]['price'],'euro,', \n",
    "              dev_list[index_dev]['status'],'at', self.time_bought, '\\n')\n",
    "        else: \n",
    "            while dev_list[index_dev]['status'] == 'sold' and index_dev < len(dev_list)-1:\n",
    "#                 print(dev_list[index_dev]['brand'], dev_list[index_dev]['price'],  dev_list[index_dev]['status'])\n",
    "                index_dev += 1\n",
    "                count_for_exit += 1\n",
    "            if count_for_exit == amuount_of_elements:\n",
    "                index_dev = len(dev_list) #for exit\n",
    "                print(self.name,'store is empty sorry.')\n",
    "            if index_dev == len(dev_list):\n",
    "                index_dev = 0 #search another part in store\n",
    "        \n",
    "        index_dev = 0\n",
    "\n",
    "    # 3/3 Mandatory methods\n",
    "    def get_data_cleaned(self): \n",
    "        return { \n",
    "                'name': self.name,\n",
    "                'gender': self.gender,\n",
    "                'time_bought': self.time_bought,\n",
    "                'price': self.price,\n",
    "               }"
   ]
  },
  {
   "cell_type": "code",
   "execution_count": 26,
   "id": "85f38ee8",
   "metadata": {},
   "outputs": [
    {
     "name": "stdout",
     "output_type": "stream",
     "text": [
      "Mari bought Asus phone for 985 euro, sold at 17:04:00 \n",
      "\n",
      "Shopen bought Huawei phone for 444 euro, sold at 14:58:00 \n",
      "\n",
      "Rozi bought Dell phone for 766 euro, sold at 09:09:00 \n",
      "\n",
      "Leo bought Apple phone for 994 euro, sold at 09:45:00 \n",
      "\n",
      "Eva bought Huawei laptop for 1771 euro, sold at 09:08:00 \n",
      "\n",
      "Shubert bought Apple laptop for 1815 euro, sold at 13:07:00 \n",
      "\n"
     ]
    }
   ],
   "source": [
    "cl1 = Client(registration_form = 'Mari F 22') \n",
    "cl2 = Client(registration_form = 'Shopen M 32')\n",
    "cl3 = Client(registration_form = 'Rozi F 23')\n",
    "cl4 = Client(registration_form = 'Leo M 34')\n",
    "cl5 = Client(registration_form = 'Eva F 45')\n",
    "cl6 = Client(registration_form = 'Shubert M 56')\n",
    "\n",
    "clients = [cl1, cl2, cl3, cl4, cl5, cl6]\n",
    "\n",
    "cl1.buy_device()\n",
    "cl2.buy_device()\n",
    "cl3.buy_device()\n",
    "cl4.buy_device()\n",
    "cl5.buy_device()\n",
    "cl6.buy_device()"
   ]
  },
  {
   "cell_type": "code",
   "execution_count": 27,
   "id": "edc7d6ad",
   "metadata": {},
   "outputs": [
    {
     "data": {
      "text/html": [
       "<div>\n",
       "<style scoped>\n",
       "    .dataframe tbody tr th:only-of-type {\n",
       "        vertical-align: middle;\n",
       "    }\n",
       "\n",
       "    .dataframe tbody tr th {\n",
       "        vertical-align: top;\n",
       "    }\n",
       "\n",
       "    .dataframe thead th {\n",
       "        text-align: right;\n",
       "    }\n",
       "</style>\n",
       "<table border=\"1\" class=\"dataframe\">\n",
       "  <thead>\n",
       "    <tr style=\"text-align: right;\">\n",
       "      <th></th>\n",
       "      <th>name</th>\n",
       "      <th>gender</th>\n",
       "      <th>time_bought</th>\n",
       "      <th>price</th>\n",
       "    </tr>\n",
       "  </thead>\n",
       "  <tbody>\n",
       "    <tr>\n",
       "      <th>0</th>\n",
       "      <td>Mari</td>\n",
       "      <td>F</td>\n",
       "      <td>17:04:00</td>\n",
       "      <td>985</td>\n",
       "    </tr>\n",
       "    <tr>\n",
       "      <th>1</th>\n",
       "      <td>Shopen</td>\n",
       "      <td>M</td>\n",
       "      <td>14:58:00</td>\n",
       "      <td>444</td>\n",
       "    </tr>\n",
       "    <tr>\n",
       "      <th>2</th>\n",
       "      <td>Rozi</td>\n",
       "      <td>F</td>\n",
       "      <td>09:09:00</td>\n",
       "      <td>766</td>\n",
       "    </tr>\n",
       "    <tr>\n",
       "      <th>3</th>\n",
       "      <td>Leo</td>\n",
       "      <td>M</td>\n",
       "      <td>09:45:00</td>\n",
       "      <td>994</td>\n",
       "    </tr>\n",
       "    <tr>\n",
       "      <th>4</th>\n",
       "      <td>Eva</td>\n",
       "      <td>F</td>\n",
       "      <td>09:08:00</td>\n",
       "      <td>1771</td>\n",
       "    </tr>\n",
       "    <tr>\n",
       "      <th>5</th>\n",
       "      <td>Shubert</td>\n",
       "      <td>M</td>\n",
       "      <td>13:07:00</td>\n",
       "      <td>1815</td>\n",
       "    </tr>\n",
       "  </tbody>\n",
       "</table>\n",
       "</div>"
      ],
      "text/plain": [
       "      name gender time_bought  price\n",
       "0     Mari      F    17:04:00    985\n",
       "1   Shopen      M    14:58:00    444\n",
       "2     Rozi      F    09:09:00    766\n",
       "3      Leo      M    09:45:00    994\n",
       "4      Eva      F    09:08:00   1771\n",
       "5  Shubert      M    13:07:00   1815"
      ]
     },
     "execution_count": 27,
     "metadata": {},
     "output_type": "execute_result"
    }
   ],
   "source": [
    "import pandas as pd\n",
    "df = pd.DataFrame.from_records([\n",
    "    client.get_data_cleaned() for client in clients\n",
    "])\n",
    "df"
   ]
  },
  {
   "cell_type": "code",
   "execution_count": 29,
   "id": "2075b84e",
   "metadata": {},
   "outputs": [
    {
     "name": "stdout",
     "output_type": "stream",
     "text": [
      "Company's revenue is 6775\n"
     ]
    }
   ],
   "source": [
    "revenues = sum(df['price'])\n",
    "print('Company\\'s revenue is', revenues)"
   ]
  }
 ],
 "metadata": {
  "kernelspec": {
   "display_name": "Python 3 (ipykernel)",
   "language": "python",
   "name": "python3"
  },
  "language_info": {
   "codemirror_mode": {
    "name": "ipython",
    "version": 3
   },
   "file_extension": ".py",
   "mimetype": "text/x-python",
   "name": "python",
   "nbconvert_exporter": "python",
   "pygments_lexer": "ipython3",
   "version": "3.10.1"
  }
 },
 "nbformat": 4,
 "nbformat_minor": 5
}
