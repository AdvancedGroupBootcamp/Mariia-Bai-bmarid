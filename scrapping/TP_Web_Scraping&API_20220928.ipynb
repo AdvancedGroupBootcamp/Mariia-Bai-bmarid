{
 "cells": [
  {
   "cell_type": "markdown",
   "metadata": {
    "id": "gwgykYiVzuNw"
   },
   "source": [
    "# TP: Scraping BeautifulSoup & Selenium"
   ]
  },
  {
   "cell_type": "markdown",
   "metadata": {
    "id": "TIhZzfS8zuNy"
   },
   "source": [
    "## Imports"
   ]
  },
  {
   "cell_type": "code",
   "execution_count": 14,
   "metadata": {
    "ExecuteTime": {
     "end_time": "2020-10-13T12:46:53.360971Z",
     "start_time": "2020-10-13T12:46:52.219411Z"
    },
    "id": "QWckpIAkzuNy"
   },
   "outputs": [],
   "source": [
    "import requests\n",
    "import numpy as np\n",
    "import pandas as pd\n",
    "from bs4 import BeautifulSoup"
   ]
  },
  {
   "cell_type": "markdown",
   "metadata": {
    "id": "emjlfVrWzuNz"
   },
   "source": [
    "## Constants"
   ]
  },
  {
   "cell_type": "code",
   "execution_count": 15,
   "metadata": {
    "ExecuteTime": {
     "end_time": "2020-10-13T12:46:53.368439Z",
     "start_time": "2020-10-13T12:46:53.363145Z"
    },
    "id": "GJGOfJ6LzuNz"
   },
   "outputs": [],
   "source": [
    "URL_BOOK_BASE = 'https://www.babelio.com'\n",
    "URL_BOOK_LISTE = '/livrespopulaires_debut.php?p={page_number}'\n",
    "URL_AUTHORS = 'https://www.babelio.com/auteurspopulaires.php'\n",
    "URL_API_BASE = \"https://en.wikipedia.org/w/api.php\"\n",
    "test_mode = True"
   ]
  },
  {
   "cell_type": "markdown",
   "metadata": {
    "ExecuteTime": {
     "end_time": "2020-10-06T11:42:23.606529Z",
     "start_time": "2020-10-06T11:42:23.585172Z"
    },
    "id": "GHxDnYDBzuN0"
   },
   "source": [
    "## Exercice n°1 : BeautifulSoup Introduction"
   ]
  },
  {
   "cell_type": "code",
   "execution_count": 18,
   "metadata": {
    "ExecuteTime": {
     "end_time": "2020-10-13T12:46:54.818396Z",
     "start_time": "2020-10-13T12:46:54.813927Z"
    },
    "id": "8D_H1gjnzuN0"
   },
   "outputs": [],
   "source": [
    "def get_html_from_link(page_link):\n",
    "    '''\n",
    "        Get HTML from web page and parse it.\n",
    "\n",
    "        :param page_link: link of the webpage we want to scrap\n",
    "        :type page_link: string\n",
    "        :return: BeautifulSoup object (HTML parsed)\n",
    "        :rtype: bs4.BeautifulSoup\n",
    "    '''\n",
    "    page = requests.get(page_link)\n",
    "    soup = BeautifulSoup(page.content, 'html.parser')\n",
    "\n",
    "    return soup"
   ]
  },
  {
   "cell_type": "code",
   "execution_count": 19,
   "metadata": {
    "id": "mu32QZ45zuN0"
   },
   "outputs": [
    {
     "ename": "ConnectTimeout",
     "evalue": "HTTPSConnectionPool(host='www.babelio.com', port=443): Max retries exceeded with url: / (Caused by ConnectTimeoutError(<urllib3.connection.HTTPSConnection object at 0x11f469d20>, 'Connection to www.babelio.com timed out. (connect timeout=None)'))",
     "output_type": "error",
     "traceback": [
      "\u001b[0;31m---------------------------------------------------------------------------\u001b[0m",
      "\u001b[0;31mTimeoutError\u001b[0m                              Traceback (most recent call last)",
      "File \u001b[0;32m~/.pyenv/versions/3.10.1/lib/python3.10/site-packages/urllib3/connection.py:174\u001b[0m, in \u001b[0;36mHTTPConnection._new_conn\u001b[0;34m(self)\u001b[0m\n\u001b[1;32m    173\u001b[0m \u001b[38;5;28;01mtry\u001b[39;00m:\n\u001b[0;32m--> 174\u001b[0m     conn \u001b[38;5;241m=\u001b[39m \u001b[43mconnection\u001b[49m\u001b[38;5;241;43m.\u001b[39;49m\u001b[43mcreate_connection\u001b[49m\u001b[43m(\u001b[49m\n\u001b[1;32m    175\u001b[0m \u001b[43m        \u001b[49m\u001b[43m(\u001b[49m\u001b[38;5;28;43mself\u001b[39;49m\u001b[38;5;241;43m.\u001b[39;49m\u001b[43m_dns_host\u001b[49m\u001b[43m,\u001b[49m\u001b[43m \u001b[49m\u001b[38;5;28;43mself\u001b[39;49m\u001b[38;5;241;43m.\u001b[39;49m\u001b[43mport\u001b[49m\u001b[43m)\u001b[49m\u001b[43m,\u001b[49m\u001b[43m \u001b[49m\u001b[38;5;28;43mself\u001b[39;49m\u001b[38;5;241;43m.\u001b[39;49m\u001b[43mtimeout\u001b[49m\u001b[43m,\u001b[49m\u001b[43m \u001b[49m\u001b[38;5;241;43m*\u001b[39;49m\u001b[38;5;241;43m*\u001b[39;49m\u001b[43mextra_kw\u001b[49m\n\u001b[1;32m    176\u001b[0m \u001b[43m    \u001b[49m\u001b[43m)\u001b[49m\n\u001b[1;32m    178\u001b[0m \u001b[38;5;28;01mexcept\u001b[39;00m SocketTimeout:\n",
      "File \u001b[0;32m~/.pyenv/versions/3.10.1/lib/python3.10/site-packages/urllib3/util/connection.py:95\u001b[0m, in \u001b[0;36mcreate_connection\u001b[0;34m(address, timeout, source_address, socket_options)\u001b[0m\n\u001b[1;32m     94\u001b[0m \u001b[38;5;28;01mif\u001b[39;00m err \u001b[38;5;129;01mis\u001b[39;00m \u001b[38;5;129;01mnot\u001b[39;00m \u001b[38;5;28;01mNone\u001b[39;00m:\n\u001b[0;32m---> 95\u001b[0m     \u001b[38;5;28;01mraise\u001b[39;00m err\n\u001b[1;32m     97\u001b[0m \u001b[38;5;28;01mraise\u001b[39;00m socket\u001b[38;5;241m.\u001b[39merror(\u001b[38;5;124m\"\u001b[39m\u001b[38;5;124mgetaddrinfo returns an empty list\u001b[39m\u001b[38;5;124m\"\u001b[39m)\n",
      "File \u001b[0;32m~/.pyenv/versions/3.10.1/lib/python3.10/site-packages/urllib3/util/connection.py:85\u001b[0m, in \u001b[0;36mcreate_connection\u001b[0;34m(address, timeout, source_address, socket_options)\u001b[0m\n\u001b[1;32m     84\u001b[0m     sock\u001b[38;5;241m.\u001b[39mbind(source_address)\n\u001b[0;32m---> 85\u001b[0m \u001b[43msock\u001b[49m\u001b[38;5;241;43m.\u001b[39;49m\u001b[43mconnect\u001b[49m\u001b[43m(\u001b[49m\u001b[43msa\u001b[49m\u001b[43m)\u001b[49m\n\u001b[1;32m     86\u001b[0m \u001b[38;5;28;01mreturn\u001b[39;00m sock\n",
      "\u001b[0;31mTimeoutError\u001b[0m: [Errno 60] Operation timed out",
      "\nDuring handling of the above exception, another exception occurred:\n",
      "\u001b[0;31mConnectTimeoutError\u001b[0m                       Traceback (most recent call last)",
      "File \u001b[0;32m~/.pyenv/versions/3.10.1/lib/python3.10/site-packages/urllib3/connectionpool.py:703\u001b[0m, in \u001b[0;36mHTTPConnectionPool.urlopen\u001b[0;34m(self, method, url, body, headers, retries, redirect, assert_same_host, timeout, pool_timeout, release_conn, chunked, body_pos, **response_kw)\u001b[0m\n\u001b[1;32m    702\u001b[0m \u001b[38;5;66;03m# Make the request on the httplib connection object.\u001b[39;00m\n\u001b[0;32m--> 703\u001b[0m httplib_response \u001b[38;5;241m=\u001b[39m \u001b[38;5;28;43mself\u001b[39;49m\u001b[38;5;241;43m.\u001b[39;49m\u001b[43m_make_request\u001b[49m\u001b[43m(\u001b[49m\n\u001b[1;32m    704\u001b[0m \u001b[43m    \u001b[49m\u001b[43mconn\u001b[49m\u001b[43m,\u001b[49m\n\u001b[1;32m    705\u001b[0m \u001b[43m    \u001b[49m\u001b[43mmethod\u001b[49m\u001b[43m,\u001b[49m\n\u001b[1;32m    706\u001b[0m \u001b[43m    \u001b[49m\u001b[43murl\u001b[49m\u001b[43m,\u001b[49m\n\u001b[1;32m    707\u001b[0m \u001b[43m    \u001b[49m\u001b[43mtimeout\u001b[49m\u001b[38;5;241;43m=\u001b[39;49m\u001b[43mtimeout_obj\u001b[49m\u001b[43m,\u001b[49m\n\u001b[1;32m    708\u001b[0m \u001b[43m    \u001b[49m\u001b[43mbody\u001b[49m\u001b[38;5;241;43m=\u001b[39;49m\u001b[43mbody\u001b[49m\u001b[43m,\u001b[49m\n\u001b[1;32m    709\u001b[0m \u001b[43m    \u001b[49m\u001b[43mheaders\u001b[49m\u001b[38;5;241;43m=\u001b[39;49m\u001b[43mheaders\u001b[49m\u001b[43m,\u001b[49m\n\u001b[1;32m    710\u001b[0m \u001b[43m    \u001b[49m\u001b[43mchunked\u001b[49m\u001b[38;5;241;43m=\u001b[39;49m\u001b[43mchunked\u001b[49m\u001b[43m,\u001b[49m\n\u001b[1;32m    711\u001b[0m \u001b[43m\u001b[49m\u001b[43m)\u001b[49m\n\u001b[1;32m    713\u001b[0m \u001b[38;5;66;03m# If we're going to release the connection in ``finally:``, then\u001b[39;00m\n\u001b[1;32m    714\u001b[0m \u001b[38;5;66;03m# the response doesn't need to know about the connection. Otherwise\u001b[39;00m\n\u001b[1;32m    715\u001b[0m \u001b[38;5;66;03m# it will also try to release it and we'll have a double-release\u001b[39;00m\n\u001b[1;32m    716\u001b[0m \u001b[38;5;66;03m# mess.\u001b[39;00m\n",
      "File \u001b[0;32m~/.pyenv/versions/3.10.1/lib/python3.10/site-packages/urllib3/connectionpool.py:386\u001b[0m, in \u001b[0;36mHTTPConnectionPool._make_request\u001b[0;34m(self, conn, method, url, timeout, chunked, **httplib_request_kw)\u001b[0m\n\u001b[1;32m    385\u001b[0m \u001b[38;5;28;01mtry\u001b[39;00m:\n\u001b[0;32m--> 386\u001b[0m     \u001b[38;5;28;43mself\u001b[39;49m\u001b[38;5;241;43m.\u001b[39;49m\u001b[43m_validate_conn\u001b[49m\u001b[43m(\u001b[49m\u001b[43mconn\u001b[49m\u001b[43m)\u001b[49m\n\u001b[1;32m    387\u001b[0m \u001b[38;5;28;01mexcept\u001b[39;00m (SocketTimeout, BaseSSLError) \u001b[38;5;28;01mas\u001b[39;00m e:\n\u001b[1;32m    388\u001b[0m     \u001b[38;5;66;03m# Py2 raises this as a BaseSSLError, Py3 raises it as socket timeout.\u001b[39;00m\n",
      "File \u001b[0;32m~/.pyenv/versions/3.10.1/lib/python3.10/site-packages/urllib3/connectionpool.py:1042\u001b[0m, in \u001b[0;36mHTTPSConnectionPool._validate_conn\u001b[0;34m(self, conn)\u001b[0m\n\u001b[1;32m   1041\u001b[0m \u001b[38;5;28;01mif\u001b[39;00m \u001b[38;5;129;01mnot\u001b[39;00m \u001b[38;5;28mgetattr\u001b[39m(conn, \u001b[38;5;124m\"\u001b[39m\u001b[38;5;124msock\u001b[39m\u001b[38;5;124m\"\u001b[39m, \u001b[38;5;28;01mNone\u001b[39;00m):  \u001b[38;5;66;03m# AppEngine might not have  `.sock`\u001b[39;00m\n\u001b[0;32m-> 1042\u001b[0m     \u001b[43mconn\u001b[49m\u001b[38;5;241;43m.\u001b[39;49m\u001b[43mconnect\u001b[49m\u001b[43m(\u001b[49m\u001b[43m)\u001b[49m\n\u001b[1;32m   1044\u001b[0m \u001b[38;5;28;01mif\u001b[39;00m \u001b[38;5;129;01mnot\u001b[39;00m conn\u001b[38;5;241m.\u001b[39mis_verified:\n",
      "File \u001b[0;32m~/.pyenv/versions/3.10.1/lib/python3.10/site-packages/urllib3/connection.py:358\u001b[0m, in \u001b[0;36mHTTPSConnection.connect\u001b[0;34m(self)\u001b[0m\n\u001b[1;32m    356\u001b[0m \u001b[38;5;28;01mdef\u001b[39;00m \u001b[38;5;21mconnect\u001b[39m(\u001b[38;5;28mself\u001b[39m):\n\u001b[1;32m    357\u001b[0m     \u001b[38;5;66;03m# Add certificate verification\u001b[39;00m\n\u001b[0;32m--> 358\u001b[0m     \u001b[38;5;28mself\u001b[39m\u001b[38;5;241m.\u001b[39msock \u001b[38;5;241m=\u001b[39m conn \u001b[38;5;241m=\u001b[39m \u001b[38;5;28;43mself\u001b[39;49m\u001b[38;5;241;43m.\u001b[39;49m\u001b[43m_new_conn\u001b[49m\u001b[43m(\u001b[49m\u001b[43m)\u001b[49m\n\u001b[1;32m    359\u001b[0m     hostname \u001b[38;5;241m=\u001b[39m \u001b[38;5;28mself\u001b[39m\u001b[38;5;241m.\u001b[39mhost\n",
      "File \u001b[0;32m~/.pyenv/versions/3.10.1/lib/python3.10/site-packages/urllib3/connection.py:179\u001b[0m, in \u001b[0;36mHTTPConnection._new_conn\u001b[0;34m(self)\u001b[0m\n\u001b[1;32m    178\u001b[0m \u001b[38;5;28;01mexcept\u001b[39;00m SocketTimeout:\n\u001b[0;32m--> 179\u001b[0m     \u001b[38;5;28;01mraise\u001b[39;00m ConnectTimeoutError(\n\u001b[1;32m    180\u001b[0m         \u001b[38;5;28mself\u001b[39m,\n\u001b[1;32m    181\u001b[0m         \u001b[38;5;124m\"\u001b[39m\u001b[38;5;124mConnection to \u001b[39m\u001b[38;5;132;01m%s\u001b[39;00m\u001b[38;5;124m timed out. (connect timeout=\u001b[39m\u001b[38;5;132;01m%s\u001b[39;00m\u001b[38;5;124m)\u001b[39m\u001b[38;5;124m\"\u001b[39m\n\u001b[1;32m    182\u001b[0m         \u001b[38;5;241m%\u001b[39m (\u001b[38;5;28mself\u001b[39m\u001b[38;5;241m.\u001b[39mhost, \u001b[38;5;28mself\u001b[39m\u001b[38;5;241m.\u001b[39mtimeout),\n\u001b[1;32m    183\u001b[0m     )\n\u001b[1;32m    185\u001b[0m \u001b[38;5;28;01mexcept\u001b[39;00m SocketError \u001b[38;5;28;01mas\u001b[39;00m e:\n",
      "\u001b[0;31mConnectTimeoutError\u001b[0m: (<urllib3.connection.HTTPSConnection object at 0x11f469d20>, 'Connection to www.babelio.com timed out. (connect timeout=None)')",
      "\nDuring handling of the above exception, another exception occurred:\n",
      "\u001b[0;31mMaxRetryError\u001b[0m                             Traceback (most recent call last)",
      "File \u001b[0;32m~/.pyenv/versions/3.10.1/lib/python3.10/site-packages/requests/adapters.py:489\u001b[0m, in \u001b[0;36mHTTPAdapter.send\u001b[0;34m(self, request, stream, timeout, verify, cert, proxies)\u001b[0m\n\u001b[1;32m    488\u001b[0m \u001b[38;5;28;01mif\u001b[39;00m \u001b[38;5;129;01mnot\u001b[39;00m chunked:\n\u001b[0;32m--> 489\u001b[0m     resp \u001b[38;5;241m=\u001b[39m \u001b[43mconn\u001b[49m\u001b[38;5;241;43m.\u001b[39;49m\u001b[43murlopen\u001b[49m\u001b[43m(\u001b[49m\n\u001b[1;32m    490\u001b[0m \u001b[43m        \u001b[49m\u001b[43mmethod\u001b[49m\u001b[38;5;241;43m=\u001b[39;49m\u001b[43mrequest\u001b[49m\u001b[38;5;241;43m.\u001b[39;49m\u001b[43mmethod\u001b[49m\u001b[43m,\u001b[49m\n\u001b[1;32m    491\u001b[0m \u001b[43m        \u001b[49m\u001b[43murl\u001b[49m\u001b[38;5;241;43m=\u001b[39;49m\u001b[43murl\u001b[49m\u001b[43m,\u001b[49m\n\u001b[1;32m    492\u001b[0m \u001b[43m        \u001b[49m\u001b[43mbody\u001b[49m\u001b[38;5;241;43m=\u001b[39;49m\u001b[43mrequest\u001b[49m\u001b[38;5;241;43m.\u001b[39;49m\u001b[43mbody\u001b[49m\u001b[43m,\u001b[49m\n\u001b[1;32m    493\u001b[0m \u001b[43m        \u001b[49m\u001b[43mheaders\u001b[49m\u001b[38;5;241;43m=\u001b[39;49m\u001b[43mrequest\u001b[49m\u001b[38;5;241;43m.\u001b[39;49m\u001b[43mheaders\u001b[49m\u001b[43m,\u001b[49m\n\u001b[1;32m    494\u001b[0m \u001b[43m        \u001b[49m\u001b[43mredirect\u001b[49m\u001b[38;5;241;43m=\u001b[39;49m\u001b[38;5;28;43;01mFalse\u001b[39;49;00m\u001b[43m,\u001b[49m\n\u001b[1;32m    495\u001b[0m \u001b[43m        \u001b[49m\u001b[43massert_same_host\u001b[49m\u001b[38;5;241;43m=\u001b[39;49m\u001b[38;5;28;43;01mFalse\u001b[39;49;00m\u001b[43m,\u001b[49m\n\u001b[1;32m    496\u001b[0m \u001b[43m        \u001b[49m\u001b[43mpreload_content\u001b[49m\u001b[38;5;241;43m=\u001b[39;49m\u001b[38;5;28;43;01mFalse\u001b[39;49;00m\u001b[43m,\u001b[49m\n\u001b[1;32m    497\u001b[0m \u001b[43m        \u001b[49m\u001b[43mdecode_content\u001b[49m\u001b[38;5;241;43m=\u001b[39;49m\u001b[38;5;28;43;01mFalse\u001b[39;49;00m\u001b[43m,\u001b[49m\n\u001b[1;32m    498\u001b[0m \u001b[43m        \u001b[49m\u001b[43mretries\u001b[49m\u001b[38;5;241;43m=\u001b[39;49m\u001b[38;5;28;43mself\u001b[39;49m\u001b[38;5;241;43m.\u001b[39;49m\u001b[43mmax_retries\u001b[49m\u001b[43m,\u001b[49m\n\u001b[1;32m    499\u001b[0m \u001b[43m        \u001b[49m\u001b[43mtimeout\u001b[49m\u001b[38;5;241;43m=\u001b[39;49m\u001b[43mtimeout\u001b[49m\u001b[43m,\u001b[49m\n\u001b[1;32m    500\u001b[0m \u001b[43m    \u001b[49m\u001b[43m)\u001b[49m\n\u001b[1;32m    502\u001b[0m \u001b[38;5;66;03m# Send the request.\u001b[39;00m\n\u001b[1;32m    503\u001b[0m \u001b[38;5;28;01melse\u001b[39;00m:\n",
      "File \u001b[0;32m~/.pyenv/versions/3.10.1/lib/python3.10/site-packages/urllib3/connectionpool.py:787\u001b[0m, in \u001b[0;36mHTTPConnectionPool.urlopen\u001b[0;34m(self, method, url, body, headers, retries, redirect, assert_same_host, timeout, pool_timeout, release_conn, chunked, body_pos, **response_kw)\u001b[0m\n\u001b[1;32m    785\u001b[0m     e \u001b[38;5;241m=\u001b[39m ProtocolError(\u001b[38;5;124m\"\u001b[39m\u001b[38;5;124mConnection aborted.\u001b[39m\u001b[38;5;124m\"\u001b[39m, e)\n\u001b[0;32m--> 787\u001b[0m retries \u001b[38;5;241m=\u001b[39m \u001b[43mretries\u001b[49m\u001b[38;5;241;43m.\u001b[39;49m\u001b[43mincrement\u001b[49m\u001b[43m(\u001b[49m\n\u001b[1;32m    788\u001b[0m \u001b[43m    \u001b[49m\u001b[43mmethod\u001b[49m\u001b[43m,\u001b[49m\u001b[43m \u001b[49m\u001b[43murl\u001b[49m\u001b[43m,\u001b[49m\u001b[43m \u001b[49m\u001b[43merror\u001b[49m\u001b[38;5;241;43m=\u001b[39;49m\u001b[43me\u001b[49m\u001b[43m,\u001b[49m\u001b[43m \u001b[49m\u001b[43m_pool\u001b[49m\u001b[38;5;241;43m=\u001b[39;49m\u001b[38;5;28;43mself\u001b[39;49m\u001b[43m,\u001b[49m\u001b[43m \u001b[49m\u001b[43m_stacktrace\u001b[49m\u001b[38;5;241;43m=\u001b[39;49m\u001b[43msys\u001b[49m\u001b[38;5;241;43m.\u001b[39;49m\u001b[43mexc_info\u001b[49m\u001b[43m(\u001b[49m\u001b[43m)\u001b[49m\u001b[43m[\u001b[49m\u001b[38;5;241;43m2\u001b[39;49m\u001b[43m]\u001b[49m\n\u001b[1;32m    789\u001b[0m \u001b[43m\u001b[49m\u001b[43m)\u001b[49m\n\u001b[1;32m    790\u001b[0m retries\u001b[38;5;241m.\u001b[39msleep()\n",
      "File \u001b[0;32m~/.pyenv/versions/3.10.1/lib/python3.10/site-packages/urllib3/util/retry.py:592\u001b[0m, in \u001b[0;36mRetry.increment\u001b[0;34m(self, method, url, response, error, _pool, _stacktrace)\u001b[0m\n\u001b[1;32m    591\u001b[0m \u001b[38;5;28;01mif\u001b[39;00m new_retry\u001b[38;5;241m.\u001b[39mis_exhausted():\n\u001b[0;32m--> 592\u001b[0m     \u001b[38;5;28;01mraise\u001b[39;00m MaxRetryError(_pool, url, error \u001b[38;5;129;01mor\u001b[39;00m ResponseError(cause))\n\u001b[1;32m    594\u001b[0m log\u001b[38;5;241m.\u001b[39mdebug(\u001b[38;5;124m\"\u001b[39m\u001b[38;5;124mIncremented Retry for (url=\u001b[39m\u001b[38;5;124m'\u001b[39m\u001b[38;5;132;01m%s\u001b[39;00m\u001b[38;5;124m'\u001b[39m\u001b[38;5;124m): \u001b[39m\u001b[38;5;132;01m%r\u001b[39;00m\u001b[38;5;124m\"\u001b[39m, url, new_retry)\n",
      "\u001b[0;31mMaxRetryError\u001b[0m: HTTPSConnectionPool(host='www.babelio.com', port=443): Max retries exceeded with url: / (Caused by ConnectTimeoutError(<urllib3.connection.HTTPSConnection object at 0x11f469d20>, 'Connection to www.babelio.com timed out. (connect timeout=None)'))",
      "\nDuring handling of the above exception, another exception occurred:\n",
      "\u001b[0;31mConnectTimeout\u001b[0m                            Traceback (most recent call last)",
      "Cell \u001b[0;32mIn [19], line 1\u001b[0m\n\u001b[0;32m----> 1\u001b[0m book_info \u001b[38;5;241m=\u001b[39m \u001b[43mget_html_from_link\u001b[49m\u001b[43m(\u001b[49m\u001b[43mURL_BOOK_BASE\u001b[49m\u001b[43m)\u001b[49m\n",
      "Cell \u001b[0;32mIn [18], line 10\u001b[0m, in \u001b[0;36mget_html_from_link\u001b[0;34m(page_link)\u001b[0m\n\u001b[1;32m      1\u001b[0m \u001b[38;5;28;01mdef\u001b[39;00m \u001b[38;5;21mget_html_from_link\u001b[39m(page_link):\n\u001b[1;32m      2\u001b[0m     \u001b[38;5;124;03m'''\u001b[39;00m\n\u001b[1;32m      3\u001b[0m \u001b[38;5;124;03m        Get HTML from web page and parse it.\u001b[39;00m\n\u001b[1;32m      4\u001b[0m \n\u001b[0;32m   (...)\u001b[0m\n\u001b[1;32m      8\u001b[0m \u001b[38;5;124;03m        :rtype: bs4.BeautifulSoup\u001b[39;00m\n\u001b[1;32m      9\u001b[0m \u001b[38;5;124;03m    '''\u001b[39;00m\n\u001b[0;32m---> 10\u001b[0m     page \u001b[38;5;241m=\u001b[39m \u001b[43mrequests\u001b[49m\u001b[38;5;241;43m.\u001b[39;49m\u001b[43mget\u001b[49m\u001b[43m(\u001b[49m\u001b[43mpage_link\u001b[49m\u001b[43m)\u001b[49m\n\u001b[1;32m     11\u001b[0m     soup \u001b[38;5;241m=\u001b[39m BeautifulSoup(page\u001b[38;5;241m.\u001b[39mcontent, \u001b[38;5;124m'\u001b[39m\u001b[38;5;124mhtml.parser\u001b[39m\u001b[38;5;124m'\u001b[39m)\n\u001b[1;32m     13\u001b[0m     \u001b[38;5;28;01mreturn\u001b[39;00m soup\n",
      "File \u001b[0;32m~/.pyenv/versions/3.10.1/lib/python3.10/site-packages/requests/api.py:73\u001b[0m, in \u001b[0;36mget\u001b[0;34m(url, params, **kwargs)\u001b[0m\n\u001b[1;32m     62\u001b[0m \u001b[38;5;28;01mdef\u001b[39;00m \u001b[38;5;21mget\u001b[39m(url, params\u001b[38;5;241m=\u001b[39m\u001b[38;5;28;01mNone\u001b[39;00m, \u001b[38;5;241m*\u001b[39m\u001b[38;5;241m*\u001b[39mkwargs):\n\u001b[1;32m     63\u001b[0m     \u001b[38;5;124mr\u001b[39m\u001b[38;5;124;03m\"\"\"Sends a GET request.\u001b[39;00m\n\u001b[1;32m     64\u001b[0m \n\u001b[1;32m     65\u001b[0m \u001b[38;5;124;03m    :param url: URL for the new :class:`Request` object.\u001b[39;00m\n\u001b[0;32m   (...)\u001b[0m\n\u001b[1;32m     70\u001b[0m \u001b[38;5;124;03m    :rtype: requests.Response\u001b[39;00m\n\u001b[1;32m     71\u001b[0m \u001b[38;5;124;03m    \"\"\"\u001b[39;00m\n\u001b[0;32m---> 73\u001b[0m     \u001b[38;5;28;01mreturn\u001b[39;00m \u001b[43mrequest\u001b[49m\u001b[43m(\u001b[49m\u001b[38;5;124;43m\"\u001b[39;49m\u001b[38;5;124;43mget\u001b[39;49m\u001b[38;5;124;43m\"\u001b[39;49m\u001b[43m,\u001b[49m\u001b[43m \u001b[49m\u001b[43murl\u001b[49m\u001b[43m,\u001b[49m\u001b[43m \u001b[49m\u001b[43mparams\u001b[49m\u001b[38;5;241;43m=\u001b[39;49m\u001b[43mparams\u001b[49m\u001b[43m,\u001b[49m\u001b[43m \u001b[49m\u001b[38;5;241;43m*\u001b[39;49m\u001b[38;5;241;43m*\u001b[39;49m\u001b[43mkwargs\u001b[49m\u001b[43m)\u001b[49m\n",
      "File \u001b[0;32m~/.pyenv/versions/3.10.1/lib/python3.10/site-packages/requests/api.py:59\u001b[0m, in \u001b[0;36mrequest\u001b[0;34m(method, url, **kwargs)\u001b[0m\n\u001b[1;32m     55\u001b[0m \u001b[38;5;66;03m# By using the 'with' statement we are sure the session is closed, thus we\u001b[39;00m\n\u001b[1;32m     56\u001b[0m \u001b[38;5;66;03m# avoid leaving sockets open which can trigger a ResourceWarning in some\u001b[39;00m\n\u001b[1;32m     57\u001b[0m \u001b[38;5;66;03m# cases, and look like a memory leak in others.\u001b[39;00m\n\u001b[1;32m     58\u001b[0m \u001b[38;5;28;01mwith\u001b[39;00m sessions\u001b[38;5;241m.\u001b[39mSession() \u001b[38;5;28;01mas\u001b[39;00m session:\n\u001b[0;32m---> 59\u001b[0m     \u001b[38;5;28;01mreturn\u001b[39;00m \u001b[43msession\u001b[49m\u001b[38;5;241;43m.\u001b[39;49m\u001b[43mrequest\u001b[49m\u001b[43m(\u001b[49m\u001b[43mmethod\u001b[49m\u001b[38;5;241;43m=\u001b[39;49m\u001b[43mmethod\u001b[49m\u001b[43m,\u001b[49m\u001b[43m \u001b[49m\u001b[43murl\u001b[49m\u001b[38;5;241;43m=\u001b[39;49m\u001b[43murl\u001b[49m\u001b[43m,\u001b[49m\u001b[43m \u001b[49m\u001b[38;5;241;43m*\u001b[39;49m\u001b[38;5;241;43m*\u001b[39;49m\u001b[43mkwargs\u001b[49m\u001b[43m)\u001b[49m\n",
      "File \u001b[0;32m~/.pyenv/versions/3.10.1/lib/python3.10/site-packages/requests/sessions.py:587\u001b[0m, in \u001b[0;36mSession.request\u001b[0;34m(self, method, url, params, data, headers, cookies, files, auth, timeout, allow_redirects, proxies, hooks, stream, verify, cert, json)\u001b[0m\n\u001b[1;32m    582\u001b[0m send_kwargs \u001b[38;5;241m=\u001b[39m {\n\u001b[1;32m    583\u001b[0m     \u001b[38;5;124m\"\u001b[39m\u001b[38;5;124mtimeout\u001b[39m\u001b[38;5;124m\"\u001b[39m: timeout,\n\u001b[1;32m    584\u001b[0m     \u001b[38;5;124m\"\u001b[39m\u001b[38;5;124mallow_redirects\u001b[39m\u001b[38;5;124m\"\u001b[39m: allow_redirects,\n\u001b[1;32m    585\u001b[0m }\n\u001b[1;32m    586\u001b[0m send_kwargs\u001b[38;5;241m.\u001b[39mupdate(settings)\n\u001b[0;32m--> 587\u001b[0m resp \u001b[38;5;241m=\u001b[39m \u001b[38;5;28;43mself\u001b[39;49m\u001b[38;5;241;43m.\u001b[39;49m\u001b[43msend\u001b[49m\u001b[43m(\u001b[49m\u001b[43mprep\u001b[49m\u001b[43m,\u001b[49m\u001b[43m \u001b[49m\u001b[38;5;241;43m*\u001b[39;49m\u001b[38;5;241;43m*\u001b[39;49m\u001b[43msend_kwargs\u001b[49m\u001b[43m)\u001b[49m\n\u001b[1;32m    589\u001b[0m \u001b[38;5;28;01mreturn\u001b[39;00m resp\n",
      "File \u001b[0;32m~/.pyenv/versions/3.10.1/lib/python3.10/site-packages/requests/sessions.py:701\u001b[0m, in \u001b[0;36mSession.send\u001b[0;34m(self, request, **kwargs)\u001b[0m\n\u001b[1;32m    698\u001b[0m start \u001b[38;5;241m=\u001b[39m preferred_clock()\n\u001b[1;32m    700\u001b[0m \u001b[38;5;66;03m# Send the request\u001b[39;00m\n\u001b[0;32m--> 701\u001b[0m r \u001b[38;5;241m=\u001b[39m \u001b[43madapter\u001b[49m\u001b[38;5;241;43m.\u001b[39;49m\u001b[43msend\u001b[49m\u001b[43m(\u001b[49m\u001b[43mrequest\u001b[49m\u001b[43m,\u001b[49m\u001b[43m \u001b[49m\u001b[38;5;241;43m*\u001b[39;49m\u001b[38;5;241;43m*\u001b[39;49m\u001b[43mkwargs\u001b[49m\u001b[43m)\u001b[49m\n\u001b[1;32m    703\u001b[0m \u001b[38;5;66;03m# Total elapsed time of the request (approximately)\u001b[39;00m\n\u001b[1;32m    704\u001b[0m elapsed \u001b[38;5;241m=\u001b[39m preferred_clock() \u001b[38;5;241m-\u001b[39m start\n",
      "File \u001b[0;32m~/.pyenv/versions/3.10.1/lib/python3.10/site-packages/requests/adapters.py:553\u001b[0m, in \u001b[0;36mHTTPAdapter.send\u001b[0;34m(self, request, stream, timeout, verify, cert, proxies)\u001b[0m\n\u001b[1;32m    550\u001b[0m \u001b[38;5;28;01mif\u001b[39;00m \u001b[38;5;28misinstance\u001b[39m(e\u001b[38;5;241m.\u001b[39mreason, ConnectTimeoutError):\n\u001b[1;32m    551\u001b[0m     \u001b[38;5;66;03m# TODO: Remove this in 3.0.0: see #2811\u001b[39;00m\n\u001b[1;32m    552\u001b[0m     \u001b[38;5;28;01mif\u001b[39;00m \u001b[38;5;129;01mnot\u001b[39;00m \u001b[38;5;28misinstance\u001b[39m(e\u001b[38;5;241m.\u001b[39mreason, NewConnectionError):\n\u001b[0;32m--> 553\u001b[0m         \u001b[38;5;28;01mraise\u001b[39;00m ConnectTimeout(e, request\u001b[38;5;241m=\u001b[39mrequest)\n\u001b[1;32m    555\u001b[0m \u001b[38;5;28;01mif\u001b[39;00m \u001b[38;5;28misinstance\u001b[39m(e\u001b[38;5;241m.\u001b[39mreason, ResponseError):\n\u001b[1;32m    556\u001b[0m     \u001b[38;5;28;01mraise\u001b[39;00m RetryError(e, request\u001b[38;5;241m=\u001b[39mrequest)\n",
      "\u001b[0;31mConnectTimeout\u001b[0m: HTTPSConnectionPool(host='www.babelio.com', port=443): Max retries exceeded with url: / (Caused by ConnectTimeoutError(<urllib3.connection.HTTPSConnection object at 0x11f469d20>, 'Connection to www.babelio.com timed out. (connect timeout=None)'))"
     ]
    }
   ],
   "source": [
    "book_info = get_html_from_link(URL_BOOK_BASE)"
   ]
  },
  {
   "cell_type": "code",
   "execution_count": null,
   "metadata": {
    "ExecuteTime": {
     "end_time": "2020-10-13T12:47:02.325400Z",
     "start_time": "2020-10-13T12:47:02.318168Z"
    },
    "id": "u5uZYUVezuN0"
   },
   "outputs": [],
   "source": [
    "def extract_book_info(book_html):\n",
    "    # print('func extract_book_info')\n",
    "    '''\n",
    "        Extract book infos from URL BOOK HTML\n",
    "\n",
    "        :param book_html: BeautifulSoup Element that contains book infos\n",
    "        :type book_html: bs4.element.Tag\n",
    "        :return:\n",
    "            - book_links: link to the book page\n",
    "            - book_title : title of the book\n",
    "            - book_image_link: link to the image of the book\n",
    "        :rtype: tuple(string, string, string)\n",
    "    '''\n",
    "\n",
    "    # TODO : Get book_link, book_title and book_image_link from book_html and return this tuple\n",
    "    \n",
    "    # all_data = get_html_from_link(book_html)\n",
    "    # book_links = all_data.find('div', class_='list_livre_con').find_all('a')[0]['href'] # 1st book\n",
    "    \n",
    "    book_info = get_html_from_link(book_html)\n",
    "    \n",
    "    book_links = book_html    \n",
    "    book_title = book_info.find('h1').find('a').text.replace('\\t','').replace('\\n','')\n",
    "    book_image_link = book_info.find('div', class_='livre_con').find('img')['src']\n",
    "    \n",
    "    return book_links, book_title, book_image_link"
   ]
  },
  {
   "cell_type": "code",
   "execution_count": 10,
   "metadata": {
    "id": "eAPFsnlnzuN1"
   },
   "outputs": [],
   "source": [
    "book_html = 'https://www.babelio.com/livres/Skenandore-Pour-lhonneur-de-tous-les-miens/1455974'\n",
    "book_links, book_title, book_image_link = extract_book_info(book_html)"
   ]
  },
  {
   "cell_type": "code",
   "execution_count": 11,
   "metadata": {
    "colab": {
     "base_uri": "https://localhost:8080/"
    },
    "id": "dPwIOnENzuN1",
    "outputId": "73ebab82-2cde-43b0-eb0a-544340d25640"
   },
   "outputs": [
    {
     "name": "stdout",
     "output_type": "stream",
     "text": [
      "book links - https://www.babelio.com/livres/Skenandore-Pour-lhonneur-de-tous-les-miens/1455974\n",
      "book title - Pour l'honneur de tous les miens\n",
      "book image link -  https://www.babelio.com/couv/CVT_Pour-lhonneur-de-tous-les-miens-Un-roman-dechira_3436.jpg\n"
     ]
    }
   ],
   "source": [
    "print('book links -', book_links)\n",
    "print('book title -', book_title)\n",
    "print('book image link - ', URL_BOOK_BASE+book_image_link)"
   ]
  },
  {
   "cell_type": "code",
   "execution_count": 12,
   "metadata": {
    "ExecuteTime": {
     "end_time": "2020-10-11T19:59:26.491180Z",
     "start_time": "2020-10-11T19:59:26.484945Z"
    },
    "id": "DDpysqpMzuN1"
   },
   "outputs": [],
   "source": [
    "def extract_author_info(author_html):\n",
    "    # print('func extract_author_info')\n",
    "    '''\n",
    "        Extract author info from URL BOOK HTML\n",
    "\n",
    "        :param author_html: BeautifulSoup Element that contains author info\n",
    "        :type author_html: bs4.element.Tag\n",
    "        :return:\n",
    "            - author_links: link to the author page\n",
    "            - author_name : name of the author\n",
    "        :rtype: tuple(string, string)\n",
    "    '''\n",
    "\n",
    "    # TODO : Get author_links, author_name from author_html and return this tuple\n",
    "    book_info = get_html_from_link(author_html)\n",
    "    \n",
    "#     author_links = book_info.find('div', class_='livre_con').find('span').find('a')['href']\n",
    "    author_links = book_info.find('div', class_='livre_con').find(\"span\", itemprop=\"author\").find('a')['href']\n",
    "    author_name = book_info.find('div', class_='livre_con').find('span', itemprop='name').text\n",
    "    \n",
    "    return author_links, author_name"
   ]
  },
  {
   "cell_type": "code",
   "execution_count": 13,
   "metadata": {
    "id": "cc4ZfGjGzuN3"
   },
   "outputs": [],
   "source": [
    "author_html = book_links\n",
    "author_links, author_name = extract_author_info(author_html)"
   ]
  },
  {
   "cell_type": "code",
   "execution_count": 14,
   "metadata": {
    "colab": {
     "base_uri": "https://localhost:8080/"
    },
    "id": "F5m6YDyZzuN3",
    "outputId": "f5d40d69-99b8-404c-c386-2bc0bc9ab1b0"
   },
   "outputs": [
    {
     "name": "stdout",
     "output_type": "stream",
     "text": [
      "author links - https://www.babelio.com/auteur/Amanda-Skenandore/629754\n",
      "author name - Amanda Skenandore\n"
     ]
    }
   ],
   "source": [
    "print('author links -', URL_BOOK_BASE + author_links)\n",
    "print('author name -', author_name)"
   ]
  },
  {
   "cell_type": "code",
   "execution_count": 15,
   "metadata": {
    "ExecuteTime": {
     "end_time": "2020-10-11T19:59:26.501447Z",
     "start_time": "2020-10-11T19:59:26.493719Z"
    },
    "id": "8jSK6cGJzuN3"
   },
   "outputs": [],
   "source": [
    "def extract_rate_from_book_page(book_link):\n",
    "    # print('func extract_rate_from_book_page')\n",
    "    '''\n",
    "        Extract rate from book details page\n",
    "\n",
    "        :param book_link: link of the book we want to extract rate\n",
    "        :type book_link: string\n",
    "        :return: rate: rate of the book\n",
    "        :rtype: float\n",
    "\n",
    "    '''\n",
    "    \n",
    "    # TODO : get html of book page, get rate from parsed html and return rate as float or nan value if there is no rate.\n",
    "    book_info = get_html_from_link(book_link)\n",
    "    rate = book_info.find('div', class_='livre_con').find('span', itemprop = 'ratingValue').text \n",
    "    if not rate:\n",
    "        rate = 0\n",
    "    \n",
    "    return rate"
   ]
  },
  {
   "cell_type": "code",
   "execution_count": 16,
   "metadata": {
    "id": "BXbDUseCzuN4"
   },
   "outputs": [],
   "source": [
    "rate = extract_rate_from_book_page(book_links)"
   ]
  },
  {
   "cell_type": "code",
   "execution_count": 17,
   "metadata": {
    "colab": {
     "base_uri": "https://localhost:8080/"
    },
    "id": "M9zRtUWqzuN4",
    "outputId": "e655d051-59c8-4143-e966-76f04d50dffd"
   },
   "outputs": [
    {
     "name": "stdout",
     "output_type": "stream",
     "text": [
      "rate = 4.57\n"
     ]
    }
   ],
   "source": [
    "print('rate =', rate)"
   ]
  },
  {
   "cell_type": "code",
   "execution_count": 18,
   "metadata": {
    "id": "MUkoaZThzuN4"
   },
   "outputs": [],
   "source": [
    "def how_many_books_on_the_page(page_link):\n",
    "    # print('func how_many_books_on_the_page')\n",
    "    data = get_html_from_link(page_link).find('div', class_='list_livre_con').find_all('div')\n",
    "    number_of_books = len(data)\n",
    "    return number_of_books\n",
    "\n",
    "# page_link = 'https://www.babelio.com/livrespopulaires_debut.php'\n",
    "# how_many_books_on_the_page(page_link)"
   ]
  },
  {
   "cell_type": "code",
   "execution_count": 19,
   "metadata": {
    "ExecuteTime": {
     "end_time": "2020-10-11T19:59:26.517163Z",
     "start_time": "2020-10-11T19:59:26.504322Z"
    },
    "id": "iY0vQZcPzuN5"
   },
   "outputs": [],
   "source": [
    "def get_info_from_page(page_link):\n",
    "    # print('func get_info_from_page')\n",
    "    '''\n",
    "        Get Info from Bebelio page that contains list of books\n",
    "\n",
    "        :param page_link: link of the webpage we want to scrap\n",
    "        :type: page_link: string\n",
    "        :return info_list: list that contains book info (book_links,\n",
    "        book_title, book_image) and author info (author_links, author_name)\n",
    "        :rtype: List\n",
    "    '''\n",
    "\n",
    "    # TODO : get html from page_link, extract books from html (1), \n",
    "    #  iterate over books and for each book, extract book info html and author info html, \n",
    "    #  use functions to extract book info and author info and store all these\n",
    "    #  information in a list (2) and return it\n",
    "    #  Hints :\n",
    "    #   (1) Analyze html code and use Beautiful soup function to find elements (take a look at html tag\n",
    "    #       AND class attributes)\n",
    "    #   (2) Append a tuple of all information for each book\n",
    "    \n",
    "    all_data = get_html_from_link(page_link)\n",
    "    \n",
    "    # max_book = 4\n",
    "    max_book = how_many_books_on_the_page(page_link)\n",
    "    max_book = max_book * 2\n",
    "    all_books = range(0, max_book, 2)\n",
    "    \n",
    "    info_list = list()\n",
    "    \n",
    "    for book in all_books:\n",
    "        # get book link\n",
    "        book_link_part = all_data.find('div', class_='list_livre_con').find_all('a')[book]['href']\n",
    "        # print(book_link_part)\n",
    "    \n",
    "        # get full link of book\n",
    "        boook_link = URL_BOOK_BASE + book_link_part\n",
    "        \n",
    "        # extract information \n",
    "        book_link, book_title, book_image_link = extract_book_info(boook_link)\n",
    "        author_links, author_name = extract_author_info(boook_link)\n",
    "        data_book_rate = extract_rate_from_book_page(boook_link)\n",
    "        \n",
    "        # get info about one book, make a tuple\n",
    "        book_info = [book_link, book_title, book_image_link, author_links, author_name, data_book_rate]\n",
    "\n",
    "        # append info of a book into list of books info\n",
    "        info_list.append(book_info)\n",
    "        \n",
    "    return info_list"
   ]
  },
  {
   "cell_type": "code",
   "execution_count": 20,
   "metadata": {
    "id": "yOuDdGpmzuN5"
   },
   "outputs": [],
   "source": [
    "# all books\n",
    "page_link = 'https://www.babelio.com/livrespopulaires_debut.php'"
   ]
  },
  {
   "cell_type": "code",
   "execution_count": 21,
   "metadata": {
    "id": "I56M0uNazuN5"
   },
   "outputs": [],
   "source": [
    "# info_list = get_info_from_page(page_link)\n",
    "# info_list"
   ]
  },
  {
   "cell_type": "code",
   "execution_count": 22,
   "metadata": {
    "id": "q7DltUuUzuN5"
   },
   "outputs": [],
   "source": [
    "def auth_wiki_info(author_name):\n",
    "    auth_wiki_info = 'todo: auth_wiki_info' \n",
    "    return auth_wiki_info "
   ]
  },
  {
   "cell_type": "code",
   "execution_count": 23,
   "metadata": {
    "colab": {
     "base_uri": "https://localhost:8080/",
     "height": 37
    },
    "id": "b4ladiVBzuN5",
    "outputId": "5722ad5e-6ec2-4fc4-c08b-596f8a9f47b0"
   },
   "outputs": [
    {
     "data": {
      "application/vnd.google.colaboratory.intrinsic+json": {
       "type": "string"
      },
      "text/plain": [
       "'todo: auth_wiki_info'"
      ]
     },
     "execution_count": 23,
     "metadata": {},
     "output_type": "execute_result"
    }
   ],
   "source": [
    "auth_wiki_info('test')"
   ]
  },
  {
   "cell_type": "code",
   "execution_count": 24,
   "metadata": {
    "id": "zlNrCNPpzuN5"
   },
   "outputs": [],
   "source": [
    "def get_page_link(page_number):\n",
    "    page_link = f'https://www.babelio.com/livrespopulaires_debut.php?p={page_number}'.format(page_number)\n",
    "    return page_link"
   ]
  },
  {
   "cell_type": "code",
   "execution_count": 25,
   "metadata": {
    "id": "H1HQo2AdzuN6"
   },
   "outputs": [],
   "source": [
    "page_link = 'https://www.babelio.com/livrespopulaires_debut.php'"
   ]
  },
  {
   "cell_type": "code",
   "execution_count": 26,
   "metadata": {
    "colab": {
     "base_uri": "https://localhost:8080/"
    },
    "id": "vc89X4589oww",
    "outputId": "a828ef98-b2c5-487c-d668-f0dac76b03fb"
   },
   "outputs": [
    {
     "name": "stdout",
     "output_type": "stream",
     "text": [
      "sample_data\n"
     ]
    }
   ],
   "source": [
    "!ls"
   ]
  },
  {
   "cell_type": "code",
   "execution_count": 27,
   "metadata": {
    "colab": {
     "base_uri": "https://localhost:8080/",
     "height": 37
    },
    "id": "FcaqSGN0zuN6",
    "outputId": "3ffdbbe9-57ed-46ce-ac2d-23b3096822f8"
   },
   "outputs": [
    {
     "data": {
      "application/vnd.google.colaboratory.intrinsic+json": {
       "type": "string"
      },
      "text/plain": [
       "'books_info.csv'"
      ]
     },
     "execution_count": 27,
     "metadata": {},
     "output_type": "execute_result"
    }
   ],
   "source": [
    "file_name = 'books_info'\n",
    "file_format = '.csv'\n",
    "file_name = file_name + file_format\n",
    "file_name"
   ]
  },
  {
   "cell_type": "code",
   "execution_count": 31,
   "metadata": {
    "id": "k3swAok6BY8Y"
   },
   "outputs": [],
   "source": [
    "def get_all_data_from_all_pages():\n",
    "    # pages = range(1,2)\n",
    "    # pages = range(1,3)\n",
    "    pages = range(1,4)\n",
    "    \n",
    "    all_page_data = list()\n",
    "    for page in pages:\n",
    "        page_link = get_page_link(page)\n",
    "        page_data = get_info_from_page(page_link)\n",
    "\n",
    "        all_page_data.extend(page_data)\n",
    "        \n",
    "        number_of_books_on_the_page = len(page_data)\n",
    "        print('Page ', page, ', books: ', number_of_books_on_the_page)\n",
    "    #         todo: auth_info = auth_wiki_info(author_name)\n",
    "\n",
    "    return all_page_data"
   ]
  },
  {
   "cell_type": "code",
   "execution_count": 32,
   "metadata": {
    "ExecuteTime": {
     "end_time": "2020-10-11T19:59:26.530353Z",
     "start_time": "2020-10-11T19:59:26.519559Z"
    },
    "id": "BZt5iDXEzuN7"
   },
   "outputs": [],
   "source": [
    "def collect_all_information_and_save(file_name):\n",
    "    '''\n",
    "        \"Main function\" that collects all information from scraping babelio and using wikipedia api:\n",
    "            - get info from list pages (page 1, 2, 3 and 4)\n",
    "            - get rate of each book\n",
    "            - get author information from wikipedia API (bootcamp_cri.api.api_wikipedia),\n",
    "            store all these information in a pandas dataframe with following columns :\n",
    "            - links, title, image_link, author_link, author, rate\n",
    "        and save it in csv file.\n",
    "\n",
    "        :param file_name: name of the csv file\n",
    "        :type file_name: string\n",
    "\n",
    "    '''\n",
    "    # TODO : Iterate over pages, get information for each page and store it in a list and \n",
    "    #  then create a dataframe with\n",
    "    #  these information then extract rate and put it in a column and \n",
    "    #  finally save the dataframe in a CSV file\n",
    "    all_page_data = get_all_data_from_all_pages()\n",
    "\n",
    "    book_info_column = ['links', 'title', 'image_link', 'author_link', 'author', 'rate']\n",
    "    df = pd.DataFrame(all_page_data, columns = book_info_column)  \n",
    "    display(df.head())\n",
    "\n",
    "    # df = pd.DataFrame(df_page_data, columns = book_info_column)  \n",
    "    # print('start csv')\n",
    "    df.to_csv(file_name)\n",
    "    print('Data saved into ', file_name, ' file.')"
   ]
  },
  {
   "cell_type": "code",
   "execution_count": 33,
   "metadata": {
    "colab": {
     "base_uri": "https://localhost:8080/",
     "height": 316
    },
    "id": "Tne-XVTyzuN7",
    "outputId": "0a705a42-de42-4408-f16a-904d893e4611"
   },
   "outputs": [
    {
     "name": "stdout",
     "output_type": "stream",
     "text": [
      "Page  1 , books:  40\n",
      "Page  2 , books:  40\n",
      "Page  3 , books:  104\n"
     ]
    },
    {
     "data": {
      "text/html": [
       "\n",
       "  <div id=\"df-29f18204-41dd-49f7-869e-db822173b8d6\">\n",
       "    <div class=\"colab-df-container\">\n",
       "      <div>\n",
       "<style scoped>\n",
       "    .dataframe tbody tr th:only-of-type {\n",
       "        vertical-align: middle;\n",
       "    }\n",
       "\n",
       "    .dataframe tbody tr th {\n",
       "        vertical-align: top;\n",
       "    }\n",
       "\n",
       "    .dataframe thead th {\n",
       "        text-align: right;\n",
       "    }\n",
       "</style>\n",
       "<table border=\"1\" class=\"dataframe\">\n",
       "  <thead>\n",
       "    <tr style=\"text-align: right;\">\n",
       "      <th></th>\n",
       "      <th>links</th>\n",
       "      <th>title</th>\n",
       "      <th>image_link</th>\n",
       "      <th>author_link</th>\n",
       "      <th>author</th>\n",
       "      <th>rate</th>\n",
       "    </tr>\n",
       "  </thead>\n",
       "  <tbody>\n",
       "    <tr>\n",
       "      <th>0</th>\n",
       "      <td>https://www.babelio.com/livres/Skenandore-Pour...</td>\n",
       "      <td>Pour l'honneur de tous les miens</td>\n",
       "      <td>/couv/CVT_Pour-lhonneur-de-tous-les-miens-Un-r...</td>\n",
       "      <td>/auteur/Amanda-Skenandore/629754</td>\n",
       "      <td>Amanda Skenandore</td>\n",
       "      <td>4.57</td>\n",
       "    </tr>\n",
       "    <tr>\n",
       "      <th>1</th>\n",
       "      <td>https://www.babelio.com/livres/Kristoff-Nevern...</td>\n",
       "      <td>Nevernight, tome 1 : N'oublie jamais</td>\n",
       "      <td>https://m.media-amazon.com/images/I/519RgNc1rf...</td>\n",
       "      <td>/auteur/Jay-Kristoff/325758</td>\n",
       "      <td>Jay Kristoff</td>\n",
       "      <td>4.42</td>\n",
       "    </tr>\n",
       "    <tr>\n",
       "      <th>2</th>\n",
       "      <td>https://www.babelio.com/livres/Cotroneo-La-Mai...</td>\n",
       "      <td>La Maison de verre</td>\n",
       "      <td>/couv/CVT_La-maison-de-verre_9967.jpg</td>\n",
       "      <td>/auteur/Roberto-Cotroneo/190637</td>\n",
       "      <td>Roberto Cotroneo</td>\n",
       "      <td>3.5</td>\n",
       "    </tr>\n",
       "    <tr>\n",
       "      <th>3</th>\n",
       "      <td>https://www.babelio.com/livres/Boyer-Au-coeur-...</td>\n",
       "      <td>Au coeur d'une nuit de Noël</td>\n",
       "      <td>https://m.media-amazon.com/images/I/51UJ1DD+BI...</td>\n",
       "      <td>/auteur/Erika-Boyer/412223</td>\n",
       "      <td>Erika Boyer</td>\n",
       "      <td>3.4</td>\n",
       "    </tr>\n",
       "    <tr>\n",
       "      <th>4</th>\n",
       "      <td>https://www.babelio.com/livres/Lajoinie-Le-ser...</td>\n",
       "      <td>Le serment des traqueurs</td>\n",
       "      <td>/couv/CVT_Le-serment-des-traqueurs_455.jpg</td>\n",
       "      <td>/auteur/Laetitia-Lajoinie/604238</td>\n",
       "      <td>Laetitia Lajoinie</td>\n",
       "      <td>0</td>\n",
       "    </tr>\n",
       "  </tbody>\n",
       "</table>\n",
       "</div>\n",
       "      <button class=\"colab-df-convert\" onclick=\"convertToInteractive('df-29f18204-41dd-49f7-869e-db822173b8d6')\"\n",
       "              title=\"Convert this dataframe to an interactive table.\"\n",
       "              style=\"display:none;\">\n",
       "        \n",
       "  <svg xmlns=\"http://www.w3.org/2000/svg\" height=\"24px\"viewBox=\"0 0 24 24\"\n",
       "       width=\"24px\">\n",
       "    <path d=\"M0 0h24v24H0V0z\" fill=\"none\"/>\n",
       "    <path d=\"M18.56 5.44l.94 2.06.94-2.06 2.06-.94-2.06-.94-.94-2.06-.94 2.06-2.06.94zm-11 1L8.5 8.5l.94-2.06 2.06-.94-2.06-.94L8.5 2.5l-.94 2.06-2.06.94zm10 10l.94 2.06.94-2.06 2.06-.94-2.06-.94-.94-2.06-.94 2.06-2.06.94z\"/><path d=\"M17.41 7.96l-1.37-1.37c-.4-.4-.92-.59-1.43-.59-.52 0-1.04.2-1.43.59L10.3 9.45l-7.72 7.72c-.78.78-.78 2.05 0 2.83L4 21.41c.39.39.9.59 1.41.59.51 0 1.02-.2 1.41-.59l7.78-7.78 2.81-2.81c.8-.78.8-2.07 0-2.86zM5.41 20L4 18.59l7.72-7.72 1.47 1.35L5.41 20z\"/>\n",
       "  </svg>\n",
       "      </button>\n",
       "      \n",
       "  <style>\n",
       "    .colab-df-container {\n",
       "      display:flex;\n",
       "      flex-wrap:wrap;\n",
       "      gap: 12px;\n",
       "    }\n",
       "\n",
       "    .colab-df-convert {\n",
       "      background-color: #E8F0FE;\n",
       "      border: none;\n",
       "      border-radius: 50%;\n",
       "      cursor: pointer;\n",
       "      display: none;\n",
       "      fill: #1967D2;\n",
       "      height: 32px;\n",
       "      padding: 0 0 0 0;\n",
       "      width: 32px;\n",
       "    }\n",
       "\n",
       "    .colab-df-convert:hover {\n",
       "      background-color: #E2EBFA;\n",
       "      box-shadow: 0px 1px 2px rgba(60, 64, 67, 0.3), 0px 1px 3px 1px rgba(60, 64, 67, 0.15);\n",
       "      fill: #174EA6;\n",
       "    }\n",
       "\n",
       "    [theme=dark] .colab-df-convert {\n",
       "      background-color: #3B4455;\n",
       "      fill: #D2E3FC;\n",
       "    }\n",
       "\n",
       "    [theme=dark] .colab-df-convert:hover {\n",
       "      background-color: #434B5C;\n",
       "      box-shadow: 0px 1px 3px 1px rgba(0, 0, 0, 0.15);\n",
       "      filter: drop-shadow(0px 1px 2px rgba(0, 0, 0, 0.3));\n",
       "      fill: #FFFFFF;\n",
       "    }\n",
       "  </style>\n",
       "\n",
       "      <script>\n",
       "        const buttonEl =\n",
       "          document.querySelector('#df-29f18204-41dd-49f7-869e-db822173b8d6 button.colab-df-convert');\n",
       "        buttonEl.style.display =\n",
       "          google.colab.kernel.accessAllowed ? 'block' : 'none';\n",
       "\n",
       "        async function convertToInteractive(key) {\n",
       "          const element = document.querySelector('#df-29f18204-41dd-49f7-869e-db822173b8d6');\n",
       "          const dataTable =\n",
       "            await google.colab.kernel.invokeFunction('convertToInteractive',\n",
       "                                                     [key], {});\n",
       "          if (!dataTable) return;\n",
       "\n",
       "          const docLinkHtml = 'Like what you see? Visit the ' +\n",
       "            '<a target=\"_blank\" href=https://colab.research.google.com/notebooks/data_table.ipynb>data table notebook</a>'\n",
       "            + ' to learn more about interactive tables.';\n",
       "          element.innerHTML = '';\n",
       "          dataTable['output_type'] = 'display_data';\n",
       "          await google.colab.output.renderOutput(dataTable, element);\n",
       "          const docLink = document.createElement('div');\n",
       "          docLink.innerHTML = docLinkHtml;\n",
       "          element.appendChild(docLink);\n",
       "        }\n",
       "      </script>\n",
       "    </div>\n",
       "  </div>\n",
       "  "
      ],
      "text/plain": [
       "                                               links  \\\n",
       "0  https://www.babelio.com/livres/Skenandore-Pour...   \n",
       "1  https://www.babelio.com/livres/Kristoff-Nevern...   \n",
       "2  https://www.babelio.com/livres/Cotroneo-La-Mai...   \n",
       "3  https://www.babelio.com/livres/Boyer-Au-coeur-...   \n",
       "4  https://www.babelio.com/livres/Lajoinie-Le-ser...   \n",
       "\n",
       "                                  title  \\\n",
       "0      Pour l'honneur de tous les miens   \n",
       "1  Nevernight, tome 1 : N'oublie jamais   \n",
       "2                    La Maison de verre   \n",
       "3           Au coeur d'une nuit de Noël   \n",
       "4              Le serment des traqueurs   \n",
       "\n",
       "                                          image_link  \\\n",
       "0  /couv/CVT_Pour-lhonneur-de-tous-les-miens-Un-r...   \n",
       "1  https://m.media-amazon.com/images/I/519RgNc1rf...   \n",
       "2              /couv/CVT_La-maison-de-verre_9967.jpg   \n",
       "3  https://m.media-amazon.com/images/I/51UJ1DD+BI...   \n",
       "4         /couv/CVT_Le-serment-des-traqueurs_455.jpg   \n",
       "\n",
       "                        author_link             author  rate  \n",
       "0  /auteur/Amanda-Skenandore/629754  Amanda Skenandore  4.57  \n",
       "1       /auteur/Jay-Kristoff/325758       Jay Kristoff  4.42  \n",
       "2   /auteur/Roberto-Cotroneo/190637   Roberto Cotroneo   3.5  \n",
       "3        /auteur/Erika-Boyer/412223        Erika Boyer   3.4  \n",
       "4  /auteur/Laetitia-Lajoinie/604238  Laetitia Lajoinie     0  "
      ]
     },
     "metadata": {},
     "output_type": "display_data"
    },
    {
     "name": "stdout",
     "output_type": "stream",
     "text": [
      "Data saved into  books_info.csv  file.\n"
     ]
    }
   ],
   "source": [
    "collect_all_information_and_save(file_name)"
   ]
  },
  {
   "cell_type": "code",
   "execution_count": 146,
   "metadata": {
    "colab": {
     "base_uri": "https://localhost:8080/",
     "height": 234
    },
    "id": "fB7Amx8yZoeX",
    "outputId": "ca135ba1-3135-43f6-8d90-1addeb91da92"
   },
   "outputs": [
    {
     "data": {
      "text/html": [
       "\n",
       "  <div id=\"df-5bfdab66-f0f3-4c6e-a7bf-15747bf146c5\">\n",
       "    <div class=\"colab-df-container\">\n",
       "      <div>\n",
       "<style scoped>\n",
       "    .dataframe tbody tr th:only-of-type {\n",
       "        vertical-align: middle;\n",
       "    }\n",
       "\n",
       "    .dataframe tbody tr th {\n",
       "        vertical-align: top;\n",
       "    }\n",
       "\n",
       "    .dataframe thead th {\n",
       "        text-align: right;\n",
       "    }\n",
       "</style>\n",
       "<table border=\"1\" class=\"dataframe\">\n",
       "  <thead>\n",
       "    <tr style=\"text-align: right;\">\n",
       "      <th></th>\n",
       "      <th>links</th>\n",
       "      <th>title</th>\n",
       "      <th>image_link</th>\n",
       "      <th>author_link</th>\n",
       "      <th>author</th>\n",
       "      <th>rate</th>\n",
       "    </tr>\n",
       "  </thead>\n",
       "  <tbody>\n",
       "    <tr>\n",
       "      <th>0</th>\n",
       "      <td>https://www.babelio.com/livres/Skenandore-Pour...</td>\n",
       "      <td>Pour l'honneur de tous les miens</td>\n",
       "      <td>/couv/CVT_Pour-lhonneur-de-tous-les-miens-Un-r...</td>\n",
       "      <td>/auteur/Amanda-Skenandore/629754</td>\n",
       "      <td>Amanda Skenandore</td>\n",
       "      <td>4.57</td>\n",
       "    </tr>\n",
       "    <tr>\n",
       "      <th>1</th>\n",
       "      <td>https://www.babelio.com/livres/Kristoff-Nevern...</td>\n",
       "      <td>Nevernight, tome 1 : N'oublie jamais</td>\n",
       "      <td>https://m.media-amazon.com/images/I/519RgNc1rf...</td>\n",
       "      <td>/auteur/Jay-Kristoff/325758</td>\n",
       "      <td>Jay Kristoff</td>\n",
       "      <td>4.42</td>\n",
       "    </tr>\n",
       "    <tr>\n",
       "      <th>2</th>\n",
       "      <td>https://www.babelio.com/livres/Despentes-Cher-...</td>\n",
       "      <td>Cher connard</td>\n",
       "      <td>/couv/CVT_Cher-connard_325.jpg</td>\n",
       "      <td>/auteur/Virginie-Despentes/3412</td>\n",
       "      <td>Virginie Despentes</td>\n",
       "      <td>3.37</td>\n",
       "    </tr>\n",
       "    <tr>\n",
       "      <th>3</th>\n",
       "      <td>https://www.babelio.com/livres/Musso-Angelique...</td>\n",
       "      <td>Angélique</td>\n",
       "      <td>https://m.media-amazon.com/images/I/51ZbEn-loH...</td>\n",
       "      <td>/auteur/Guillaume-Musso/3529</td>\n",
       "      <td>Guillaume Musso</td>\n",
       "      <td>3.75</td>\n",
       "    </tr>\n",
       "  </tbody>\n",
       "</table>\n",
       "</div>\n",
       "      <button class=\"colab-df-convert\" onclick=\"convertToInteractive('df-5bfdab66-f0f3-4c6e-a7bf-15747bf146c5')\"\n",
       "              title=\"Convert this dataframe to an interactive table.\"\n",
       "              style=\"display:none;\">\n",
       "        \n",
       "  <svg xmlns=\"http://www.w3.org/2000/svg\" height=\"24px\"viewBox=\"0 0 24 24\"\n",
       "       width=\"24px\">\n",
       "    <path d=\"M0 0h24v24H0V0z\" fill=\"none\"/>\n",
       "    <path d=\"M18.56 5.44l.94 2.06.94-2.06 2.06-.94-2.06-.94-.94-2.06-.94 2.06-2.06.94zm-11 1L8.5 8.5l.94-2.06 2.06-.94-2.06-.94L8.5 2.5l-.94 2.06-2.06.94zm10 10l.94 2.06.94-2.06 2.06-.94-2.06-.94-.94-2.06-.94 2.06-2.06.94z\"/><path d=\"M17.41 7.96l-1.37-1.37c-.4-.4-.92-.59-1.43-.59-.52 0-1.04.2-1.43.59L10.3 9.45l-7.72 7.72c-.78.78-.78 2.05 0 2.83L4 21.41c.39.39.9.59 1.41.59.51 0 1.02-.2 1.41-.59l7.78-7.78 2.81-2.81c.8-.78.8-2.07 0-2.86zM5.41 20L4 18.59l7.72-7.72 1.47 1.35L5.41 20z\"/>\n",
       "  </svg>\n",
       "      </button>\n",
       "      \n",
       "  <style>\n",
       "    .colab-df-container {\n",
       "      display:flex;\n",
       "      flex-wrap:wrap;\n",
       "      gap: 12px;\n",
       "    }\n",
       "\n",
       "    .colab-df-convert {\n",
       "      background-color: #E8F0FE;\n",
       "      border: none;\n",
       "      border-radius: 50%;\n",
       "      cursor: pointer;\n",
       "      display: none;\n",
       "      fill: #1967D2;\n",
       "      height: 32px;\n",
       "      padding: 0 0 0 0;\n",
       "      width: 32px;\n",
       "    }\n",
       "\n",
       "    .colab-df-convert:hover {\n",
       "      background-color: #E2EBFA;\n",
       "      box-shadow: 0px 1px 2px rgba(60, 64, 67, 0.3), 0px 1px 3px 1px rgba(60, 64, 67, 0.15);\n",
       "      fill: #174EA6;\n",
       "    }\n",
       "\n",
       "    [theme=dark] .colab-df-convert {\n",
       "      background-color: #3B4455;\n",
       "      fill: #D2E3FC;\n",
       "    }\n",
       "\n",
       "    [theme=dark] .colab-df-convert:hover {\n",
       "      background-color: #434B5C;\n",
       "      box-shadow: 0px 1px 3px 1px rgba(0, 0, 0, 0.15);\n",
       "      filter: drop-shadow(0px 1px 2px rgba(0, 0, 0, 0.3));\n",
       "      fill: #FFFFFF;\n",
       "    }\n",
       "  </style>\n",
       "\n",
       "      <script>\n",
       "        const buttonEl =\n",
       "          document.querySelector('#df-5bfdab66-f0f3-4c6e-a7bf-15747bf146c5 button.colab-df-convert');\n",
       "        buttonEl.style.display =\n",
       "          google.colab.kernel.accessAllowed ? 'block' : 'none';\n",
       "\n",
       "        async function convertToInteractive(key) {\n",
       "          const element = document.querySelector('#df-5bfdab66-f0f3-4c6e-a7bf-15747bf146c5');\n",
       "          const dataTable =\n",
       "            await google.colab.kernel.invokeFunction('convertToInteractive',\n",
       "                                                     [key], {});\n",
       "          if (!dataTable) return;\n",
       "\n",
       "          const docLinkHtml = 'Like what you see? Visit the ' +\n",
       "            '<a target=\"_blank\" href=https://colab.research.google.com/notebooks/data_table.ipynb>data table notebook</a>'\n",
       "            + ' to learn more about interactive tables.';\n",
       "          element.innerHTML = '';\n",
       "          dataTable['output_type'] = 'display_data';\n",
       "          await google.colab.output.renderOutput(dataTable, element);\n",
       "          const docLink = document.createElement('div');\n",
       "          docLink.innerHTML = docLinkHtml;\n",
       "          element.appendChild(docLink);\n",
       "        }\n",
       "      </script>\n",
       "    </div>\n",
       "  </div>\n",
       "  "
      ],
      "text/plain": [
       "                                               links  \\\n",
       "0  https://www.babelio.com/livres/Skenandore-Pour...   \n",
       "1  https://www.babelio.com/livres/Kristoff-Nevern...   \n",
       "2  https://www.babelio.com/livres/Despentes-Cher-...   \n",
       "3  https://www.babelio.com/livres/Musso-Angelique...   \n",
       "\n",
       "                                  title  \\\n",
       "0      Pour l'honneur de tous les miens   \n",
       "1  Nevernight, tome 1 : N'oublie jamais   \n",
       "2                          Cher connard   \n",
       "3                             Angélique   \n",
       "\n",
       "                                          image_link  \\\n",
       "0  /couv/CVT_Pour-lhonneur-de-tous-les-miens-Un-r...   \n",
       "1  https://m.media-amazon.com/images/I/519RgNc1rf...   \n",
       "2                     /couv/CVT_Cher-connard_325.jpg   \n",
       "3  https://m.media-amazon.com/images/I/51ZbEn-loH...   \n",
       "\n",
       "                        author_link              author  rate  \n",
       "0  /auteur/Amanda-Skenandore/629754   Amanda Skenandore  4.57  \n",
       "1       /auteur/Jay-Kristoff/325758        Jay Kristoff  4.42  \n",
       "2   /auteur/Virginie-Despentes/3412  Virginie Despentes  3.37  \n",
       "3      /auteur/Guillaume-Musso/3529     Guillaume Musso  3.75  "
      ]
     },
     "metadata": {},
     "output_type": "display_data"
    },
    {
     "name": "stdout",
     "output_type": "stream",
     "text": [
      "Data saved into  books_info.csv  file.\n"
     ]
    }
   ],
   "source": [
    "# df = pd.DataFrame(all_page_data, columns = book_info_column)\n",
    "# display(df.head())\n",
    "# df.to_csv(file_name)\n",
    "# print('Data saved into ', file_name, ' file.')"
   ]
  },
  {
   "cell_type": "code",
   "execution_count": null,
   "metadata": {
    "id": "YzutyLYIDCiC"
   },
   "outputs": [],
   "source": [
    "# pages = range(1,2)\n",
    "# pages = range(1,3)\n",
    "# pages = range(1,4)"
   ]
  },
  {
   "cell_type": "code",
   "execution_count": 125,
   "metadata": {
    "colab": {
     "base_uri": "https://localhost:8080/",
     "height": 49
    },
    "id": "QqGgFAKXDjWm",
    "outputId": "4df5c6b1-3e2c-48fe-ea53-32fbaafd61e1"
   },
   "outputs": [
    {
     "data": {
      "text/html": [
       "\n",
       "  <div id=\"df-470b999f-cd25-4c18-ad21-c13452a7306d\">\n",
       "    <div class=\"colab-df-container\">\n",
       "      <div>\n",
       "<style scoped>\n",
       "    .dataframe tbody tr th:only-of-type {\n",
       "        vertical-align: middle;\n",
       "    }\n",
       "\n",
       "    .dataframe tbody tr th {\n",
       "        vertical-align: top;\n",
       "    }\n",
       "\n",
       "    .dataframe thead th {\n",
       "        text-align: right;\n",
       "    }\n",
       "</style>\n",
       "<table border=\"1\" class=\"dataframe\">\n",
       "  <thead>\n",
       "    <tr style=\"text-align: right;\">\n",
       "      <th></th>\n",
       "      <th>links</th>\n",
       "      <th>title</th>\n",
       "      <th>image_link</th>\n",
       "      <th>author_link</th>\n",
       "      <th>author</th>\n",
       "      <th>rate</th>\n",
       "    </tr>\n",
       "  </thead>\n",
       "  <tbody>\n",
       "  </tbody>\n",
       "</table>\n",
       "</div>\n",
       "      <button class=\"colab-df-convert\" onclick=\"convertToInteractive('df-470b999f-cd25-4c18-ad21-c13452a7306d')\"\n",
       "              title=\"Convert this dataframe to an interactive table.\"\n",
       "              style=\"display:none;\">\n",
       "        \n",
       "  <svg xmlns=\"http://www.w3.org/2000/svg\" height=\"24px\"viewBox=\"0 0 24 24\"\n",
       "       width=\"24px\">\n",
       "    <path d=\"M0 0h24v24H0V0z\" fill=\"none\"/>\n",
       "    <path d=\"M18.56 5.44l.94 2.06.94-2.06 2.06-.94-2.06-.94-.94-2.06-.94 2.06-2.06.94zm-11 1L8.5 8.5l.94-2.06 2.06-.94-2.06-.94L8.5 2.5l-.94 2.06-2.06.94zm10 10l.94 2.06.94-2.06 2.06-.94-2.06-.94-.94-2.06-.94 2.06-2.06.94z\"/><path d=\"M17.41 7.96l-1.37-1.37c-.4-.4-.92-.59-1.43-.59-.52 0-1.04.2-1.43.59L10.3 9.45l-7.72 7.72c-.78.78-.78 2.05 0 2.83L4 21.41c.39.39.9.59 1.41.59.51 0 1.02-.2 1.41-.59l7.78-7.78 2.81-2.81c.8-.78.8-2.07 0-2.86zM5.41 20L4 18.59l7.72-7.72 1.47 1.35L5.41 20z\"/>\n",
       "  </svg>\n",
       "      </button>\n",
       "      \n",
       "  <style>\n",
       "    .colab-df-container {\n",
       "      display:flex;\n",
       "      flex-wrap:wrap;\n",
       "      gap: 12px;\n",
       "    }\n",
       "\n",
       "    .colab-df-convert {\n",
       "      background-color: #E8F0FE;\n",
       "      border: none;\n",
       "      border-radius: 50%;\n",
       "      cursor: pointer;\n",
       "      display: none;\n",
       "      fill: #1967D2;\n",
       "      height: 32px;\n",
       "      padding: 0 0 0 0;\n",
       "      width: 32px;\n",
       "    }\n",
       "\n",
       "    .colab-df-convert:hover {\n",
       "      background-color: #E2EBFA;\n",
       "      box-shadow: 0px 1px 2px rgba(60, 64, 67, 0.3), 0px 1px 3px 1px rgba(60, 64, 67, 0.15);\n",
       "      fill: #174EA6;\n",
       "    }\n",
       "\n",
       "    [theme=dark] .colab-df-convert {\n",
       "      background-color: #3B4455;\n",
       "      fill: #D2E3FC;\n",
       "    }\n",
       "\n",
       "    [theme=dark] .colab-df-convert:hover {\n",
       "      background-color: #434B5C;\n",
       "      box-shadow: 0px 1px 3px 1px rgba(0, 0, 0, 0.15);\n",
       "      filter: drop-shadow(0px 1px 2px rgba(0, 0, 0, 0.3));\n",
       "      fill: #FFFFFF;\n",
       "    }\n",
       "  </style>\n",
       "\n",
       "      <script>\n",
       "        const buttonEl =\n",
       "          document.querySelector('#df-470b999f-cd25-4c18-ad21-c13452a7306d button.colab-df-convert');\n",
       "        buttonEl.style.display =\n",
       "          google.colab.kernel.accessAllowed ? 'block' : 'none';\n",
       "\n",
       "        async function convertToInteractive(key) {\n",
       "          const element = document.querySelector('#df-470b999f-cd25-4c18-ad21-c13452a7306d');\n",
       "          const dataTable =\n",
       "            await google.colab.kernel.invokeFunction('convertToInteractive',\n",
       "                                                     [key], {});\n",
       "          if (!dataTable) return;\n",
       "\n",
       "          const docLinkHtml = 'Like what you see? Visit the ' +\n",
       "            '<a target=\"_blank\" href=https://colab.research.google.com/notebooks/data_table.ipynb>data table notebook</a>'\n",
       "            + ' to learn more about interactive tables.';\n",
       "          element.innerHTML = '';\n",
       "          dataTable['output_type'] = 'display_data';\n",
       "          await google.colab.output.renderOutput(dataTable, element);\n",
       "          const docLink = document.createElement('div');\n",
       "          docLink.innerHTML = docLinkHtml;\n",
       "          element.appendChild(docLink);\n",
       "        }\n",
       "      </script>\n",
       "    </div>\n",
       "  </div>\n",
       "  "
      ],
      "text/plain": [
       "Empty DataFrame\n",
       "Columns: [links, title, image_link, author_link, author, rate]\n",
       "Index: []"
      ]
     },
     "execution_count": 125,
     "metadata": {},
     "output_type": "execute_result"
    }
   ],
   "source": [
    "# book_info_column = ['links', 'title', 'image_link', 'author_link', 'author', 'rate']\n",
    "# df_all_page_data = pd.DataFrame(columns = book_info_column)  \n",
    "# df_all_page_data"
   ]
  },
  {
   "cell_type": "code",
   "execution_count": null,
   "metadata": {
    "id": "2M-1XqxPUY69"
   },
   "outputs": [],
   "source": [
    "# 1 - save data, at the end put to df\n",
    "# 2 - during for add pd data"
   ]
  },
  {
   "cell_type": "code",
   "execution_count": 132,
   "metadata": {
    "colab": {
     "base_uri": "https://localhost:8080/",
     "height": 733
    },
    "id": "HIXPSpInDApi",
    "outputId": "1c16679c-1a2d-4228-b5ce-c66fd16e96f2"
   },
   "outputs": [
    {
     "name": "stdout",
     "output_type": "stream",
     "text": [
      "<class 'list'>\n",
      "Page  1 , books:  2\n",
      "<class 'list'>\n",
      "Page  2 , books:  2\n"
     ]
    },
    {
     "data": {
      "application/vnd.google.colaboratory.intrinsic+json": {
       "type": "string"
      },
      "text/plain": [
       "'df_all_page_data'"
      ]
     },
     "metadata": {},
     "output_type": "display_data"
    },
    {
     "data": {
      "text/html": [
       "\n",
       "  <div id=\"df-675d73b8-1965-4647-af81-d0cbf97f937c\">\n",
       "    <div class=\"colab-df-container\">\n",
       "      <div>\n",
       "<style scoped>\n",
       "    .dataframe tbody tr th:only-of-type {\n",
       "        vertical-align: middle;\n",
       "    }\n",
       "\n",
       "    .dataframe tbody tr th {\n",
       "        vertical-align: top;\n",
       "    }\n",
       "\n",
       "    .dataframe thead th {\n",
       "        text-align: right;\n",
       "    }\n",
       "</style>\n",
       "<table border=\"1\" class=\"dataframe\">\n",
       "  <thead>\n",
       "    <tr style=\"text-align: right;\">\n",
       "      <th></th>\n",
       "      <th>links</th>\n",
       "      <th>title</th>\n",
       "      <th>image_link</th>\n",
       "      <th>author_link</th>\n",
       "      <th>author</th>\n",
       "      <th>rate</th>\n",
       "    </tr>\n",
       "  </thead>\n",
       "  <tbody>\n",
       "    <tr>\n",
       "      <th>0</th>\n",
       "      <td>https://www.babelio.com/livres/Skenandore-Pour...</td>\n",
       "      <td>Pour l'honneur de tous les miens</td>\n",
       "      <td>/couv/CVT_Pour-lhonneur-de-tous-les-miens-Un-r...</td>\n",
       "      <td>/auteur/Amanda-Skenandore/629754</td>\n",
       "      <td>Amanda Skenandore</td>\n",
       "      <td>4.57</td>\n",
       "    </tr>\n",
       "    <tr>\n",
       "      <th>1</th>\n",
       "      <td>https://www.babelio.com/livres/Kristoff-Nevern...</td>\n",
       "      <td>Nevernight, tome 1 : N'oublie jamais</td>\n",
       "      <td>https://m.media-amazon.com/images/I/519RgNc1rf...</td>\n",
       "      <td>/auteur/Jay-Kristoff/325758</td>\n",
       "      <td>Jay Kristoff</td>\n",
       "      <td>4.42</td>\n",
       "    </tr>\n",
       "    <tr>\n",
       "      <th>2</th>\n",
       "      <td>https://www.babelio.com/livres/Despentes-Cher-...</td>\n",
       "      <td>Cher connard</td>\n",
       "      <td>/couv/CVT_Cher-connard_325.jpg</td>\n",
       "      <td>/auteur/Virginie-Despentes/3412</td>\n",
       "      <td>Virginie Despentes</td>\n",
       "      <td>3.37</td>\n",
       "    </tr>\n",
       "    <tr>\n",
       "      <th>3</th>\n",
       "      <td>https://www.babelio.com/livres/Musso-Angelique...</td>\n",
       "      <td>Angélique</td>\n",
       "      <td>https://m.media-amazon.com/images/I/51ZbEn-loH...</td>\n",
       "      <td>/auteur/Guillaume-Musso/3529</td>\n",
       "      <td>Guillaume Musso</td>\n",
       "      <td>3.75</td>\n",
       "    </tr>\n",
       "  </tbody>\n",
       "</table>\n",
       "</div>\n",
       "      <button class=\"colab-df-convert\" onclick=\"convertToInteractive('df-675d73b8-1965-4647-af81-d0cbf97f937c')\"\n",
       "              title=\"Convert this dataframe to an interactive table.\"\n",
       "              style=\"display:none;\">\n",
       "        \n",
       "  <svg xmlns=\"http://www.w3.org/2000/svg\" height=\"24px\"viewBox=\"0 0 24 24\"\n",
       "       width=\"24px\">\n",
       "    <path d=\"M0 0h24v24H0V0z\" fill=\"none\"/>\n",
       "    <path d=\"M18.56 5.44l.94 2.06.94-2.06 2.06-.94-2.06-.94-.94-2.06-.94 2.06-2.06.94zm-11 1L8.5 8.5l.94-2.06 2.06-.94-2.06-.94L8.5 2.5l-.94 2.06-2.06.94zm10 10l.94 2.06.94-2.06 2.06-.94-2.06-.94-.94-2.06-.94 2.06-2.06.94z\"/><path d=\"M17.41 7.96l-1.37-1.37c-.4-.4-.92-.59-1.43-.59-.52 0-1.04.2-1.43.59L10.3 9.45l-7.72 7.72c-.78.78-.78 2.05 0 2.83L4 21.41c.39.39.9.59 1.41.59.51 0 1.02-.2 1.41-.59l7.78-7.78 2.81-2.81c.8-.78.8-2.07 0-2.86zM5.41 20L4 18.59l7.72-7.72 1.47 1.35L5.41 20z\"/>\n",
       "  </svg>\n",
       "      </button>\n",
       "      \n",
       "  <style>\n",
       "    .colab-df-container {\n",
       "      display:flex;\n",
       "      flex-wrap:wrap;\n",
       "      gap: 12px;\n",
       "    }\n",
       "\n",
       "    .colab-df-convert {\n",
       "      background-color: #E8F0FE;\n",
       "      border: none;\n",
       "      border-radius: 50%;\n",
       "      cursor: pointer;\n",
       "      display: none;\n",
       "      fill: #1967D2;\n",
       "      height: 32px;\n",
       "      padding: 0 0 0 0;\n",
       "      width: 32px;\n",
       "    }\n",
       "\n",
       "    .colab-df-convert:hover {\n",
       "      background-color: #E2EBFA;\n",
       "      box-shadow: 0px 1px 2px rgba(60, 64, 67, 0.3), 0px 1px 3px 1px rgba(60, 64, 67, 0.15);\n",
       "      fill: #174EA6;\n",
       "    }\n",
       "\n",
       "    [theme=dark] .colab-df-convert {\n",
       "      background-color: #3B4455;\n",
       "      fill: #D2E3FC;\n",
       "    }\n",
       "\n",
       "    [theme=dark] .colab-df-convert:hover {\n",
       "      background-color: #434B5C;\n",
       "      box-shadow: 0px 1px 3px 1px rgba(0, 0, 0, 0.15);\n",
       "      filter: drop-shadow(0px 1px 2px rgba(0, 0, 0, 0.3));\n",
       "      fill: #FFFFFF;\n",
       "    }\n",
       "  </style>\n",
       "\n",
       "      <script>\n",
       "        const buttonEl =\n",
       "          document.querySelector('#df-675d73b8-1965-4647-af81-d0cbf97f937c button.colab-df-convert');\n",
       "        buttonEl.style.display =\n",
       "          google.colab.kernel.accessAllowed ? 'block' : 'none';\n",
       "\n",
       "        async function convertToInteractive(key) {\n",
       "          const element = document.querySelector('#df-675d73b8-1965-4647-af81-d0cbf97f937c');\n",
       "          const dataTable =\n",
       "            await google.colab.kernel.invokeFunction('convertToInteractive',\n",
       "                                                     [key], {});\n",
       "          if (!dataTable) return;\n",
       "\n",
       "          const docLinkHtml = 'Like what you see? Visit the ' +\n",
       "            '<a target=\"_blank\" href=https://colab.research.google.com/notebooks/data_table.ipynb>data table notebook</a>'\n",
       "            + ' to learn more about interactive tables.';\n",
       "          element.innerHTML = '';\n",
       "          dataTable['output_type'] = 'display_data';\n",
       "          await google.colab.output.renderOutput(dataTable, element);\n",
       "          const docLink = document.createElement('div');\n",
       "          docLink.innerHTML = docLinkHtml;\n",
       "          element.appendChild(docLink);\n",
       "        }\n",
       "      </script>\n",
       "    </div>\n",
       "  </div>\n",
       "  "
      ],
      "text/plain": [
       "                                               links  \\\n",
       "0  https://www.babelio.com/livres/Skenandore-Pour...   \n",
       "1  https://www.babelio.com/livres/Kristoff-Nevern...   \n",
       "2  https://www.babelio.com/livres/Despentes-Cher-...   \n",
       "3  https://www.babelio.com/livres/Musso-Angelique...   \n",
       "\n",
       "                                  title  \\\n",
       "0      Pour l'honneur de tous les miens   \n",
       "1  Nevernight, tome 1 : N'oublie jamais   \n",
       "2                          Cher connard   \n",
       "3                             Angélique   \n",
       "\n",
       "                                          image_link  \\\n",
       "0  /couv/CVT_Pour-lhonneur-de-tous-les-miens-Un-r...   \n",
       "1  https://m.media-amazon.com/images/I/519RgNc1rf...   \n",
       "2                     /couv/CVT_Cher-connard_325.jpg   \n",
       "3  https://m.media-amazon.com/images/I/51ZbEn-loH...   \n",
       "\n",
       "                        author_link              author  rate  \n",
       "0  /auteur/Amanda-Skenandore/629754   Amanda Skenandore  4.57  \n",
       "1       /auteur/Jay-Kristoff/325758        Jay Kristoff  4.42  \n",
       "2   /auteur/Virginie-Despentes/3412  Virginie Despentes  3.37  \n",
       "3      /auteur/Guillaume-Musso/3529     Guillaume Musso  3.75  "
      ]
     },
     "metadata": {},
     "output_type": "display_data"
    },
    {
     "data": {
      "application/vnd.google.colaboratory.intrinsic+json": {
       "type": "string"
      },
      "text/plain": [
       "'all_save'"
      ]
     },
     "metadata": {},
     "output_type": "display_data"
    },
    {
     "data": {
      "text/plain": [
       "[['https://www.babelio.com/livres/Skenandore-Pour-lhonneur-de-tous-les-miens/1455974',\n",
       "  \"Pour l'honneur de tous les miens\",\n",
       "  '/couv/CVT_Pour-lhonneur-de-tous-les-miens-Un-roman-dechira_3436.jpg',\n",
       "  '/auteur/Amanda-Skenandore/629754',\n",
       "  'Amanda Skenandore',\n",
       "  '4.57'],\n",
       " ['https://www.babelio.com/livres/Kristoff-Nevernight-tome-1--Noublie-jamais/1260554',\n",
       "  \"Nevernight, tome 1 : N'oublie jamais\",\n",
       "  'https://m.media-amazon.com/images/I/519RgNc1rfL._SX195_.jpg',\n",
       "  '/auteur/Jay-Kristoff/325758',\n",
       "  'Jay Kristoff',\n",
       "  '4.42'],\n",
       " ['https://www.babelio.com/livres/Despentes-Cher-connard/1423121',\n",
       "  'Cher connard',\n",
       "  '/couv/CVT_Cher-connard_325.jpg',\n",
       "  '/auteur/Virginie-Despentes/3412',\n",
       "  'Virginie Despentes',\n",
       "  '3.37'],\n",
       " ['https://www.babelio.com/livres/Musso-Angelique/1442449',\n",
       "  'Angélique',\n",
       "  'https://m.media-amazon.com/images/I/51ZbEn-loHL._SX195_.jpg',\n",
       "  '/auteur/Guillaume-Musso/3529',\n",
       "  'Guillaume Musso',\n",
       "  '3.75']]"
      ]
     },
     "metadata": {},
     "output_type": "display_data"
    }
   ],
   "source": [
    "# all_page_data = list()\n",
    "# for page in pages:\n",
    "#     page_link = get_page_link(page)\n",
    "#     page_data = get_info_from_page(page_link)\n",
    "\n",
    "#     all_page_data.extend(page_data)\n",
    "    \n",
    "#     number_of_books_on_the_page = len(page_data)\n",
    "#     print('Page ', page, ', books: ', number_of_books_on_the_page)\n",
    "# #         todo: auth_info = auth_wiki_info(author_name)\n",
    "\n",
    "# df_all_page_data = pd.DataFrame(all_page_data, columns = book_info_column)  \n",
    "# display('df_all_page_data',df_all_page_data)\n"
   ]
  },
  {
   "cell_type": "code",
   "execution_count": null,
   "metadata": {
    "id": "A0uTunCADNDq"
   },
   "outputs": [],
   "source": [
    "# df_all_page_data"
   ]
  },
  {
   "cell_type": "markdown",
   "metadata": {
    "id": "97K3uFOBzuN8"
   },
   "source": [
    "## Exercice n°2: Scraping using BeautifulSoup and aggregate with Wikipedia Api data"
   ]
  },
  {
   "cell_type": "code",
   "execution_count": null,
   "metadata": {
    "ExecuteTime": {
     "end_time": "2020-10-11T19:59:26.546581Z",
     "start_time": "2020-10-11T19:59:26.532547Z"
    },
    "id": "Q9uOSvnXzuN9"
   },
   "outputs": [],
   "source": [
    "def get_author_info_from_wikipedia(author_name):\n",
    "    '''\n",
    "        Get author detailed info from wikipedia API\n",
    "\n",
    "        :param author_name:\n",
    "        :type: author_nanme: string\n",
    "        :return: json_response: response of wikipedia API\n",
    "        :rtype: dict\n",
    "    '''\n",
    "    params = {\n",
    "        'action': \"query\",\n",
    "        'titles': author_name,\n",
    "        'format': \"json\",\n",
    "        'prop': 'extracts|categories',\n",
    "        'explaintext': True,\n",
    "        'exintro': True\n",
    "\n",
    "    }\n",
    "\n",
    "    try:\n",
    "        req = requests.get(url=URL_API_BASE, params=params)\n",
    "        json_response = req.json()\n",
    "        tmp_resp = json_response['query']['pages']\n",
    "        nb_key = list(tmp_resp.keys())[0]\n",
    "        clean_json_response = json_response['query']['pages'][nb_key]['extract']\n",
    "    except:\n",
    "        return None\n",
    "\n",
    "    return clean_json_response"
   ]
  },
  {
   "cell_type": "code",
   "execution_count": null,
   "metadata": {
    "id": "ALXnm0fg3fMK"
   },
   "outputs": [],
   "source": [
    "test_1 = 'Amanda Skenandore' # false\n",
    "test_2 = 'Jay Kristoff' # true\n",
    "author_name = test_2"
   ]
  },
  {
   "cell_type": "code",
   "execution_count": null,
   "metadata": {
    "id": "3w1xDD8E3oa2"
   },
   "outputs": [],
   "source": [
    "author_info_from_wikipedia = get_author_info_from_wikipedia(author_name)\n",
    "print(author_info_from_wikipedia)"
   ]
  },
  {
   "cell_type": "code",
   "execution_count": null,
   "metadata": {
    "id": "T_M9jM9z4xWo"
   },
   "outputs": [],
   "source": [
    "df = pd.read_csv(file_name)  "
   ]
  },
  {
   "cell_type": "code",
   "execution_count": null,
   "metadata": {
    "id": "gwGvYHH75tku"
   },
   "outputs": [],
   "source": [
    "df.head()"
   ]
  },
  {
   "cell_type": "code",
   "execution_count": null,
   "metadata": {
    "ExecuteTime": {
     "end_time": "2020-10-11T19:59:26.557258Z",
     "start_time": "2020-10-11T19:59:26.548759Z"
    },
    "id": "640ICpfBzuN9"
   },
   "outputs": [],
   "source": [
    "def extract_most_read_authors(soup):\n",
    "    # TODO: Get most read authors by finding html tag & class, add each author in a list and return this list\n",
    "    authors = list()\n",
    "\n",
    "    # author = \n",
    "    # if author ... :\n",
    "    #     authors.append(author)\n",
    "\n",
    "    return authors"
   ]
  },
  {
   "cell_type": "code",
   "execution_count": null,
   "metadata": {
    "id": "-Kju-iQ062ju"
   },
   "outputs": [],
   "source": [
    "url = ''\n",
    "soup = get_html_from_link(url)"
   ]
  },
  {
   "cell_type": "code",
   "execution_count": null,
   "metadata": {
    "id": "u5jFu0zp7zIg"
   },
   "outputs": [],
   "source": [
    "most_read_authors = extract_most_read_authors(soup)\n",
    "print(most_read_authors)"
   ]
  },
  {
   "cell_type": "code",
   "execution_count": null,
   "metadata": {
    "ExecuteTime": {
     "end_time": "2020-10-11T19:59:26.566534Z",
     "start_time": "2020-10-11T19:59:26.560047Z"
    },
    "id": "6q4pQ-etzuN9"
   },
   "outputs": [],
   "source": [
    "def extract_number_of_readers(soup):\n",
    "    # TODO: Get number of readers by html tag & class, add each number of readers in a list and return this list\n",
    "    \n",
    "    return nb_readers"
   ]
  },
  {
   "cell_type": "code",
   "execution_count": null,
   "metadata": {
    "id": "rd4Wqbgs63HA"
   },
   "outputs": [],
   "source": [
    "url = ''\n",
    "soup = get_html_from_link(url)"
   ]
  },
  {
   "cell_type": "code",
   "execution_count": null,
   "metadata": {
    "id": "SwYilqiu76h7"
   },
   "outputs": [],
   "source": [
    "number_of_readers = extract_number_of_readers(soup)\n",
    "print(number_of_readers)"
   ]
  },
  {
   "cell_type": "code",
   "execution_count": null,
   "metadata": {
    "ExecuteTime": {
     "end_time": "2020-10-11T19:59:26.577846Z",
     "start_time": "2020-10-11T19:59:26.570032Z"
    },
    "id": "QeTJzXjTzuN9"
   },
   "outputs": [],
   "source": [
    "def extract_all(url):\n",
    "    # TODO: get soup by extracting html from link, extracting most read authors and exctracting number of readers\n",
    "    # then build a dataframe and return it\n",
    "    \n",
    "    # soup = get_html_from_link(url)\n",
    "    df_data = None\n",
    "\n",
    "    size = range(1,2)\n",
    "    for i in size:\n",
    "        most_read_authors = extract_most_read_authors(soup)\n",
    "        number_of_readers = extract_number_of_readers(soup)\n",
    "\n",
    "        data = most_read_authors, number_of_readers\n",
    "        df_data += data\n",
    "\n",
    "    info_column = ['most_read_authors', 'number_of_readers']\n",
    "    df = pd.DataFrame(df_data, columns = info_column)  \n",
    "\n",
    "    return df"
   ]
  },
  {
   "cell_type": "code",
   "execution_count": null,
   "metadata": {
    "id": "rA-uyFtQ63uI"
   },
   "outputs": [],
   "source": []
  },
  {
   "cell_type": "code",
   "execution_count": null,
   "metadata": {
    "ExecuteTime": {
     "end_time": "2020-10-11T19:59:40.290889Z",
     "start_time": "2020-10-11T19:59:26.580264Z"
    },
    "id": "za3xxlNTzuN9"
   },
   "outputs": [],
   "source": [
    "extract_all(URL_AUTHORS)"
   ]
  }
 ],
 "metadata": {
  "colab": {
   "provenance": []
  },
  "kernelspec": {
   "display_name": "Python 3 (ipykernel)",
   "language": "python",
   "name": "python3"
  },
  "language_info": {
   "codemirror_mode": {
    "name": "ipython",
    "version": 3
   },
   "file_extension": ".py",
   "mimetype": "text/x-python",
   "name": "python",
   "nbconvert_exporter": "python",
   "pygments_lexer": "ipython3",
   "version": "3.10.1"
  },
  "toc": {
   "nav_menu": {},
   "number_sections": true,
   "sideBar": true,
   "skip_h1_title": false,
   "title_cell": "Table of Contents",
   "title_sidebar": "Contents",
   "toc_cell": false,
   "toc_position": {},
   "toc_section_display": true,
   "toc_window_display": false
  },
  "vscode": {
   "interpreter": {
    "hash": "2611ee49b79e8ed424a9544bdabc79c09673b3397d590395dcd9cfe7b12cdceb"
   }
  }
 },
 "nbformat": 4,
 "nbformat_minor": 1
}
