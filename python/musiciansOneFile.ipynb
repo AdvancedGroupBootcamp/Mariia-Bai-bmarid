{
 "cells": [
  {
   "cell_type": "code",
   "execution_count": 83,
   "id": "767ed7e4",
   "metadata": {},
   "outputs": [],
   "source": [
    "from datetime import time\n",
    "import statistics\n",
    "import json\n",
    "from collections import Counter\n",
    "import os\n",
    "from os import path"
   ]
  },
  {
   "cell_type": "code",
   "execution_count": 84,
   "id": "f12d1896",
   "metadata": {},
   "outputs": [],
   "source": [
    "def open_json(name):\n",
    "    with open(name) as file:\n",
    "        return json.load(file)"
   ]
  },
  {
   "cell_type": "code",
   "execution_count": 85,
   "id": "a77d7e9f",
   "metadata": {
    "scrolled": true
   },
   "outputs": [],
   "source": [
    "path = '/Users/bmarid/Documents/bootcamp/bmarid/python/hw1million/'\n",
    "name = 'mpd.slice.0-999'\n",
    "data = open_json(path+name+'.json')"
   ]
  },
  {
   "cell_type": "code",
   "execution_count": 86,
   "id": "05b8155d",
   "metadata": {},
   "outputs": [],
   "source": [
    "# print(data)"
   ]
  },
  {
   "cell_type": "code",
   "execution_count": 87,
   "id": "97f40256",
   "metadata": {},
   "outputs": [],
   "source": [
    "artists = [\n",
    "    'Zaz','Oumou','Kendrick Lamar','P!nk','Muse','The Killers','Eminem','Taylor Swift','Harry Styles','Lara Fabian','Andrea Bocelli','Laurent Garnier'\n",
    "]"
   ]
  },
  {
   "cell_type": "code",
   "execution_count": 88,
   "id": "b2410f5b",
   "metadata": {},
   "outputs": [],
   "source": [
    "#Get playlists\n",
    "list_of_playlists = data['playlists'].copy()\n",
    "# list_of_playlists"
   ]
  },
  {
   "cell_type": "code",
   "execution_count": 89,
   "id": "9405405d",
   "metadata": {},
   "outputs": [
    {
     "name": "stdout",
     "output_type": "stream",
     "text": [
      "a. In terms of playlists (give the number of playlist for each artist)\n",
      "Kendrick Lamar is the best in terms of playlists, exists in 121 playlists \n",
      "\n",
      "121 Kendrick Lamar\n",
      "91 Eminem\n",
      "40 The Killers\n",
      "36 Taylor Swift\n",
      "32 P!nk\n",
      "30 Harry Styles\n",
      "14 Muse\n",
      "3 Andrea Bocelli\n",
      "0 Zaz\n",
      "0 Oumou\n",
      "0 Lara Fabian\n",
      "0 Laurent Garnier\n"
     ]
    }
   ],
   "source": [
    "#QUESTION 1\n",
    "#init dict respond - real answer. For count same artist in playlist used tmp\n",
    "artist_count_tmp = dict()\n",
    "artist_count_respond = dict.fromkeys(artists, 0)\n",
    "\n",
    "for playlist in list_of_playlists:\n",
    "    playlist_name = playlist['name']\n",
    "\n",
    "    for track in playlist['tracks']:\n",
    "        artist = track['artist_name']\n",
    "        if artist in artists:\n",
    "            artist_count_tmp[artist] = 1\n",
    "\n",
    "    for artist in artist_count_tmp:\n",
    "        if artist_count_tmp[artist] > 0:\n",
    "            artist_count_respond[artist] += 1\n",
    "            artist_count_tmp[artist] = 0\n",
    "\n",
    "print('a. In terms of playlists (give the number of playlist for each artist)')\n",
    "the_best_in_terms_of_playlists = max(artist_count_respond, key = artist_count_respond.get)\n",
    "max_number = artist_count_respond[the_best_in_terms_of_playlists]\n",
    "print(the_best_in_terms_of_playlists + \" is the best in terms of playlists, exists in \" + str(max_number) + \" playlists \\n\")\n",
    "\n",
    "for artist in sorted(artist_count_respond, key=artist_count_respond.get, reverse=True):\n",
    "    print(artist_count_respond[artist], artist)"
   ]
  },
  {
   "cell_type": "code",
   "execution_count": 90,
   "id": "d54e4f9e",
   "metadata": {},
   "outputs": [
    {
     "name": "stdout",
     "output_type": "stream",
     "text": [
      "b. In terms of tracks (give the number of tracks for each artist - 1 variant with copies:\n",
      "Kendrick Lamar is the best in terms of tracks, found 385 times \n",
      "\n",
      "385 Kendrick Lamar\n",
      "332 Eminem\n",
      "74 Harry Styles\n",
      "64 Taylor Swift\n",
      "55 The Killers\n",
      "47 P!nk\n",
      "33 Muse\n",
      "3 Andrea Bocelli\n",
      "0 Zaz\n",
      "0 Oumou\n",
      "0 Lara Fabian\n",
      "0 Laurent Garnier\n"
     ]
    }
   ],
   "source": [
    "#QUESTION 2\n",
    "# 1 variant - total songs (with copies)\n",
    "artist_count_respond = dict.fromkeys(artists, 0)\n",
    "\n",
    "for playlist in list_of_playlists:\n",
    "    for track in playlist['tracks']:\n",
    "        artist = track['artist_name']\n",
    "        if artist in artists:\n",
    "            track_name = track['track_name']\n",
    "            artist_count_respond[artist] += 1\n",
    "\n",
    "print('b. In terms of tracks (give the number of tracks for each artist - 1 variant with copies:')\n",
    "the_best_in_terms_of_tracks = max(artist_count_respond, key = artist_count_respond.get)\n",
    "max_number = artist_count_respond[the_best_in_terms_of_tracks]\n",
    "print(the_best_in_terms_of_tracks + \" is the best in terms of tracks, found \" + str(max_number) + \" times \\n\")\n",
    "\n",
    "for artist in sorted(artist_count_respond, key=artist_count_respond.get, reverse=True):\n",
    "    print(artist_count_respond[artist], artist)"
   ]
  },
  {
   "cell_type": "code",
   "execution_count": 91,
   "id": "2b4521c8",
   "metadata": {},
   "outputs": [
    {
     "name": "stdout",
     "output_type": "stream",
     "text": [
      "b. In terms of tracks (give the number of tracks for each artist - 2 variant without copies\n",
      "77 Eminem\n",
      "74 Kendrick Lamar\n",
      "34 Taylor Swift\n",
      "23 P!nk\n",
      "16 Muse\n",
      "12 The Killers\n",
      "11 Harry Styles\n",
      "3 Andrea Bocelli\n",
      "0 Zaz\n",
      "0 Oumou\n",
      "0 Lara Fabian\n",
      "0 Laurent Garnier\n"
     ]
    }
   ],
   "source": [
    "#QUESTION 2\n",
    "# 2 variant - total songs without copies\n",
    "artist_count_respond = dict.fromkeys(artists, 0)\n",
    "artist_count_songs = dict()\n",
    "\n",
    "for playlist in list_of_playlists:\n",
    "    playlist_name = playlist['name']\n",
    "    \n",
    "    for track in playlist['tracks']:\n",
    "        artist = track['artist_name']\n",
    "        \n",
    "        # check, if artist in list of artists to compare\n",
    "        if artist in artists:\n",
    "            track_name = track['track_name']\n",
    "            \n",
    "            # if track (song) wasn't in list before, then add in list[artists]\n",
    "            if artist in artist_count_songs: \n",
    "                if track_name not in artist_count_songs[artist]:\n",
    "                    artist_count_songs[artist].append(track_name)\n",
    "            else:\n",
    "                artist_count_songs[artist] = []\n",
    "                artist_count_songs[artist].append(track_name)\n",
    "\n",
    "print('b. In terms of tracks (give the number of tracks for each artist - 2 variant without copies')\n",
    "for artist in artist_count_songs:\n",
    "    artist_count_respond[artist] = len(artist_count_songs[artist])\n",
    "    \n",
    "# artist_count_respond\n",
    "for artist in sorted(artist_count_respond, key=artist_count_respond.get, reverse=True):\n",
    "        print(artist_count_respond[artist], artist)"
   ]
  },
  {
   "cell_type": "code",
   "execution_count": 92,
   "id": "7169f81c",
   "metadata": {},
   "outputs": [],
   "source": [
    "def format_mlsseconds_to_hh_mm_ss(mlseconds):\n",
    "    seconds = mlseconds // 60\n",
    "    \n",
    "    hours = seconds // (60*60)\n",
    "    seconds %= (60*60)\n",
    "    \n",
    "    minutes = seconds // 60\n",
    "    seconds %= 60\n",
    "    \n",
    "    days = hours // 24\n",
    "\n",
    "    res_days = res_hours = res_min = res_sec = res_mls = ''\n",
    "    if days:\n",
    "        res_days = \"{}d : \".format(days)\n",
    "    if hours:\n",
    "        res_hours = \"{}h : \".format(hours)\n",
    "        res_min = \"{}m : \".format(minutes)\n",
    "        res_sec = \"{}s \".format(seconds)\n",
    "        \n",
    "    res = res_days + res_hours + res_min + res_sec\n",
    "    return res"
   ]
  },
  {
   "cell_type": "code",
   "execution_count": 93,
   "id": "8dfb34bb",
   "metadata": {},
   "outputs": [
    {
     "name": "stdout",
     "output_type": "stream",
     "text": [
      "\n",
      "In terms of duration (give the amount of time in proper format for each artist)\n",
      "18d : 452h : 40m : 55s  - Kendrick Lamar\n",
      "18d : 450h : 50m : 3s  - Eminem\n",
      "3d : 83h : 14m : 49s  - Harry Styles\n",
      "2d : 68h : 55m : 20s  - Taylor Swift\n",
      "2d : 57h : 46m : 41s  - The Killers\n",
      "2d : 49h : 4m : 57s  - P!nk\n",
      "1d : 43h : 41m : 31s  - Muse\n",
      "3h : 32m : 20s  - Andrea Bocelli\n",
      "0s - Zaz\n",
      "0s - Oumou\n",
      "0s - Lara Fabian\n",
      "0s - Laurent Garnier\n"
     ]
    }
   ],
   "source": [
    "#QUESTION 3\n",
    "artist_duration_respond = dict.fromkeys(artists, 0)\n",
    "\n",
    "for playlist in list_of_playlists:\n",
    "    for track in playlist['tracks']:\n",
    "        artist = track['artist_name']\n",
    "        track_duration = track['duration_ms']\n",
    "        if artist in artists:\n",
    "            artist_duration_respond[artist] += track_duration\n",
    "\n",
    "print('\\nIn terms of duration (give the amount of time in proper format for each artist)')\n",
    "for artist in sorted(artist_duration_respond, key=artist_duration_respond.get, reverse=True):\n",
    "    if artist_duration_respond[artist]:\n",
    "        print(format_mlsseconds_to_hh_mm_ss(artist_duration_respond[artist]), '-',artist)\n",
    "    else:\n",
    "        print('0s -',artist)"
   ]
  },
  {
   "cell_type": "markdown",
   "id": "4cfae0fd",
   "metadata": {},
   "source": [
    "### 1. Among the artists we have chosen, which ones are the most featured ?\n",
    "a. In terms of playlists (give the number of playlist for each artist)\n",
    "\n",
    "b. In terms of tracks (give the number of tracks for each artist)\n",
    "\n",
    "c. In terms of duration (give the amount of time in proper format for each artist)\n"
   ]
  },
  {
   "cell_type": "code",
   "execution_count": null,
   "id": "6a2fc866",
   "metadata": {},
   "outputs": [],
   "source": []
  }
 ],
 "metadata": {
  "kernelspec": {
   "display_name": "Python 3 (ipykernel)",
   "language": "python",
   "name": "python3"
  },
  "language_info": {
   "codemirror_mode": {
    "name": "ipython",
    "version": 3
   },
   "file_extension": ".py",
   "mimetype": "text/x-python",
   "name": "python",
   "nbconvert_exporter": "python",
   "pygments_lexer": "ipython3",
   "version": "3.10.1"
  }
 },
 "nbformat": 4,
 "nbformat_minor": 5
}
