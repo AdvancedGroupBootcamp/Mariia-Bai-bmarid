{
 "cells": [
  {
   "cell_type": "markdown",
   "id": "ed646a4b",
   "metadata": {},
   "source": [
    "# Presentation link "
   ]
  },
  {
   "cell_type": "code",
   "execution_count": 390,
   "id": "56168be2",
   "metadata": {},
   "outputs": [],
   "source": [
    "# https://prezi.com/view/mo9GRlXAA1C9iMp6PYIi/"
   ]
  },
  {
   "cell_type": "code",
   "execution_count": 297,
   "id": "aa00639d",
   "metadata": {},
   "outputs": [],
   "source": [
    "import numpy as np\n",
    "import pandas as pd \n",
    "import matplotlib.pyplot as plt\n",
    "import seaborn as sns\n",
    "from math import sqrt\n",
    "%matplotlib inline"
   ]
  },
  {
   "cell_type": "code",
   "execution_count": 298,
   "id": "e895dc5f",
   "metadata": {},
   "outputs": [],
   "source": [
    "df_origin = pd.read_csv(\"train.csv\")"
   ]
  },
  {
   "cell_type": "code",
   "execution_count": 299,
   "id": "eea81ca8",
   "metadata": {},
   "outputs": [
    {
     "data": {
      "text/html": [
       "<div>\n",
       "<style scoped>\n",
       "    .dataframe tbody tr th:only-of-type {\n",
       "        vertical-align: middle;\n",
       "    }\n",
       "\n",
       "    .dataframe tbody tr th {\n",
       "        vertical-align: top;\n",
       "    }\n",
       "\n",
       "    .dataframe thead th {\n",
       "        text-align: right;\n",
       "    }\n",
       "</style>\n",
       "<table border=\"1\" class=\"dataframe\">\n",
       "  <thead>\n",
       "    <tr style=\"text-align: right;\">\n",
       "      <th></th>\n",
       "      <th>PassengerId</th>\n",
       "      <th>Survived</th>\n",
       "      <th>Pclass</th>\n",
       "      <th>Name</th>\n",
       "      <th>Sex</th>\n",
       "      <th>Age</th>\n",
       "      <th>SibSp</th>\n",
       "      <th>Parch</th>\n",
       "      <th>Ticket</th>\n",
       "      <th>Fare</th>\n",
       "      <th>Cabin</th>\n",
       "      <th>Embarked</th>\n",
       "    </tr>\n",
       "  </thead>\n",
       "  <tbody>\n",
       "    <tr>\n",
       "      <th>0</th>\n",
       "      <td>1</td>\n",
       "      <td>0</td>\n",
       "      <td>3</td>\n",
       "      <td>Braund, Mr. Owen Harris</td>\n",
       "      <td>male</td>\n",
       "      <td>22.0</td>\n",
       "      <td>1</td>\n",
       "      <td>0</td>\n",
       "      <td>A/5 21171</td>\n",
       "      <td>7.25</td>\n",
       "      <td>NaN</td>\n",
       "      <td>S</td>\n",
       "    </tr>\n",
       "  </tbody>\n",
       "</table>\n",
       "</div>"
      ],
      "text/plain": [
       "   PassengerId  Survived  Pclass                     Name   Sex   Age  SibSp  \\\n",
       "0            1         0       3  Braund, Mr. Owen Harris  male  22.0      1   \n",
       "\n",
       "   Parch     Ticket  Fare Cabin Embarked  \n",
       "0      0  A/5 21171  7.25   NaN        S  "
      ]
     },
     "execution_count": 299,
     "metadata": {},
     "output_type": "execute_result"
    }
   ],
   "source": [
    "df_origin.head(1)"
   ]
  },
  {
   "cell_type": "code",
   "execution_count": 300,
   "id": "15901640",
   "metadata": {
    "scrolled": true
   },
   "outputs": [
    {
     "data": {
      "text/html": [
       "<div>\n",
       "<style scoped>\n",
       "    .dataframe tbody tr th:only-of-type {\n",
       "        vertical-align: middle;\n",
       "    }\n",
       "\n",
       "    .dataframe tbody tr th {\n",
       "        vertical-align: top;\n",
       "    }\n",
       "\n",
       "    .dataframe thead th {\n",
       "        text-align: right;\n",
       "    }\n",
       "</style>\n",
       "<table border=\"1\" class=\"dataframe\">\n",
       "  <thead>\n",
       "    <tr style=\"text-align: right;\">\n",
       "      <th></th>\n",
       "      <th>PassengerId</th>\n",
       "      <th>Survived</th>\n",
       "      <th>Pclass</th>\n",
       "      <th>Age</th>\n",
       "      <th>SibSp</th>\n",
       "      <th>Parch</th>\n",
       "      <th>Fare</th>\n",
       "    </tr>\n",
       "  </thead>\n",
       "  <tbody>\n",
       "    <tr>\n",
       "      <th>count</th>\n",
       "      <td>891.000000</td>\n",
       "      <td>891.000000</td>\n",
       "      <td>891.000000</td>\n",
       "      <td>714.000000</td>\n",
       "      <td>891.000000</td>\n",
       "      <td>891.000000</td>\n",
       "      <td>891.000000</td>\n",
       "    </tr>\n",
       "    <tr>\n",
       "      <th>mean</th>\n",
       "      <td>446.000000</td>\n",
       "      <td>0.383838</td>\n",
       "      <td>2.308642</td>\n",
       "      <td>29.699118</td>\n",
       "      <td>0.523008</td>\n",
       "      <td>0.381594</td>\n",
       "      <td>32.204208</td>\n",
       "    </tr>\n",
       "    <tr>\n",
       "      <th>std</th>\n",
       "      <td>257.353842</td>\n",
       "      <td>0.486592</td>\n",
       "      <td>0.836071</td>\n",
       "      <td>14.526497</td>\n",
       "      <td>1.102743</td>\n",
       "      <td>0.806057</td>\n",
       "      <td>49.693429</td>\n",
       "    </tr>\n",
       "    <tr>\n",
       "      <th>min</th>\n",
       "      <td>1.000000</td>\n",
       "      <td>0.000000</td>\n",
       "      <td>1.000000</td>\n",
       "      <td>0.420000</td>\n",
       "      <td>0.000000</td>\n",
       "      <td>0.000000</td>\n",
       "      <td>0.000000</td>\n",
       "    </tr>\n",
       "    <tr>\n",
       "      <th>25%</th>\n",
       "      <td>223.500000</td>\n",
       "      <td>0.000000</td>\n",
       "      <td>2.000000</td>\n",
       "      <td>20.125000</td>\n",
       "      <td>0.000000</td>\n",
       "      <td>0.000000</td>\n",
       "      <td>7.910400</td>\n",
       "    </tr>\n",
       "    <tr>\n",
       "      <th>50%</th>\n",
       "      <td>446.000000</td>\n",
       "      <td>0.000000</td>\n",
       "      <td>3.000000</td>\n",
       "      <td>28.000000</td>\n",
       "      <td>0.000000</td>\n",
       "      <td>0.000000</td>\n",
       "      <td>14.454200</td>\n",
       "    </tr>\n",
       "    <tr>\n",
       "      <th>75%</th>\n",
       "      <td>668.500000</td>\n",
       "      <td>1.000000</td>\n",
       "      <td>3.000000</td>\n",
       "      <td>38.000000</td>\n",
       "      <td>1.000000</td>\n",
       "      <td>0.000000</td>\n",
       "      <td>31.000000</td>\n",
       "    </tr>\n",
       "    <tr>\n",
       "      <th>max</th>\n",
       "      <td>891.000000</td>\n",
       "      <td>1.000000</td>\n",
       "      <td>3.000000</td>\n",
       "      <td>80.000000</td>\n",
       "      <td>8.000000</td>\n",
       "      <td>6.000000</td>\n",
       "      <td>512.329200</td>\n",
       "    </tr>\n",
       "  </tbody>\n",
       "</table>\n",
       "</div>"
      ],
      "text/plain": [
       "       PassengerId    Survived      Pclass         Age       SibSp  \\\n",
       "count   891.000000  891.000000  891.000000  714.000000  891.000000   \n",
       "mean    446.000000    0.383838    2.308642   29.699118    0.523008   \n",
       "std     257.353842    0.486592    0.836071   14.526497    1.102743   \n",
       "min       1.000000    0.000000    1.000000    0.420000    0.000000   \n",
       "25%     223.500000    0.000000    2.000000   20.125000    0.000000   \n",
       "50%     446.000000    0.000000    3.000000   28.000000    0.000000   \n",
       "75%     668.500000    1.000000    3.000000   38.000000    1.000000   \n",
       "max     891.000000    1.000000    3.000000   80.000000    8.000000   \n",
       "\n",
       "            Parch        Fare  \n",
       "count  891.000000  891.000000  \n",
       "mean     0.381594   32.204208  \n",
       "std      0.806057   49.693429  \n",
       "min      0.000000    0.000000  \n",
       "25%      0.000000    7.910400  \n",
       "50%      0.000000   14.454200  \n",
       "75%      0.000000   31.000000  \n",
       "max      6.000000  512.329200  "
      ]
     },
     "execution_count": 300,
     "metadata": {},
     "output_type": "execute_result"
    }
   ],
   "source": [
    "df_origin.describe()"
   ]
  },
  {
   "cell_type": "code",
   "execution_count": 301,
   "id": "47a22803",
   "metadata": {},
   "outputs": [],
   "source": [
    "df = df_origin.copy()"
   ]
  },
  {
   "cell_type": "code",
   "execution_count": 302,
   "id": "845b1c2f",
   "metadata": {
    "scrolled": true
   },
   "outputs": [
    {
     "data": {
      "text/html": [
       "<div>\n",
       "<style scoped>\n",
       "    .dataframe tbody tr th:only-of-type {\n",
       "        vertical-align: middle;\n",
       "    }\n",
       "\n",
       "    .dataframe tbody tr th {\n",
       "        vertical-align: top;\n",
       "    }\n",
       "\n",
       "    .dataframe thead th {\n",
       "        text-align: right;\n",
       "    }\n",
       "</style>\n",
       "<table border=\"1\" class=\"dataframe\">\n",
       "  <thead>\n",
       "    <tr style=\"text-align: right;\">\n",
       "      <th></th>\n",
       "      <th>PassengerId</th>\n",
       "      <th>Survived</th>\n",
       "      <th>Pclass</th>\n",
       "      <th>Name</th>\n",
       "      <th>Sex</th>\n",
       "      <th>Age</th>\n",
       "      <th>SibSp</th>\n",
       "      <th>Parch</th>\n",
       "      <th>Ticket</th>\n",
       "      <th>Fare</th>\n",
       "      <th>Cabin</th>\n",
       "      <th>Embarked</th>\n",
       "    </tr>\n",
       "  </thead>\n",
       "  <tbody>\n",
       "    <tr>\n",
       "      <th>890</th>\n",
       "      <td>891</td>\n",
       "      <td>0</td>\n",
       "      <td>3</td>\n",
       "      <td>Dooley, Mr. Patrick</td>\n",
       "      <td>male</td>\n",
       "      <td>32.0</td>\n",
       "      <td>0</td>\n",
       "      <td>0</td>\n",
       "      <td>370376</td>\n",
       "      <td>7.75</td>\n",
       "      <td>NaN</td>\n",
       "      <td>Q</td>\n",
       "    </tr>\n",
       "  </tbody>\n",
       "</table>\n",
       "</div>"
      ],
      "text/plain": [
       "     PassengerId  Survived  Pclass                 Name   Sex   Age  SibSp  \\\n",
       "890          891         0       3  Dooley, Mr. Patrick  male  32.0      0   \n",
       "\n",
       "     Parch  Ticket  Fare Cabin Embarked  \n",
       "890      0  370376  7.75   NaN        Q  "
      ]
     },
     "execution_count": 302,
     "metadata": {},
     "output_type": "execute_result"
    }
   ],
   "source": [
    "df.tail(1)"
   ]
  },
  {
   "cell_type": "markdown",
   "id": "c104833b",
   "metadata": {},
   "source": [
    "# Missing values"
   ]
  },
  {
   "cell_type": "code",
   "execution_count": 303,
   "id": "6ae4bcb1",
   "metadata": {
    "scrolled": false
   },
   "outputs": [
    {
     "data": {
      "text/plain": [
       "PassengerId      0\n",
       "Survived         0\n",
       "Pclass           0\n",
       "Name             0\n",
       "Sex              0\n",
       "Age            177\n",
       "SibSp            0\n",
       "Parch            0\n",
       "Ticket           0\n",
       "Fare             0\n",
       "Cabin          687\n",
       "Embarked         2\n",
       "dtype: int64"
      ]
     },
     "execution_count": 303,
     "metadata": {},
     "output_type": "execute_result"
    }
   ],
   "source": [
    "df.isnull().sum()"
   ]
  },
  {
   "cell_type": "code",
   "execution_count": 304,
   "id": "17b84fdd",
   "metadata": {},
   "outputs": [
    {
     "data": {
      "text/plain": [
       "<AxesSubplot: xlabel='Age', ylabel='Count'>"
      ]
     },
     "execution_count": 304,
     "metadata": {},
     "output_type": "execute_result"
    },
    {
     "data": {
      "image/png": "[encoded data removed]",
      "text/plain": [
       "<Figure size 640x480 with 1 Axes>"
      ]
     },
     "metadata": {},
     "output_type": "display_data"
    }
   ],
   "source": [
    "sns.histplot(df['Age'],color='green')"
   ]
  },
  {
   "cell_type": "code",
   "execution_count": 305,
   "id": "c9dd552c",
   "metadata": {},
   "outputs": [
    {
     "name": "stdout",
     "output_type": "stream",
     "text": [
      "29.69911764705882\n"
     ]
    }
   ],
   "source": [
    "age_mean = df['Age'].mean(skipna=True)\n",
    "print(age_mean)"
   ]
  },
  {
   "cell_type": "code",
   "execution_count": 306,
   "id": "05f04f53",
   "metadata": {},
   "outputs": [
    {
     "data": {
      "text/plain": [
       "28.0"
      ]
     },
     "execution_count": 306,
     "metadata": {},
     "output_type": "execute_result"
    }
   ],
   "source": [
    "age_median = df['Age'].median()\n",
    "age_median"
   ]
  },
  {
   "cell_type": "code",
   "execution_count": 307,
   "id": "496fef52",
   "metadata": {},
   "outputs": [
    {
     "data": {
      "text/plain": [
       "24.0"
      ]
     },
     "execution_count": 307,
     "metadata": {},
     "output_type": "execute_result"
    }
   ],
   "source": [
    "import statistics as st\n",
    " \n",
    "age_mode = st.mode(df['Age'])\n",
    "age_mode"
   ]
  },
  {
   "cell_type": "code",
   "execution_count": 308,
   "id": "51584e25",
   "metadata": {},
   "outputs": [],
   "source": [
    "# mean, median, mode\n",
    "df['age_mean'] = df['Age'].fillna(age_mean)\n",
    "df['age_median'] = df['Age'].fillna(age_median)\n",
    "df['age_mode'] = df['Age'].fillna(age_mode)"
   ]
  },
  {
   "cell_type": "code",
   "execution_count": 309,
   "id": "1abfcac2",
   "metadata": {},
   "outputs": [
    {
     "data": {
      "text/plain": [
       "<AxesSubplot: xlabel='Age', ylabel='Count'>"
      ]
     },
     "execution_count": 309,
     "metadata": {},
     "output_type": "execute_result"
    },
    {
     "data": {
      "image/png": "[encoded data removed]",
      "text/plain": [
       "<Figure size 640x480 with 1 Axes>"
      ]
     },
     "metadata": {},
     "output_type": "display_data"
    }
   ],
   "source": [
    "sns.histplot(df['Age'],color='green')\n",
    "sns.histplot(df['age_mean'],color='yellow')"
   ]
  },
  {
   "cell_type": "code",
   "execution_count": 310,
   "id": "447757e2",
   "metadata": {},
   "outputs": [
    {
     "data": {
      "text/plain": [
       "<AxesSubplot: xlabel='Age', ylabel='Count'>"
      ]
     },
     "execution_count": 310,
     "metadata": {},
     "output_type": "execute_result"
    },
    {
     "data": {
      "image/png": "[encoded data removed]",
      "text/plain": [
       "<Figure size 640x480 with 1 Axes>"
      ]
     },
     "metadata": {},
     "output_type": "display_data"
    }
   ],
   "source": [
    "sns.histplot(df['Age'],color='green')\n",
    "sns.histplot(df['age_median'],color='yellow')"
   ]
  },
  {
   "cell_type": "code",
   "execution_count": 311,
   "id": "3a845550",
   "metadata": {},
   "outputs": [
    {
     "data": {
      "text/plain": [
       "<AxesSubplot: xlabel='Age', ylabel='Count'>"
      ]
     },
     "execution_count": 311,
     "metadata": {},
     "output_type": "execute_result"
    },
    {
     "data": {
      "image/png": "[encoded data removed]",
      "text/plain": [
       "<Figure size 640x480 with 1 Axes>"
      ]
     },
     "metadata": {},
     "output_type": "display_data"
    }
   ],
   "source": [
    "sns.histplot(df['Age'],color='green')\n",
    "sns.histplot(df['age_mode'],color='yellow')"
   ]
  },
  {
   "cell_type": "code",
   "execution_count": 312,
   "id": "55e4ba3d",
   "metadata": {},
   "outputs": [],
   "source": [
    "to_drop = ['Age', 'age_mode', 'age_median']\n",
    "df = df.drop(columns = to_drop)"
   ]
  },
  {
   "cell_type": "code",
   "execution_count": 313,
   "id": "31a1b349",
   "metadata": {},
   "outputs": [],
   "source": [
    "# df['Cabin'].values"
   ]
  },
  {
   "cell_type": "code",
   "execution_count": 314,
   "id": "fe668f05",
   "metadata": {},
   "outputs": [],
   "source": [
    "df['cabin_letter'] = df['Cabin'].fillna(0)"
   ]
  },
  {
   "cell_type": "code",
   "execution_count": 315,
   "id": "5039c8f0",
   "metadata": {},
   "outputs": [
    {
     "name": "stderr",
     "output_type": "stream",
     "text": [
      "/var/folders/zy/0n165qy96vxgpv3m2z9_5tf00000gn/T/ipykernel_6211/1431756043.py:8: SettingWithCopyWarning: \n",
      "A value is trying to be set on a copy of a slice from a DataFrame\n",
      "\n",
      "See the caveats in the documentation: https://pandas.pydata.org/pandas-docs/stable/user_guide/indexing.html#returning-a-view-versus-a-copy\n",
      "  df['cabin_letter'][i] = str(letter)\n"
     ]
    },
    {
     "data": {
      "text/plain": [
       "['C', 'E', 'G', 'D', 'A', 'B', 'F', 'T']"
      ]
     },
     "execution_count": 315,
     "metadata": {},
     "output_type": "execute_result"
    }
   ],
   "source": [
    "cabin_values = list()\n",
    "size_df = range(len(df))\n",
    "\n",
    "for i in size_df:\n",
    "    cabin =  df['Cabin'][i]\n",
    "    if cabin is not np.nan:\n",
    "        letter = cabin[0]\n",
    "        df['cabin_letter'][i] = str(letter)\n",
    "        if letter not in cabin_values:\n",
    "            cabin_values.append(letter)\n",
    "\n",
    "cabin_values"
   ]
  },
  {
   "cell_type": "code",
   "execution_count": 316,
   "id": "1a53df7d",
   "metadata": {},
   "outputs": [],
   "source": [
    "df['cabin_a'] = df['cabin_letter'].replace(\n",
    "    ['A', 'B', 'C', 'D', 'E', 'F', 'G', 'T'], [1,0,0,0,0,0,0,0])"
   ]
  },
  {
   "cell_type": "code",
   "execution_count": 317,
   "id": "08198f2c",
   "metadata": {},
   "outputs": [],
   "source": [
    "df['cabin_b'] = df['cabin_letter'].replace(\n",
    "    ['A', 'B', 'C', 'D', 'E', 'F', 'G', 'T'], [0,1,0,0,0,0,0,0])"
   ]
  },
  {
   "cell_type": "code",
   "execution_count": 318,
   "id": "bf888dca",
   "metadata": {},
   "outputs": [],
   "source": [
    "df['cabin_c'] = df['cabin_letter'].replace(\n",
    "    ['A', 'B', 'C', 'D', 'E', 'F', 'G', 'T'], [0,0,1,0,0,0,0,0])"
   ]
  },
  {
   "cell_type": "code",
   "execution_count": 319,
   "id": "943724d9",
   "metadata": {},
   "outputs": [],
   "source": [
    "df['cabin_d'] = df['cabin_letter'].replace(\n",
    "    ['A', 'B', 'C', 'D', 'E', 'F', 'G', 'T'], [0,0,0,1,0,0,0,0])"
   ]
  },
  {
   "cell_type": "code",
   "execution_count": 320,
   "id": "31e65c5b",
   "metadata": {},
   "outputs": [],
   "source": [
    "df['cabin_e'] = df['cabin_letter'].replace(\n",
    "    ['A', 'B', 'C', 'D', 'E', 'F', 'G', 'T'], [0,0,0,0,1,0,0,0])"
   ]
  },
  {
   "cell_type": "code",
   "execution_count": 321,
   "id": "a3f06629",
   "metadata": {},
   "outputs": [],
   "source": [
    "df['cabin_f'] = df['cabin_letter'].replace(\n",
    "    ['A', 'B', 'C', 'D', 'E', 'F', 'G', 'T'], [0,0,0,0,0,1,0,0])"
   ]
  },
  {
   "cell_type": "code",
   "execution_count": 322,
   "id": "378dcace",
   "metadata": {},
   "outputs": [],
   "source": [
    "df['cabin_g'] = df['cabin_letter'].replace(\n",
    "    ['A', 'B', 'C', 'D', 'E', 'F', 'G', 'T'], [0,0,0,0,0,0,1,0])"
   ]
  },
  {
   "cell_type": "code",
   "execution_count": 323,
   "id": "4ab3e849",
   "metadata": {},
   "outputs": [],
   "source": [
    "df['cabin_t'] = df['cabin_letter'].replace(\n",
    "    ['A', 'B', 'C', 'D', 'E', 'F', 'G', 'T'], [0,0,0,0,0,0,0,1])"
   ]
  },
  {
   "cell_type": "code",
   "execution_count": 324,
   "id": "78c9be27",
   "metadata": {},
   "outputs": [],
   "source": [
    "to_drop = ['Cabin', 'cabin_letter']\n",
    "df = df.drop(columns = to_drop)"
   ]
  },
  {
   "cell_type": "code",
   "execution_count": 325,
   "id": "8b18fa72",
   "metadata": {},
   "outputs": [
    {
     "data": {
      "text/html": [
       "<div>\n",
       "<style scoped>\n",
       "    .dataframe tbody tr th:only-of-type {\n",
       "        vertical-align: middle;\n",
       "    }\n",
       "\n",
       "    .dataframe tbody tr th {\n",
       "        vertical-align: top;\n",
       "    }\n",
       "\n",
       "    .dataframe thead th {\n",
       "        text-align: right;\n",
       "    }\n",
       "</style>\n",
       "<table border=\"1\" class=\"dataframe\">\n",
       "  <thead>\n",
       "    <tr style=\"text-align: right;\">\n",
       "      <th></th>\n",
       "      <th>PassengerId</th>\n",
       "      <th>Survived</th>\n",
       "      <th>Pclass</th>\n",
       "      <th>Name</th>\n",
       "      <th>Sex</th>\n",
       "      <th>SibSp</th>\n",
       "      <th>Parch</th>\n",
       "      <th>Ticket</th>\n",
       "      <th>Fare</th>\n",
       "      <th>Embarked</th>\n",
       "      <th>age_mean</th>\n",
       "      <th>cabin_a</th>\n",
       "      <th>cabin_b</th>\n",
       "      <th>cabin_c</th>\n",
       "      <th>cabin_d</th>\n",
       "      <th>cabin_e</th>\n",
       "      <th>cabin_f</th>\n",
       "      <th>cabin_g</th>\n",
       "      <th>cabin_t</th>\n",
       "    </tr>\n",
       "  </thead>\n",
       "  <tbody>\n",
       "    <tr>\n",
       "      <th>0</th>\n",
       "      <td>1</td>\n",
       "      <td>0</td>\n",
       "      <td>3</td>\n",
       "      <td>Braund, Mr. Owen Harris</td>\n",
       "      <td>male</td>\n",
       "      <td>1</td>\n",
       "      <td>0</td>\n",
       "      <td>A/5 21171</td>\n",
       "      <td>7.2500</td>\n",
       "      <td>S</td>\n",
       "      <td>22.000000</td>\n",
       "      <td>0</td>\n",
       "      <td>0</td>\n",
       "      <td>0</td>\n",
       "      <td>0</td>\n",
       "      <td>0</td>\n",
       "      <td>0</td>\n",
       "      <td>0</td>\n",
       "      <td>0</td>\n",
       "    </tr>\n",
       "    <tr>\n",
       "      <th>1</th>\n",
       "      <td>2</td>\n",
       "      <td>1</td>\n",
       "      <td>1</td>\n",
       "      <td>Cumings, Mrs. John Bradley (Florence Briggs Th...</td>\n",
       "      <td>female</td>\n",
       "      <td>1</td>\n",
       "      <td>0</td>\n",
       "      <td>PC 17599</td>\n",
       "      <td>71.2833</td>\n",
       "      <td>C</td>\n",
       "      <td>38.000000</td>\n",
       "      <td>0</td>\n",
       "      <td>0</td>\n",
       "      <td>1</td>\n",
       "      <td>0</td>\n",
       "      <td>0</td>\n",
       "      <td>0</td>\n",
       "      <td>0</td>\n",
       "      <td>0</td>\n",
       "    </tr>\n",
       "    <tr>\n",
       "      <th>2</th>\n",
       "      <td>3</td>\n",
       "      <td>1</td>\n",
       "      <td>3</td>\n",
       "      <td>Heikkinen, Miss. Laina</td>\n",
       "      <td>female</td>\n",
       "      <td>0</td>\n",
       "      <td>0</td>\n",
       "      <td>STON/O2. 3101282</td>\n",
       "      <td>7.9250</td>\n",
       "      <td>S</td>\n",
       "      <td>26.000000</td>\n",
       "      <td>0</td>\n",
       "      <td>0</td>\n",
       "      <td>0</td>\n",
       "      <td>0</td>\n",
       "      <td>0</td>\n",
       "      <td>0</td>\n",
       "      <td>0</td>\n",
       "      <td>0</td>\n",
       "    </tr>\n",
       "    <tr>\n",
       "      <th>3</th>\n",
       "      <td>4</td>\n",
       "      <td>1</td>\n",
       "      <td>1</td>\n",
       "      <td>Futrelle, Mrs. Jacques Heath (Lily May Peel)</td>\n",
       "      <td>female</td>\n",
       "      <td>1</td>\n",
       "      <td>0</td>\n",
       "      <td>113803</td>\n",
       "      <td>53.1000</td>\n",
       "      <td>S</td>\n",
       "      <td>35.000000</td>\n",
       "      <td>0</td>\n",
       "      <td>0</td>\n",
       "      <td>1</td>\n",
       "      <td>0</td>\n",
       "      <td>0</td>\n",
       "      <td>0</td>\n",
       "      <td>0</td>\n",
       "      <td>0</td>\n",
       "    </tr>\n",
       "    <tr>\n",
       "      <th>4</th>\n",
       "      <td>5</td>\n",
       "      <td>0</td>\n",
       "      <td>3</td>\n",
       "      <td>Allen, Mr. William Henry</td>\n",
       "      <td>male</td>\n",
       "      <td>0</td>\n",
       "      <td>0</td>\n",
       "      <td>373450</td>\n",
       "      <td>8.0500</td>\n",
       "      <td>S</td>\n",
       "      <td>35.000000</td>\n",
       "      <td>0</td>\n",
       "      <td>0</td>\n",
       "      <td>0</td>\n",
       "      <td>0</td>\n",
       "      <td>0</td>\n",
       "      <td>0</td>\n",
       "      <td>0</td>\n",
       "      <td>0</td>\n",
       "    </tr>\n",
       "    <tr>\n",
       "      <th>...</th>\n",
       "      <td>...</td>\n",
       "      <td>...</td>\n",
       "      <td>...</td>\n",
       "      <td>...</td>\n",
       "      <td>...</td>\n",
       "      <td>...</td>\n",
       "      <td>...</td>\n",
       "      <td>...</td>\n",
       "      <td>...</td>\n",
       "      <td>...</td>\n",
       "      <td>...</td>\n",
       "      <td>...</td>\n",
       "      <td>...</td>\n",
       "      <td>...</td>\n",
       "      <td>...</td>\n",
       "      <td>...</td>\n",
       "      <td>...</td>\n",
       "      <td>...</td>\n",
       "      <td>...</td>\n",
       "    </tr>\n",
       "    <tr>\n",
       "      <th>886</th>\n",
       "      <td>887</td>\n",
       "      <td>0</td>\n",
       "      <td>2</td>\n",
       "      <td>Montvila, Rev. Juozas</td>\n",
       "      <td>male</td>\n",
       "      <td>0</td>\n",
       "      <td>0</td>\n",
       "      <td>211536</td>\n",
       "      <td>13.0000</td>\n",
       "      <td>S</td>\n",
       "      <td>27.000000</td>\n",
       "      <td>0</td>\n",
       "      <td>0</td>\n",
       "      <td>0</td>\n",
       "      <td>0</td>\n",
       "      <td>0</td>\n",
       "      <td>0</td>\n",
       "      <td>0</td>\n",
       "      <td>0</td>\n",
       "    </tr>\n",
       "    <tr>\n",
       "      <th>887</th>\n",
       "      <td>888</td>\n",
       "      <td>1</td>\n",
       "      <td>1</td>\n",
       "      <td>Graham, Miss. Margaret Edith</td>\n",
       "      <td>female</td>\n",
       "      <td>0</td>\n",
       "      <td>0</td>\n",
       "      <td>112053</td>\n",
       "      <td>30.0000</td>\n",
       "      <td>S</td>\n",
       "      <td>19.000000</td>\n",
       "      <td>0</td>\n",
       "      <td>1</td>\n",
       "      <td>0</td>\n",
       "      <td>0</td>\n",
       "      <td>0</td>\n",
       "      <td>0</td>\n",
       "      <td>0</td>\n",
       "      <td>0</td>\n",
       "    </tr>\n",
       "    <tr>\n",
       "      <th>888</th>\n",
       "      <td>889</td>\n",
       "      <td>0</td>\n",
       "      <td>3</td>\n",
       "      <td>Johnston, Miss. Catherine Helen \"Carrie\"</td>\n",
       "      <td>female</td>\n",
       "      <td>1</td>\n",
       "      <td>2</td>\n",
       "      <td>W./C. 6607</td>\n",
       "      <td>23.4500</td>\n",
       "      <td>S</td>\n",
       "      <td>29.699118</td>\n",
       "      <td>0</td>\n",
       "      <td>0</td>\n",
       "      <td>0</td>\n",
       "      <td>0</td>\n",
       "      <td>0</td>\n",
       "      <td>0</td>\n",
       "      <td>0</td>\n",
       "      <td>0</td>\n",
       "    </tr>\n",
       "    <tr>\n",
       "      <th>889</th>\n",
       "      <td>890</td>\n",
       "      <td>1</td>\n",
       "      <td>1</td>\n",
       "      <td>Behr, Mr. Karl Howell</td>\n",
       "      <td>male</td>\n",
       "      <td>0</td>\n",
       "      <td>0</td>\n",
       "      <td>111369</td>\n",
       "      <td>30.0000</td>\n",
       "      <td>C</td>\n",
       "      <td>26.000000</td>\n",
       "      <td>0</td>\n",
       "      <td>0</td>\n",
       "      <td>1</td>\n",
       "      <td>0</td>\n",
       "      <td>0</td>\n",
       "      <td>0</td>\n",
       "      <td>0</td>\n",
       "      <td>0</td>\n",
       "    </tr>\n",
       "    <tr>\n",
       "      <th>890</th>\n",
       "      <td>891</td>\n",
       "      <td>0</td>\n",
       "      <td>3</td>\n",
       "      <td>Dooley, Mr. Patrick</td>\n",
       "      <td>male</td>\n",
       "      <td>0</td>\n",
       "      <td>0</td>\n",
       "      <td>370376</td>\n",
       "      <td>7.7500</td>\n",
       "      <td>Q</td>\n",
       "      <td>32.000000</td>\n",
       "      <td>0</td>\n",
       "      <td>0</td>\n",
       "      <td>0</td>\n",
       "      <td>0</td>\n",
       "      <td>0</td>\n",
       "      <td>0</td>\n",
       "      <td>0</td>\n",
       "      <td>0</td>\n",
       "    </tr>\n",
       "  </tbody>\n",
       "</table>\n",
       "<p>891 rows × 19 columns</p>\n",
       "</div>"
      ],
      "text/plain": [
       "     PassengerId  Survived  Pclass  \\\n",
       "0              1         0       3   \n",
       "1              2         1       1   \n",
       "2              3         1       3   \n",
       "3              4         1       1   \n",
       "4              5         0       3   \n",
       "..           ...       ...     ...   \n",
       "886          887         0       2   \n",
       "887          888         1       1   \n",
       "888          889         0       3   \n",
       "889          890         1       1   \n",
       "890          891         0       3   \n",
       "\n",
       "                                                  Name     Sex  SibSp  Parch  \\\n",
       "0                              Braund, Mr. Owen Harris    male      1      0   \n",
       "1    Cumings, Mrs. John Bradley (Florence Briggs Th...  female      1      0   \n",
       "2                               Heikkinen, Miss. Laina  female      0      0   \n",
       "3         Futrelle, Mrs. Jacques Heath (Lily May Peel)  female      1      0   \n",
       "4                             Allen, Mr. William Henry    male      0      0   \n",
       "..                                                 ...     ...    ...    ...   \n",
       "886                              Montvila, Rev. Juozas    male      0      0   \n",
       "887                       Graham, Miss. Margaret Edith  female      0      0   \n",
       "888           Johnston, Miss. Catherine Helen \"Carrie\"  female      1      2   \n",
       "889                              Behr, Mr. Karl Howell    male      0      0   \n",
       "890                                Dooley, Mr. Patrick    male      0      0   \n",
       "\n",
       "               Ticket     Fare Embarked   age_mean  cabin_a  cabin_b  cabin_c  \\\n",
       "0           A/5 21171   7.2500        S  22.000000        0        0        0   \n",
       "1            PC 17599  71.2833        C  38.000000        0        0        1   \n",
       "2    STON/O2. 3101282   7.9250        S  26.000000        0        0        0   \n",
       "3              113803  53.1000        S  35.000000        0        0        1   \n",
       "4              373450   8.0500        S  35.000000        0        0        0   \n",
       "..                ...      ...      ...        ...      ...      ...      ...   \n",
       "886            211536  13.0000        S  27.000000        0        0        0   \n",
       "887            112053  30.0000        S  19.000000        0        1        0   \n",
       "888        W./C. 6607  23.4500        S  29.699118        0        0        0   \n",
       "889            111369  30.0000        C  26.000000        0        0        1   \n",
       "890            370376   7.7500        Q  32.000000        0        0        0   \n",
       "\n",
       "     cabin_d  cabin_e  cabin_f  cabin_g  cabin_t  \n",
       "0          0        0        0        0        0  \n",
       "1          0        0        0        0        0  \n",
       "2          0        0        0        0        0  \n",
       "3          0        0        0        0        0  \n",
       "4          0        0        0        0        0  \n",
       "..       ...      ...      ...      ...      ...  \n",
       "886        0        0        0        0        0  \n",
       "887        0        0        0        0        0  \n",
       "888        0        0        0        0        0  \n",
       "889        0        0        0        0        0  \n",
       "890        0        0        0        0        0  \n",
       "\n",
       "[891 rows x 19 columns]"
      ]
     },
     "execution_count": 325,
     "metadata": {},
     "output_type": "execute_result"
    }
   ],
   "source": [
    "df"
   ]
  },
  {
   "cell_type": "code",
   "execution_count": 326,
   "id": "ffbaf8c2",
   "metadata": {},
   "outputs": [
    {
     "data": {
      "text/plain": [
       "<AxesSubplot: xlabel='Embarked', ylabel='Count'>"
      ]
     },
     "execution_count": 326,
     "metadata": {},
     "output_type": "execute_result"
    },
    {
     "data": {
      "image/png": "[encoded data removed]",
      "text/plain": [
       "<Figure size 640x480 with 1 Axes>"
      ]
     },
     "metadata": {},
     "output_type": "display_data"
    }
   ],
   "source": [
    "# Embarked\n",
    "sns.histplot(df['Embarked'],color='green')"
   ]
  },
  {
   "cell_type": "code",
   "execution_count": 327,
   "id": "b279ea03",
   "metadata": {},
   "outputs": [
    {
     "data": {
      "text/plain": [
       "'S'"
      ]
     },
     "execution_count": 327,
     "metadata": {},
     "output_type": "execute_result"
    }
   ],
   "source": [
    "embarked_mode = df['Embarked'].mode()[0]\n",
    "embarked_mode"
   ]
  },
  {
   "cell_type": "code",
   "execution_count": 328,
   "id": "f0ef7780",
   "metadata": {},
   "outputs": [],
   "source": [
    "df['embarked_mode'] = df['Embarked'].fillna(embarked_mode)"
   ]
  },
  {
   "cell_type": "code",
   "execution_count": 329,
   "id": "837aefc5",
   "metadata": {},
   "outputs": [],
   "source": [
    "to_drop = ['Embarked']\n",
    "df = df.drop(columns = to_drop)"
   ]
  },
  {
   "cell_type": "code",
   "execution_count": 330,
   "id": "a347e8fd",
   "metadata": {},
   "outputs": [],
   "source": [
    "# # Todo: Ticket\n",
    "# sns.scatterplot(y='Fare', x='embarked_mode', data=df,)\n",
    "# plt.show()"
   ]
  },
  {
   "cell_type": "code",
   "execution_count": 331,
   "id": "5b8c2d53",
   "metadata": {},
   "outputs": [
    {
     "data": {
      "text/plain": [
       "PassengerId      0\n",
       "Survived         0\n",
       "Pclass           0\n",
       "Name             0\n",
       "Sex              0\n",
       "SibSp            0\n",
       "Parch            0\n",
       "Ticket           0\n",
       "Fare             0\n",
       "age_mean         0\n",
       "cabin_a          0\n",
       "cabin_b          0\n",
       "cabin_c          0\n",
       "cabin_d          0\n",
       "cabin_e          0\n",
       "cabin_f          0\n",
       "cabin_g          0\n",
       "cabin_t          0\n",
       "embarked_mode    0\n",
       "dtype: int64"
      ]
     },
     "execution_count": 331,
     "metadata": {},
     "output_type": "execute_result"
    }
   ],
   "source": [
    "df.isnull().sum()"
   ]
  },
  {
   "cell_type": "code",
   "execution_count": 332,
   "id": "46839598",
   "metadata": {},
   "outputs": [],
   "source": [
    "# df.shape"
   ]
  },
  {
   "cell_type": "markdown",
   "id": "c433faea",
   "metadata": {},
   "source": [
    "# improve Pclass, Sex, Embarked"
   ]
  },
  {
   "cell_type": "code",
   "execution_count": 333,
   "id": "5ff163f2",
   "metadata": {},
   "outputs": [],
   "source": [
    "df['Pclass_1'] = df['Pclass'].replace([3,2], [0,0])\n",
    "df['Pclass_2'] = df['Pclass'].replace([3,2,1], [0,1,0])\n",
    "df['Pclass_3'] = df['Pclass'].replace([3,2,1], [1,0,0])"
   ]
  },
  {
   "cell_type": "code",
   "execution_count": 334,
   "id": "95f2d023",
   "metadata": {},
   "outputs": [],
   "source": [
    "df['female'] = df['Sex'].replace({'female':1, 'male':0})"
   ]
  },
  {
   "cell_type": "code",
   "execution_count": 335,
   "id": "a34db8f6",
   "metadata": {},
   "outputs": [],
   "source": [
    "df['male'] = df['Sex'].replace({'female':0, 'male':1})"
   ]
  },
  {
   "cell_type": "code",
   "execution_count": 336,
   "id": "78faeb7a",
   "metadata": {},
   "outputs": [],
   "source": [
    "df['embarked_s'] = df['embarked_mode'].replace({'S':1,'C':0,'Q':0})"
   ]
  },
  {
   "cell_type": "code",
   "execution_count": 337,
   "id": "1761f6cb",
   "metadata": {},
   "outputs": [],
   "source": [
    "df['embarked_c'] = df['embarked_mode'].replace({'S':0,'C':1,'Q':0})"
   ]
  },
  {
   "cell_type": "code",
   "execution_count": 338,
   "id": "ae380c88",
   "metadata": {},
   "outputs": [],
   "source": [
    "df['embarked_q'] = df['embarked_mode'].replace({'S':0,'C':0,'Q':1})"
   ]
  },
  {
   "cell_type": "code",
   "execution_count": 339,
   "id": "0d4b209a",
   "metadata": {},
   "outputs": [],
   "source": [
    "to_drop = ['Pclass', 'Sex', 'embarked_mode']\n",
    "df = df.drop(columns = to_drop)"
   ]
  },
  {
   "cell_type": "code",
   "execution_count": 340,
   "id": "53ff4c9b",
   "metadata": {},
   "outputs": [],
   "source": [
    "to_drop = ['PassengerId', 'Name', 'Ticket']\n",
    "df = df.drop(columns = to_drop)"
   ]
  },
  {
   "cell_type": "code",
   "execution_count": 341,
   "id": "55ca08db",
   "metadata": {},
   "outputs": [
    {
     "data": {
      "text/html": [
       "<div>\n",
       "<style scoped>\n",
       "    .dataframe tbody tr th:only-of-type {\n",
       "        vertical-align: middle;\n",
       "    }\n",
       "\n",
       "    .dataframe tbody tr th {\n",
       "        vertical-align: top;\n",
       "    }\n",
       "\n",
       "    .dataframe thead th {\n",
       "        text-align: right;\n",
       "    }\n",
       "</style>\n",
       "<table border=\"1\" class=\"dataframe\">\n",
       "  <thead>\n",
       "    <tr style=\"text-align: right;\">\n",
       "      <th></th>\n",
       "      <th>Survived</th>\n",
       "      <th>SibSp</th>\n",
       "      <th>Parch</th>\n",
       "      <th>Fare</th>\n",
       "      <th>age_mean</th>\n",
       "      <th>cabin_a</th>\n",
       "      <th>cabin_b</th>\n",
       "      <th>cabin_c</th>\n",
       "      <th>cabin_d</th>\n",
       "      <th>cabin_e</th>\n",
       "      <th>...</th>\n",
       "      <th>cabin_g</th>\n",
       "      <th>cabin_t</th>\n",
       "      <th>Pclass_1</th>\n",
       "      <th>Pclass_2</th>\n",
       "      <th>Pclass_3</th>\n",
       "      <th>female</th>\n",
       "      <th>male</th>\n",
       "      <th>embarked_s</th>\n",
       "      <th>embarked_c</th>\n",
       "      <th>embarked_q</th>\n",
       "    </tr>\n",
       "  </thead>\n",
       "  <tbody>\n",
       "    <tr>\n",
       "      <th>0</th>\n",
       "      <td>0</td>\n",
       "      <td>1</td>\n",
       "      <td>0</td>\n",
       "      <td>7.2500</td>\n",
       "      <td>22.0</td>\n",
       "      <td>0</td>\n",
       "      <td>0</td>\n",
       "      <td>0</td>\n",
       "      <td>0</td>\n",
       "      <td>0</td>\n",
       "      <td>...</td>\n",
       "      <td>0</td>\n",
       "      <td>0</td>\n",
       "      <td>0</td>\n",
       "      <td>0</td>\n",
       "      <td>1</td>\n",
       "      <td>0</td>\n",
       "      <td>1</td>\n",
       "      <td>1</td>\n",
       "      <td>0</td>\n",
       "      <td>0</td>\n",
       "    </tr>\n",
       "    <tr>\n",
       "      <th>1</th>\n",
       "      <td>1</td>\n",
       "      <td>1</td>\n",
       "      <td>0</td>\n",
       "      <td>71.2833</td>\n",
       "      <td>38.0</td>\n",
       "      <td>0</td>\n",
       "      <td>0</td>\n",
       "      <td>1</td>\n",
       "      <td>0</td>\n",
       "      <td>0</td>\n",
       "      <td>...</td>\n",
       "      <td>0</td>\n",
       "      <td>0</td>\n",
       "      <td>1</td>\n",
       "      <td>0</td>\n",
       "      <td>0</td>\n",
       "      <td>1</td>\n",
       "      <td>0</td>\n",
       "      <td>0</td>\n",
       "      <td>1</td>\n",
       "      <td>0</td>\n",
       "    </tr>\n",
       "    <tr>\n",
       "      <th>2</th>\n",
       "      <td>1</td>\n",
       "      <td>0</td>\n",
       "      <td>0</td>\n",
       "      <td>7.9250</td>\n",
       "      <td>26.0</td>\n",
       "      <td>0</td>\n",
       "      <td>0</td>\n",
       "      <td>0</td>\n",
       "      <td>0</td>\n",
       "      <td>0</td>\n",
       "      <td>...</td>\n",
       "      <td>0</td>\n",
       "      <td>0</td>\n",
       "      <td>0</td>\n",
       "      <td>0</td>\n",
       "      <td>1</td>\n",
       "      <td>1</td>\n",
       "      <td>0</td>\n",
       "      <td>1</td>\n",
       "      <td>0</td>\n",
       "      <td>0</td>\n",
       "    </tr>\n",
       "    <tr>\n",
       "      <th>3</th>\n",
       "      <td>1</td>\n",
       "      <td>1</td>\n",
       "      <td>0</td>\n",
       "      <td>53.1000</td>\n",
       "      <td>35.0</td>\n",
       "      <td>0</td>\n",
       "      <td>0</td>\n",
       "      <td>1</td>\n",
       "      <td>0</td>\n",
       "      <td>0</td>\n",
       "      <td>...</td>\n",
       "      <td>0</td>\n",
       "      <td>0</td>\n",
       "      <td>1</td>\n",
       "      <td>0</td>\n",
       "      <td>0</td>\n",
       "      <td>1</td>\n",
       "      <td>0</td>\n",
       "      <td>1</td>\n",
       "      <td>0</td>\n",
       "      <td>0</td>\n",
       "    </tr>\n",
       "    <tr>\n",
       "      <th>4</th>\n",
       "      <td>0</td>\n",
       "      <td>0</td>\n",
       "      <td>0</td>\n",
       "      <td>8.0500</td>\n",
       "      <td>35.0</td>\n",
       "      <td>0</td>\n",
       "      <td>0</td>\n",
       "      <td>0</td>\n",
       "      <td>0</td>\n",
       "      <td>0</td>\n",
       "      <td>...</td>\n",
       "      <td>0</td>\n",
       "      <td>0</td>\n",
       "      <td>0</td>\n",
       "      <td>0</td>\n",
       "      <td>1</td>\n",
       "      <td>0</td>\n",
       "      <td>1</td>\n",
       "      <td>1</td>\n",
       "      <td>0</td>\n",
       "      <td>0</td>\n",
       "    </tr>\n",
       "  </tbody>\n",
       "</table>\n",
       "<p>5 rows × 21 columns</p>\n",
       "</div>"
      ],
      "text/plain": [
       "   Survived  SibSp  Parch     Fare  age_mean  cabin_a  cabin_b  cabin_c  \\\n",
       "0         0      1      0   7.2500      22.0        0        0        0   \n",
       "1         1      1      0  71.2833      38.0        0        0        1   \n",
       "2         1      0      0   7.9250      26.0        0        0        0   \n",
       "3         1      1      0  53.1000      35.0        0        0        1   \n",
       "4         0      0      0   8.0500      35.0        0        0        0   \n",
       "\n",
       "   cabin_d  cabin_e  ...  cabin_g  cabin_t  Pclass_1  Pclass_2  Pclass_3  \\\n",
       "0        0        0  ...        0        0         0         0         1   \n",
       "1        0        0  ...        0        0         1         0         0   \n",
       "2        0        0  ...        0        0         0         0         1   \n",
       "3        0        0  ...        0        0         1         0         0   \n",
       "4        0        0  ...        0        0         0         0         1   \n",
       "\n",
       "   female  male  embarked_s  embarked_c  embarked_q  \n",
       "0       0     1           1           0           0  \n",
       "1       1     0           0           1           0  \n",
       "2       1     0           1           0           0  \n",
       "3       1     0           1           0           0  \n",
       "4       0     1           1           0           0  \n",
       "\n",
       "[5 rows x 21 columns]"
      ]
     },
     "execution_count": 341,
     "metadata": {},
     "output_type": "execute_result"
    }
   ],
   "source": [
    "df.head()"
   ]
  },
  {
   "cell_type": "markdown",
   "id": "31a00339",
   "metadata": {},
   "source": [
    "# Correlation"
   ]
  },
  {
   "cell_type": "code",
   "execution_count": 342,
   "id": "197ab3df",
   "metadata": {},
   "outputs": [
    {
     "data": {
      "text/plain": [
       "<AxesSubplot: >"
      ]
     },
     "execution_count": 342,
     "metadata": {},
     "output_type": "execute_result"
    },
    {
     "data": {
      "image/png": "[encoded data removed]",
      "text/plain": [
       "<Figure size 640x480 with 2 Axes>"
      ]
     },
     "metadata": {},
     "output_type": "display_data"
    }
   ],
   "source": [
    "fig, ax = plt.subplots()\n",
    "sns.heatmap(df.corr(), ax = ax)"
   ]
  },
  {
   "cell_type": "code",
   "execution_count": 343,
   "id": "d29898d7",
   "metadata": {},
   "outputs": [
    {
     "data": {
      "text/plain": [
       "Survived    1.000000\n",
       "female      0.543351\n",
       "Pclass_1    0.285904\n",
       "Fare        0.257307\n",
       "cabin_b     0.175095\n",
       "Name: Survived, dtype: float64"
      ]
     },
     "execution_count": 343,
     "metadata": {},
     "output_type": "execute_result"
    }
   ],
   "source": [
    "corr_df = df.corr()\n",
    "corr_save = corr_df[\"Survived\"].sort_values(ascending = False)\n",
    "corr_save.head()"
   ]
  },
  {
   "cell_type": "code",
   "execution_count": 344,
   "id": "6723fd4a",
   "metadata": {},
   "outputs": [],
   "source": [
    "from sklearn.metrics import accuracy_score\n",
    "from sklearn.metrics import mean_squared_error, r2_score"
   ]
  },
  {
   "cell_type": "markdown",
   "id": "c641be8c",
   "metadata": {},
   "source": [
    "# k-Nearest Neighbours classifier (kNN)"
   ]
  },
  {
   "cell_type": "code",
   "execution_count": 345,
   "id": "b2f64ea7",
   "metadata": {
    "scrolled": true
   },
   "outputs": [
    {
     "data": {
      "text/plain": [
       "(891, 21)"
      ]
     },
     "execution_count": 345,
     "metadata": {},
     "output_type": "execute_result"
    }
   ],
   "source": [
    "df.shape"
   ]
  },
  {
   "cell_type": "code",
   "execution_count": 346,
   "id": "d08a222d",
   "metadata": {},
   "outputs": [
    {
     "data": {
      "text/plain": [
       "Index(['Survived', 'SibSp', 'Parch', 'Fare', 'age_mean', 'cabin_a', 'cabin_b',\n",
       "       'cabin_c', 'cabin_d', 'cabin_e', 'cabin_f', 'cabin_g', 'cabin_t',\n",
       "       'Pclass_1', 'Pclass_2', 'Pclass_3', 'female', 'male', 'embarked_s',\n",
       "       'embarked_c', 'embarked_q'],\n",
       "      dtype='object')"
      ]
     },
     "execution_count": 346,
     "metadata": {},
     "output_type": "execute_result"
    }
   ],
   "source": [
    "df.columns"
   ]
  },
  {
   "cell_type": "code",
   "execution_count": 347,
   "id": "8e568d3d",
   "metadata": {},
   "outputs": [
    {
     "data": {
      "text/plain": [
       "((891, 20), (891,))"
      ]
     },
     "execution_count": 347,
     "metadata": {},
     "output_type": "execute_result"
    }
   ],
   "source": [
    "# split dataa\n",
    "x = df.iloc[:, 1:]\n",
    "y = df.iloc[:, 0]\n",
    "x.shape, y.shape"
   ]
  },
  {
   "cell_type": "markdown",
   "id": "4978bdb0",
   "metadata": {},
   "source": [
    "# Scaling data"
   ]
  },
  {
   "cell_type": "code",
   "execution_count": 348,
   "id": "1cba1153",
   "metadata": {},
   "outputs": [],
   "source": [
    "from sklearn.preprocessing import MinMaxScaler"
   ]
  },
  {
   "cell_type": "code",
   "execution_count": 349,
   "id": "636b6948",
   "metadata": {},
   "outputs": [],
   "source": [
    "scaler = MinMaxScaler()\n",
    "x_scaled = scaler.fit_transform(x)"
   ]
  },
  {
   "cell_type": "code",
   "execution_count": 350,
   "id": "3c58e46e",
   "metadata": {},
   "outputs": [],
   "source": [
    "x = pd.DataFrame(x_scaled, columns = x.columns)"
   ]
  },
  {
   "cell_type": "code",
   "execution_count": 351,
   "id": "d565cfe5",
   "metadata": {},
   "outputs": [
    {
     "data": {
      "text/html": [
       "<div>\n",
       "<style scoped>\n",
       "    .dataframe tbody tr th:only-of-type {\n",
       "        vertical-align: middle;\n",
       "    }\n",
       "\n",
       "    .dataframe tbody tr th {\n",
       "        vertical-align: top;\n",
       "    }\n",
       "\n",
       "    .dataframe thead th {\n",
       "        text-align: right;\n",
       "    }\n",
       "</style>\n",
       "<table border=\"1\" class=\"dataframe\">\n",
       "  <thead>\n",
       "    <tr style=\"text-align: right;\">\n",
       "      <th></th>\n",
       "      <th>SibSp</th>\n",
       "      <th>Parch</th>\n",
       "      <th>Fare</th>\n",
       "      <th>age_mean</th>\n",
       "      <th>cabin_a</th>\n",
       "      <th>cabin_b</th>\n",
       "      <th>cabin_c</th>\n",
       "      <th>cabin_d</th>\n",
       "      <th>cabin_e</th>\n",
       "      <th>cabin_f</th>\n",
       "      <th>cabin_g</th>\n",
       "      <th>cabin_t</th>\n",
       "      <th>Pclass_1</th>\n",
       "      <th>Pclass_2</th>\n",
       "      <th>Pclass_3</th>\n",
       "      <th>female</th>\n",
       "      <th>male</th>\n",
       "      <th>embarked_s</th>\n",
       "      <th>embarked_c</th>\n",
       "      <th>embarked_q</th>\n",
       "    </tr>\n",
       "  </thead>\n",
       "  <tbody>\n",
       "    <tr>\n",
       "      <th>0</th>\n",
       "      <td>0.125</td>\n",
       "      <td>0.000000</td>\n",
       "      <td>0.014151</td>\n",
       "      <td>0.271174</td>\n",
       "      <td>0.0</td>\n",
       "      <td>0.0</td>\n",
       "      <td>0.0</td>\n",
       "      <td>0.0</td>\n",
       "      <td>0.0</td>\n",
       "      <td>0.0</td>\n",
       "      <td>0.0</td>\n",
       "      <td>0.0</td>\n",
       "      <td>0.0</td>\n",
       "      <td>0.0</td>\n",
       "      <td>1.0</td>\n",
       "      <td>0.0</td>\n",
       "      <td>1.0</td>\n",
       "      <td>1.0</td>\n",
       "      <td>0.0</td>\n",
       "      <td>0.0</td>\n",
       "    </tr>\n",
       "    <tr>\n",
       "      <th>1</th>\n",
       "      <td>0.125</td>\n",
       "      <td>0.000000</td>\n",
       "      <td>0.139136</td>\n",
       "      <td>0.472229</td>\n",
       "      <td>0.0</td>\n",
       "      <td>0.0</td>\n",
       "      <td>1.0</td>\n",
       "      <td>0.0</td>\n",
       "      <td>0.0</td>\n",
       "      <td>0.0</td>\n",
       "      <td>0.0</td>\n",
       "      <td>0.0</td>\n",
       "      <td>1.0</td>\n",
       "      <td>0.0</td>\n",
       "      <td>0.0</td>\n",
       "      <td>1.0</td>\n",
       "      <td>0.0</td>\n",
       "      <td>0.0</td>\n",
       "      <td>1.0</td>\n",
       "      <td>0.0</td>\n",
       "    </tr>\n",
       "    <tr>\n",
       "      <th>2</th>\n",
       "      <td>0.000</td>\n",
       "      <td>0.000000</td>\n",
       "      <td>0.015469</td>\n",
       "      <td>0.321438</td>\n",
       "      <td>0.0</td>\n",
       "      <td>0.0</td>\n",
       "      <td>0.0</td>\n",
       "      <td>0.0</td>\n",
       "      <td>0.0</td>\n",
       "      <td>0.0</td>\n",
       "      <td>0.0</td>\n",
       "      <td>0.0</td>\n",
       "      <td>0.0</td>\n",
       "      <td>0.0</td>\n",
       "      <td>1.0</td>\n",
       "      <td>1.0</td>\n",
       "      <td>0.0</td>\n",
       "      <td>1.0</td>\n",
       "      <td>0.0</td>\n",
       "      <td>0.0</td>\n",
       "    </tr>\n",
       "    <tr>\n",
       "      <th>3</th>\n",
       "      <td>0.125</td>\n",
       "      <td>0.000000</td>\n",
       "      <td>0.103644</td>\n",
       "      <td>0.434531</td>\n",
       "      <td>0.0</td>\n",
       "      <td>0.0</td>\n",
       "      <td>1.0</td>\n",
       "      <td>0.0</td>\n",
       "      <td>0.0</td>\n",
       "      <td>0.0</td>\n",
       "      <td>0.0</td>\n",
       "      <td>0.0</td>\n",
       "      <td>1.0</td>\n",
       "      <td>0.0</td>\n",
       "      <td>0.0</td>\n",
       "      <td>1.0</td>\n",
       "      <td>0.0</td>\n",
       "      <td>1.0</td>\n",
       "      <td>0.0</td>\n",
       "      <td>0.0</td>\n",
       "    </tr>\n",
       "    <tr>\n",
       "      <th>4</th>\n",
       "      <td>0.000</td>\n",
       "      <td>0.000000</td>\n",
       "      <td>0.015713</td>\n",
       "      <td>0.434531</td>\n",
       "      <td>0.0</td>\n",
       "      <td>0.0</td>\n",
       "      <td>0.0</td>\n",
       "      <td>0.0</td>\n",
       "      <td>0.0</td>\n",
       "      <td>0.0</td>\n",
       "      <td>0.0</td>\n",
       "      <td>0.0</td>\n",
       "      <td>0.0</td>\n",
       "      <td>0.0</td>\n",
       "      <td>1.0</td>\n",
       "      <td>0.0</td>\n",
       "      <td>1.0</td>\n",
       "      <td>1.0</td>\n",
       "      <td>0.0</td>\n",
       "      <td>0.0</td>\n",
       "    </tr>\n",
       "    <tr>\n",
       "      <th>...</th>\n",
       "      <td>...</td>\n",
       "      <td>...</td>\n",
       "      <td>...</td>\n",
       "      <td>...</td>\n",
       "      <td>...</td>\n",
       "      <td>...</td>\n",
       "      <td>...</td>\n",
       "      <td>...</td>\n",
       "      <td>...</td>\n",
       "      <td>...</td>\n",
       "      <td>...</td>\n",
       "      <td>...</td>\n",
       "      <td>...</td>\n",
       "      <td>...</td>\n",
       "      <td>...</td>\n",
       "      <td>...</td>\n",
       "      <td>...</td>\n",
       "      <td>...</td>\n",
       "      <td>...</td>\n",
       "      <td>...</td>\n",
       "    </tr>\n",
       "    <tr>\n",
       "      <th>886</th>\n",
       "      <td>0.000</td>\n",
       "      <td>0.000000</td>\n",
       "      <td>0.025374</td>\n",
       "      <td>0.334004</td>\n",
       "      <td>0.0</td>\n",
       "      <td>0.0</td>\n",
       "      <td>0.0</td>\n",
       "      <td>0.0</td>\n",
       "      <td>0.0</td>\n",
       "      <td>0.0</td>\n",
       "      <td>0.0</td>\n",
       "      <td>0.0</td>\n",
       "      <td>0.0</td>\n",
       "      <td>1.0</td>\n",
       "      <td>0.0</td>\n",
       "      <td>0.0</td>\n",
       "      <td>1.0</td>\n",
       "      <td>1.0</td>\n",
       "      <td>0.0</td>\n",
       "      <td>0.0</td>\n",
       "    </tr>\n",
       "    <tr>\n",
       "      <th>887</th>\n",
       "      <td>0.000</td>\n",
       "      <td>0.000000</td>\n",
       "      <td>0.058556</td>\n",
       "      <td>0.233476</td>\n",
       "      <td>0.0</td>\n",
       "      <td>1.0</td>\n",
       "      <td>0.0</td>\n",
       "      <td>0.0</td>\n",
       "      <td>0.0</td>\n",
       "      <td>0.0</td>\n",
       "      <td>0.0</td>\n",
       "      <td>0.0</td>\n",
       "      <td>1.0</td>\n",
       "      <td>0.0</td>\n",
       "      <td>0.0</td>\n",
       "      <td>1.0</td>\n",
       "      <td>0.0</td>\n",
       "      <td>1.0</td>\n",
       "      <td>0.0</td>\n",
       "      <td>0.0</td>\n",
       "    </tr>\n",
       "    <tr>\n",
       "      <th>888</th>\n",
       "      <td>0.125</td>\n",
       "      <td>0.333333</td>\n",
       "      <td>0.045771</td>\n",
       "      <td>0.367921</td>\n",
       "      <td>0.0</td>\n",
       "      <td>0.0</td>\n",
       "      <td>0.0</td>\n",
       "      <td>0.0</td>\n",
       "      <td>0.0</td>\n",
       "      <td>0.0</td>\n",
       "      <td>0.0</td>\n",
       "      <td>0.0</td>\n",
       "      <td>0.0</td>\n",
       "      <td>0.0</td>\n",
       "      <td>1.0</td>\n",
       "      <td>1.0</td>\n",
       "      <td>0.0</td>\n",
       "      <td>1.0</td>\n",
       "      <td>0.0</td>\n",
       "      <td>0.0</td>\n",
       "    </tr>\n",
       "    <tr>\n",
       "      <th>889</th>\n",
       "      <td>0.000</td>\n",
       "      <td>0.000000</td>\n",
       "      <td>0.058556</td>\n",
       "      <td>0.321438</td>\n",
       "      <td>0.0</td>\n",
       "      <td>0.0</td>\n",
       "      <td>1.0</td>\n",
       "      <td>0.0</td>\n",
       "      <td>0.0</td>\n",
       "      <td>0.0</td>\n",
       "      <td>0.0</td>\n",
       "      <td>0.0</td>\n",
       "      <td>1.0</td>\n",
       "      <td>0.0</td>\n",
       "      <td>0.0</td>\n",
       "      <td>0.0</td>\n",
       "      <td>1.0</td>\n",
       "      <td>0.0</td>\n",
       "      <td>1.0</td>\n",
       "      <td>0.0</td>\n",
       "    </tr>\n",
       "    <tr>\n",
       "      <th>890</th>\n",
       "      <td>0.000</td>\n",
       "      <td>0.000000</td>\n",
       "      <td>0.015127</td>\n",
       "      <td>0.396833</td>\n",
       "      <td>0.0</td>\n",
       "      <td>0.0</td>\n",
       "      <td>0.0</td>\n",
       "      <td>0.0</td>\n",
       "      <td>0.0</td>\n",
       "      <td>0.0</td>\n",
       "      <td>0.0</td>\n",
       "      <td>0.0</td>\n",
       "      <td>0.0</td>\n",
       "      <td>0.0</td>\n",
       "      <td>1.0</td>\n",
       "      <td>0.0</td>\n",
       "      <td>1.0</td>\n",
       "      <td>0.0</td>\n",
       "      <td>0.0</td>\n",
       "      <td>1.0</td>\n",
       "    </tr>\n",
       "  </tbody>\n",
       "</table>\n",
       "<p>891 rows × 20 columns</p>\n",
       "</div>"
      ],
      "text/plain": [
       "     SibSp     Parch      Fare  age_mean  cabin_a  cabin_b  cabin_c  cabin_d  \\\n",
       "0    0.125  0.000000  0.014151  0.271174      0.0      0.0      0.0      0.0   \n",
       "1    0.125  0.000000  0.139136  0.472229      0.0      0.0      1.0      0.0   \n",
       "2    0.000  0.000000  0.015469  0.321438      0.0      0.0      0.0      0.0   \n",
       "3    0.125  0.000000  0.103644  0.434531      0.0      0.0      1.0      0.0   \n",
       "4    0.000  0.000000  0.015713  0.434531      0.0      0.0      0.0      0.0   \n",
       "..     ...       ...       ...       ...      ...      ...      ...      ...   \n",
       "886  0.000  0.000000  0.025374  0.334004      0.0      0.0      0.0      0.0   \n",
       "887  0.000  0.000000  0.058556  0.233476      0.0      1.0      0.0      0.0   \n",
       "888  0.125  0.333333  0.045771  0.367921      0.0      0.0      0.0      0.0   \n",
       "889  0.000  0.000000  0.058556  0.321438      0.0      0.0      1.0      0.0   \n",
       "890  0.000  0.000000  0.015127  0.396833      0.0      0.0      0.0      0.0   \n",
       "\n",
       "     cabin_e  cabin_f  cabin_g  cabin_t  Pclass_1  Pclass_2  Pclass_3  female  \\\n",
       "0        0.0      0.0      0.0      0.0       0.0       0.0       1.0     0.0   \n",
       "1        0.0      0.0      0.0      0.0       1.0       0.0       0.0     1.0   \n",
       "2        0.0      0.0      0.0      0.0       0.0       0.0       1.0     1.0   \n",
       "3        0.0      0.0      0.0      0.0       1.0       0.0       0.0     1.0   \n",
       "4        0.0      0.0      0.0      0.0       0.0       0.0       1.0     0.0   \n",
       "..       ...      ...      ...      ...       ...       ...       ...     ...   \n",
       "886      0.0      0.0      0.0      0.0       0.0       1.0       0.0     0.0   \n",
       "887      0.0      0.0      0.0      0.0       1.0       0.0       0.0     1.0   \n",
       "888      0.0      0.0      0.0      0.0       0.0       0.0       1.0     1.0   \n",
       "889      0.0      0.0      0.0      0.0       1.0       0.0       0.0     0.0   \n",
       "890      0.0      0.0      0.0      0.0       0.0       0.0       1.0     0.0   \n",
       "\n",
       "     male  embarked_s  embarked_c  embarked_q  \n",
       "0     1.0         1.0         0.0         0.0  \n",
       "1     0.0         0.0         1.0         0.0  \n",
       "2     0.0         1.0         0.0         0.0  \n",
       "3     0.0         1.0         0.0         0.0  \n",
       "4     1.0         1.0         0.0         0.0  \n",
       "..    ...         ...         ...         ...  \n",
       "886   1.0         1.0         0.0         0.0  \n",
       "887   0.0         1.0         0.0         0.0  \n",
       "888   0.0         1.0         0.0         0.0  \n",
       "889   1.0         0.0         1.0         0.0  \n",
       "890   1.0         0.0         0.0         1.0  \n",
       "\n",
       "[891 rows x 20 columns]"
      ]
     },
     "execution_count": 351,
     "metadata": {},
     "output_type": "execute_result"
    }
   ],
   "source": [
    "x"
   ]
  },
  {
   "cell_type": "code",
   "execution_count": 352,
   "id": "e134b593",
   "metadata": {},
   "outputs": [],
   "source": [
    "from sklearn.model_selection import train_test_split"
   ]
  },
  {
   "cell_type": "code",
   "execution_count": 353,
   "id": "23cba9e1",
   "metadata": {},
   "outputs": [],
   "source": [
    "x_train, x_test, y_train, y_test = train_test_split(x, y, random_state = 56, stratify=y)"
   ]
  },
  {
   "cell_type": "code",
   "execution_count": 354,
   "id": "fa91eee7",
   "metadata": {},
   "outputs": [
    {
     "name": "stdout",
     "output_type": "stream",
     "text": [
      "(668, 20)\n",
      "(223, 20)\n",
      "(668,)\n",
      "(223,)\n"
     ]
    }
   ],
   "source": [
    "print(x_train.shape)\n",
    "print(x_test.shape)\n",
    "print(y_train.shape)\n",
    "print(y_test.shape)"
   ]
  },
  {
   "cell_type": "code",
   "execution_count": 355,
   "id": "bf87c8a1",
   "metadata": {},
   "outputs": [],
   "source": [
    "from sklearn.neighbors import KNeighborsClassifier\n",
    "from sklearn.metrics import f1_score"
   ]
  },
  {
   "cell_type": "code",
   "execution_count": 356,
   "id": "654aac1a",
   "metadata": {},
   "outputs": [
    {
     "name": "stdout",
     "output_type": "stream",
     "text": [
      "N = 10, F1 Score  0.7133757961783439\n"
     ]
    }
   ],
   "source": [
    "knn = KNeighborsClassifier(n_neighbors = 10)\n",
    "\n",
    "knn.fit(x_train, y_train)\n",
    "\n",
    "# Predicting\n",
    "test_predict = knn.predict(x_test)\n",
    "\n",
    "k = f1_score(test_predict, y_test)\n",
    "print('N = 10, F1 Score ', k )"
   ]
  },
  {
   "cell_type": "markdown",
   "id": "72ecca19",
   "metadata": {},
   "source": [
    "# Value for k"
   ]
  },
  {
   "cell_type": "code",
   "execution_count": 357,
   "id": "1f09a660",
   "metadata": {},
   "outputs": [],
   "source": [
    "def get_k(K):\n",
    "    error = []\n",
    "  \n",
    "    # training model for evey value of K\n",
    "    for i in K:\n",
    "        #Instance of KNN\n",
    "        knn = KNeighborsClassifier(n_neighbors = i)\n",
    "        knn.fit(x_train, y_train)\n",
    "\n",
    "    # Appending mse value to empty list claculated using the predictions\n",
    "        tmp = knn.predict(x_test)\n",
    "        tmp = mean_squared_error(tmp, y_test)\n",
    "        error.append(tmp)\n",
    "    \n",
    "    return error"
   ]
  },
  {
   "cell_type": "code",
   "execution_count": 358,
   "id": "7d7fe222",
   "metadata": {},
   "outputs": [],
   "source": [
    "k = range(1,40)\n",
    "error = get_k(k)"
   ]
  },
  {
   "cell_type": "code",
   "execution_count": 359,
   "id": "7b6dd86e",
   "metadata": {},
   "outputs": [
    {
     "data": {
      "text/plain": [
       "[<matplotlib.lines.Line2D at 0x280e915a0>]"
      ]
     },
     "execution_count": 359,
     "metadata": {},
     "output_type": "execute_result"
    },
    {
     "data": {
      "image/png": "[encoded data removed]",
      "text/plain": [
       "<Figure size 640x480 with 1 Axes>"
      ]
     },
     "metadata": {},
     "output_type": "display_data"
    }
   ],
   "source": [
    "plt.plot(k, error)"
   ]
  },
  {
   "cell_type": "code",
   "execution_count": 360,
   "id": "f5e4ac8c",
   "metadata": {},
   "outputs": [
    {
     "name": "stdout",
     "output_type": "stream",
     "text": [
      "30 F1 Score  0.7066666666666667\n",
      "31 F1 Score  0.7019867549668873\n",
      "32 F1 Score  0.7074829931972788\n",
      "33 F1 Score  0.7114093959731544\n",
      "34 F1 Score  0.7162162162162162\n",
      "35 F1 Score  0.7066666666666667\n",
      "36 F1 Score  0.7114093959731544\n",
      "37 F1 Score  0.7066666666666667\n",
      "38 F1 Score  0.7027027027027026\n",
      "39 F1 Score  0.6928104575163397\n",
      "The best n_neighbors =  34\n"
     ]
    }
   ],
   "source": [
    "knn_best = 0\n",
    "n_best = 0\n",
    "for  i in range(30, 40):\n",
    "    knn = KNeighborsClassifier(n_neighbors = i)\n",
    "\n",
    "    knn.fit(x_train, y_train)\n",
    "\n",
    "    # Predicting\n",
    "    test_predict = knn.predict(x_test)\n",
    "\n",
    "    k = f1_score(test_predict, y_test)\n",
    "    print(i, 'F1 Score ', k )\n",
    "    if k > knn_best:\n",
    "        knn_best = k\n",
    "        n_best = i\n",
    "        \n",
    "print('The best n_neighbors = ', n_best)"
   ]
  },
  {
   "cell_type": "code",
   "execution_count": 361,
   "id": "c5166820",
   "metadata": {},
   "outputs": [
    {
     "name": "stdout",
     "output_type": "stream",
     "text": [
      "N = 34 F1 Score 0.7162162162162162\n"
     ]
    }
   ],
   "source": [
    "knn = KNeighborsClassifier(n_neighbors = n_best)\n",
    "\n",
    "knn.fit(x_train, y_train)\n",
    "\n",
    "# Predicting\n",
    "test_predict = knn.predict(x_test)\n",
    "\n",
    "k = f1_score(test_predict, y_test)\n",
    "print('N = {} F1 Score {}'.format(n_best, k))"
   ]
  },
  {
   "cell_type": "markdown",
   "id": "2f17022f",
   "metadata": {},
   "source": [
    "# Scaling data"
   ]
  },
  {
   "cell_type": "code",
   "execution_count": 362,
   "id": "abd26608",
   "metadata": {},
   "outputs": [],
   "source": [
    "scaler = MinMaxScaler()\n",
    "x_scaled = scaler.fit_transform(x)"
   ]
  },
  {
   "cell_type": "code",
   "execution_count": 363,
   "id": "51278e12",
   "metadata": {},
   "outputs": [],
   "source": [
    "x = pd.DataFrame(x_scaled)"
   ]
  },
  {
   "cell_type": "code",
   "execution_count": 364,
   "id": "2bfbdcef",
   "metadata": {},
   "outputs": [
    {
     "data": {
      "text/html": [
       "<div>\n",
       "<style scoped>\n",
       "    .dataframe tbody tr th:only-of-type {\n",
       "        vertical-align: middle;\n",
       "    }\n",
       "\n",
       "    .dataframe tbody tr th {\n",
       "        vertical-align: top;\n",
       "    }\n",
       "\n",
       "    .dataframe thead th {\n",
       "        text-align: right;\n",
       "    }\n",
       "</style>\n",
       "<table border=\"1\" class=\"dataframe\">\n",
       "  <thead>\n",
       "    <tr style=\"text-align: right;\">\n",
       "      <th></th>\n",
       "      <th>0</th>\n",
       "      <th>1</th>\n",
       "      <th>2</th>\n",
       "      <th>3</th>\n",
       "      <th>4</th>\n",
       "      <th>5</th>\n",
       "      <th>6</th>\n",
       "      <th>7</th>\n",
       "      <th>8</th>\n",
       "      <th>9</th>\n",
       "      <th>10</th>\n",
       "      <th>11</th>\n",
       "      <th>12</th>\n",
       "      <th>13</th>\n",
       "      <th>14</th>\n",
       "      <th>15</th>\n",
       "      <th>16</th>\n",
       "      <th>17</th>\n",
       "      <th>18</th>\n",
       "      <th>19</th>\n",
       "    </tr>\n",
       "  </thead>\n",
       "  <tbody>\n",
       "    <tr>\n",
       "      <th>0</th>\n",
       "      <td>0.125</td>\n",
       "      <td>0.0</td>\n",
       "      <td>0.014151</td>\n",
       "      <td>0.271174</td>\n",
       "      <td>0.0</td>\n",
       "      <td>0.0</td>\n",
       "      <td>0.0</td>\n",
       "      <td>0.0</td>\n",
       "      <td>0.0</td>\n",
       "      <td>0.0</td>\n",
       "      <td>0.0</td>\n",
       "      <td>0.0</td>\n",
       "      <td>0.0</td>\n",
       "      <td>0.0</td>\n",
       "      <td>1.0</td>\n",
       "      <td>0.0</td>\n",
       "      <td>1.0</td>\n",
       "      <td>1.0</td>\n",
       "      <td>0.0</td>\n",
       "      <td>0.0</td>\n",
       "    </tr>\n",
       "    <tr>\n",
       "      <th>1</th>\n",
       "      <td>0.125</td>\n",
       "      <td>0.0</td>\n",
       "      <td>0.139136</td>\n",
       "      <td>0.472229</td>\n",
       "      <td>0.0</td>\n",
       "      <td>0.0</td>\n",
       "      <td>1.0</td>\n",
       "      <td>0.0</td>\n",
       "      <td>0.0</td>\n",
       "      <td>0.0</td>\n",
       "      <td>0.0</td>\n",
       "      <td>0.0</td>\n",
       "      <td>1.0</td>\n",
       "      <td>0.0</td>\n",
       "      <td>0.0</td>\n",
       "      <td>1.0</td>\n",
       "      <td>0.0</td>\n",
       "      <td>0.0</td>\n",
       "      <td>1.0</td>\n",
       "      <td>0.0</td>\n",
       "    </tr>\n",
       "    <tr>\n",
       "      <th>2</th>\n",
       "      <td>0.000</td>\n",
       "      <td>0.0</td>\n",
       "      <td>0.015469</td>\n",
       "      <td>0.321438</td>\n",
       "      <td>0.0</td>\n",
       "      <td>0.0</td>\n",
       "      <td>0.0</td>\n",
       "      <td>0.0</td>\n",
       "      <td>0.0</td>\n",
       "      <td>0.0</td>\n",
       "      <td>0.0</td>\n",
       "      <td>0.0</td>\n",
       "      <td>0.0</td>\n",
       "      <td>0.0</td>\n",
       "      <td>1.0</td>\n",
       "      <td>1.0</td>\n",
       "      <td>0.0</td>\n",
       "      <td>1.0</td>\n",
       "      <td>0.0</td>\n",
       "      <td>0.0</td>\n",
       "    </tr>\n",
       "    <tr>\n",
       "      <th>3</th>\n",
       "      <td>0.125</td>\n",
       "      <td>0.0</td>\n",
       "      <td>0.103644</td>\n",
       "      <td>0.434531</td>\n",
       "      <td>0.0</td>\n",
       "      <td>0.0</td>\n",
       "      <td>1.0</td>\n",
       "      <td>0.0</td>\n",
       "      <td>0.0</td>\n",
       "      <td>0.0</td>\n",
       "      <td>0.0</td>\n",
       "      <td>0.0</td>\n",
       "      <td>1.0</td>\n",
       "      <td>0.0</td>\n",
       "      <td>0.0</td>\n",
       "      <td>1.0</td>\n",
       "      <td>0.0</td>\n",
       "      <td>1.0</td>\n",
       "      <td>0.0</td>\n",
       "      <td>0.0</td>\n",
       "    </tr>\n",
       "    <tr>\n",
       "      <th>4</th>\n",
       "      <td>0.000</td>\n",
       "      <td>0.0</td>\n",
       "      <td>0.015713</td>\n",
       "      <td>0.434531</td>\n",
       "      <td>0.0</td>\n",
       "      <td>0.0</td>\n",
       "      <td>0.0</td>\n",
       "      <td>0.0</td>\n",
       "      <td>0.0</td>\n",
       "      <td>0.0</td>\n",
       "      <td>0.0</td>\n",
       "      <td>0.0</td>\n",
       "      <td>0.0</td>\n",
       "      <td>0.0</td>\n",
       "      <td>1.0</td>\n",
       "      <td>0.0</td>\n",
       "      <td>1.0</td>\n",
       "      <td>1.0</td>\n",
       "      <td>0.0</td>\n",
       "      <td>0.0</td>\n",
       "    </tr>\n",
       "  </tbody>\n",
       "</table>\n",
       "</div>"
      ],
      "text/plain": [
       "      0    1         2         3    4    5    6    7    8    9    10   11  \\\n",
       "0  0.125  0.0  0.014151  0.271174  0.0  0.0  0.0  0.0  0.0  0.0  0.0  0.0   \n",
       "1  0.125  0.0  0.139136  0.472229  0.0  0.0  1.0  0.0  0.0  0.0  0.0  0.0   \n",
       "2  0.000  0.0  0.015469  0.321438  0.0  0.0  0.0  0.0  0.0  0.0  0.0  0.0   \n",
       "3  0.125  0.0  0.103644  0.434531  0.0  0.0  1.0  0.0  0.0  0.0  0.0  0.0   \n",
       "4  0.000  0.0  0.015713  0.434531  0.0  0.0  0.0  0.0  0.0  0.0  0.0  0.0   \n",
       "\n",
       "    12   13   14   15   16   17   18   19  \n",
       "0  0.0  0.0  1.0  0.0  1.0  1.0  0.0  0.0  \n",
       "1  1.0  0.0  0.0  1.0  0.0  0.0  1.0  0.0  \n",
       "2  0.0  0.0  1.0  1.0  0.0  1.0  0.0  0.0  \n",
       "3  1.0  0.0  0.0  1.0  0.0  1.0  0.0  0.0  \n",
       "4  0.0  0.0  1.0  0.0  1.0  1.0  0.0  0.0  "
      ]
     },
     "execution_count": 364,
     "metadata": {},
     "output_type": "execute_result"
    }
   ],
   "source": [
    "x.head()"
   ]
  },
  {
   "cell_type": "code",
   "execution_count": 365,
   "id": "8185bb15",
   "metadata": {},
   "outputs": [],
   "source": [
    "x_train, x_test, y_train, y_test = train_test_split(x, y, random_state = 25)"
   ]
  },
  {
   "cell_type": "code",
   "execution_count": 366,
   "id": "86c1d4f5",
   "metadata": {},
   "outputs": [
    {
     "name": "stdout",
     "output_type": "stream",
     "text": [
      "(668, 20) (668,)\n",
      "(223, 20) (223,)\n"
     ]
    }
   ],
   "source": [
    "print(x_train.shape, y_train.shape)\n",
    "print(x_test.shape, y_test.shape)"
   ]
  },
  {
   "cell_type": "code",
   "execution_count": 367,
   "id": "f698699a",
   "metadata": {},
   "outputs": [],
   "source": [
    "from sklearn.metrics import mean_squared_error"
   ]
  },
  {
   "cell_type": "code",
   "execution_count": 368,
   "id": "cd7c20e7",
   "metadata": {},
   "outputs": [
    {
     "name": "stdout",
     "output_type": "stream",
     "text": [
      "Test mean_squared_error 0.17488789237668162\n"
     ]
    }
   ],
   "source": [
    "knn = KNeighborsClassifier(n_neighbors = n_best)\n",
    "\n",
    "knn.fit(x_train, y_train)\n",
    "\n",
    "# Predicting\n",
    "test_predict = knn.predict(x_test)\n",
    "\n",
    "mean_squared_error_knn = mean_squared_error(y_test, test_predict)\n",
    "print('Test mean_squared_error', mean_squared_error_knn)"
   ]
  },
  {
   "cell_type": "code",
   "execution_count": 369,
   "id": "f21f6f46",
   "metadata": {},
   "outputs": [],
   "source": [
    "k = range(1,40)\n",
    "error = get_k(k)"
   ]
  },
  {
   "cell_type": "code",
   "execution_count": 370,
   "id": "779f6a09",
   "metadata": {},
   "outputs": [
    {
     "data": {
      "text/plain": [
       "Text(0.5, 1.0, 'get k Curve')"
      ]
     },
     "execution_count": 370,
     "metadata": {},
     "output_type": "execute_result"
    },
    {
     "data": {
      "image/png": "[encoded data removed]",
      "text/plain": [
       "<Figure size 640x480 with 1 Axes>"
      ]
     },
     "metadata": {},
     "output_type": "display_data"
    }
   ],
   "source": [
    "plt.plot(k, error)\n",
    "plt.title('get k Curve')"
   ]
  },
  {
   "cell_type": "code",
   "execution_count": 371,
   "id": "ec55eba9",
   "metadata": {},
   "outputs": [
    {
     "name": "stdout",
     "output_type": "stream",
     "text": [
      "30 F1 Score  0.6993006993006993\n",
      "31 F1 Score  0.7172413793103449\n",
      "32 F1 Score  0.6993006993006993\n",
      "33 F1 Score  0.7172413793103449\n",
      "34 F1 Score  0.723404255319149\n",
      "35 F1 Score  0.7172413793103449\n",
      "36 F1 Score  0.7194244604316546\n",
      "37 F1 Score  0.7132867132867133\n",
      "38 F1 Score  0.7299270072992701\n",
      "39 F1 Score  0.7299270072992701\n",
      "The best n_neighbors =  38\n"
     ]
    }
   ],
   "source": [
    "knn_best = 0\n",
    "n_best = 0\n",
    "for  i in range(30, 40):\n",
    "    knn = KNeighborsClassifier(n_neighbors = i)\n",
    "\n",
    "    knn.fit(x_train, y_train)\n",
    "\n",
    "    # Predicting\n",
    "    test_predict = knn.predict(x_test)\n",
    "\n",
    "    k = f1_score(test_predict, y_test)\n",
    "    print(i, 'F1 Score ', k )\n",
    "    if k > knn_best:\n",
    "        knn_best = k\n",
    "        n_best = i\n",
    "        \n",
    "print('The best n_neighbors = ', n_best)"
   ]
  },
  {
   "cell_type": "code",
   "execution_count": 372,
   "id": "33240b06",
   "metadata": {},
   "outputs": [],
   "source": [
    "# plt.scatter(k, error)\n",
    "# plt.title('k Curve for test')"
   ]
  },
  {
   "cell_type": "code",
   "execution_count": 373,
   "id": "54a525d9",
   "metadata": {},
   "outputs": [
    {
     "data": {
      "text/plain": [
       "Index(['Survived', 'SibSp', 'Parch', 'Fare', 'age_mean', 'cabin_a', 'cabin_b',\n",
       "       'cabin_c', 'cabin_d', 'cabin_e', 'cabin_f', 'cabin_g', 'cabin_t',\n",
       "       'Pclass_1', 'Pclass_2', 'Pclass_3', 'female', 'male', 'embarked_s',\n",
       "       'embarked_c', 'embarked_q'],\n",
       "      dtype='object')"
      ]
     },
     "execution_count": 373,
     "metadata": {},
     "output_type": "execute_result"
    }
   ],
   "source": [
    "df.columns"
   ]
  },
  {
   "cell_type": "code",
   "execution_count": 374,
   "id": "9073b340",
   "metadata": {},
   "outputs": [],
   "source": [
    "data_test = df.iloc[:, 1:].values"
   ]
  },
  {
   "cell_type": "code",
   "execution_count": 375,
   "id": "e39e0238",
   "metadata": {},
   "outputs": [],
   "source": [
    "from sklearn.metrics import accuracy_score, make_scorer"
   ]
  },
  {
   "cell_type": "code",
   "execution_count": 376,
   "id": "65b6eaf0",
   "metadata": {},
   "outputs": [
    {
     "name": "stdout",
     "output_type": "stream",
     "text": [
      "Test mean_squared_error 0.16591928251121077\n"
     ]
    }
   ],
   "source": [
    "# Creating instance of KNN\n",
    "knn = KNeighborsClassifier(n_neighbors = n_best)\n",
    "\n",
    "# Fitting the model\n",
    "knn.fit(x_train, y_train)\n",
    "\n",
    "# Predicting over the Train Set and calculating F1\n",
    "predict_knn = knn.predict(x_test)\n",
    "\n",
    "mean_squared_error_knn = mean_squared_error(y_test, predict_knn)\n",
    "print('Test mean_squared_error', mean_squared_error_knn)"
   ]
  },
  {
   "cell_type": "code",
   "execution_count": 377,
   "id": "868454fe",
   "metadata": {},
   "outputs": [],
   "source": [
    "# accuracy_score(y_true, y_pred.round(), normalize=False)\n",
    "accuracy_score_knn = accuracy_score(y_test, predict_knn.round())"
   ]
  },
  {
   "cell_type": "code",
   "execution_count": 378,
   "id": "3fda507c",
   "metadata": {},
   "outputs": [
    {
     "data": {
      "text/plain": [
       "0.8340807174887892"
      ]
     },
     "execution_count": 378,
     "metadata": {},
     "output_type": "execute_result"
    }
   ],
   "source": [
    "accuracy_score_knn"
   ]
  },
  {
   "cell_type": "markdown",
   "id": "d62cf1f6",
   "metadata": {},
   "source": [
    "# Discriminant Analysis"
   ]
  },
  {
   "cell_type": "code",
   "execution_count": 379,
   "id": "9a106b13",
   "metadata": {},
   "outputs": [],
   "source": [
    "from sklearn import discriminant_analysis\n",
    "from sklearn.discriminant_analysis import LinearDiscriminantAnalysis"
   ]
  },
  {
   "cell_type": "code",
   "execution_count": 380,
   "id": "22e71544",
   "metadata": {},
   "outputs": [],
   "source": [
    "linear_discriminant = discriminant_analysis.LinearDiscriminantAnalysis()\n",
    "\n",
    "linear_discriminant.fit(x_train, y_train)\n",
    "\n",
    "predict_lda = linear_discriminant.predict(x_test)\n",
    "\n",
    "accuracy_score_lda = accuracy_score(y_test, predict_lda)\n",
    "mean_squared_error_lda = mean_squared_error(y_test, predict_lda)"
   ]
  },
  {
   "cell_type": "code",
   "execution_count": 381,
   "id": "7fd35a71",
   "metadata": {},
   "outputs": [
    {
     "data": {
      "text/plain": [
       "0.8071748878923767"
      ]
     },
     "execution_count": 381,
     "metadata": {},
     "output_type": "execute_result"
    }
   ],
   "source": [
    "accuracy_score_lda"
   ]
  },
  {
   "cell_type": "code",
   "execution_count": 382,
   "id": "455794d5",
   "metadata": {},
   "outputs": [
    {
     "data": {
      "text/plain": [
       "0.19282511210762332"
      ]
     },
     "execution_count": 382,
     "metadata": {},
     "output_type": "execute_result"
    }
   ],
   "source": [
    "mean_squared_error_lda"
   ]
  },
  {
   "cell_type": "markdown",
   "id": "33bc7fd2",
   "metadata": {},
   "source": [
    "# Logistic Regression"
   ]
  },
  {
   "cell_type": "code",
   "execution_count": 383,
   "id": "bce2c69b",
   "metadata": {},
   "outputs": [],
   "source": [
    "from sklearn import linear_model"
   ]
  },
  {
   "cell_type": "code",
   "execution_count": 384,
   "id": "f6193f5f",
   "metadata": {},
   "outputs": [],
   "source": [
    "logistic_regression_cv = linear_model.LogisticRegressionCV(max_iter=100000)\n",
    "\n",
    "logistic_regression_cv.fit(x_train, y_train)\n",
    "\n",
    "predict_lr = logistic_regression_cv.predict(x_test)\n",
    "\n",
    "accuracy_score_lr = accuracy_score(y_test, predict_lr)\n",
    "mean_squared_error_lr = mean_squared_error(y_test, predict_lr)"
   ]
  },
  {
   "cell_type": "code",
   "execution_count": 385,
   "id": "29bd62a5",
   "metadata": {},
   "outputs": [
    {
     "data": {
      "text/plain": [
       "0.7802690582959642"
      ]
     },
     "execution_count": 385,
     "metadata": {},
     "output_type": "execute_result"
    }
   ],
   "source": [
    "accuracy_score_lr"
   ]
  },
  {
   "cell_type": "code",
   "execution_count": 386,
   "id": "6675154d",
   "metadata": {},
   "outputs": [
    {
     "data": {
      "text/plain": [
       "0.21973094170403587"
      ]
     },
     "execution_count": 386,
     "metadata": {},
     "output_type": "execute_result"
    }
   ],
   "source": [
    "mean_squared_error_lr"
   ]
  },
  {
   "cell_type": "markdown",
   "id": "0e3f88a4",
   "metadata": {},
   "source": [
    "# Compare knn, da, lr"
   ]
  },
  {
   "cell_type": "code",
   "execution_count": 387,
   "id": "2bd3f8d7",
   "metadata": {},
   "outputs": [
    {
     "name": "stdout",
     "output_type": "stream",
     "text": [
      "Accuracy KNN 0.834\n",
      "Accuracy LDA 0.807\n",
      "Accuracy LR 0.780\n"
     ]
    }
   ],
   "source": [
    "# accuracy\n",
    "print('Accuracy KNN %.3f'% accuracy_score_knn)\n",
    "print('Accuracy LDA %.3f'% accuracy_score_lda)\n",
    "print('Accuracy LR %.3f'% accuracy_score_lr)\n",
    "# acc = [accuracy_score_knn, accuracy_score_lda, accuracy_score_lr]"
   ]
  },
  {
   "cell_type": "code",
   "execution_count": 388,
   "id": "eb7a283d",
   "metadata": {},
   "outputs": [
    {
     "name": "stdout",
     "output_type": "stream",
     "text": [
      "KNN mean_squared_error 0.166\n",
      "LDA mean_squared_error 0.193\n",
      "LR mean_squared_error 0.220\n"
     ]
    }
   ],
   "source": [
    "# mean squared error\n",
    "print('KNN mean_squared_error %.3f'% mean_squared_error_knn)\n",
    "print('LDA mean_squared_error %.3f'% mean_squared_error_lda)\n",
    "print('LR mean_squared_error %.3f'% mean_squared_error_lr)\n",
    "# mean_squared_error = [mean_squared_error_lda, mean_squared_error_knn, mean_squared_error_lr]"
   ]
  },
  {
   "cell_type": "code",
   "execution_count": 389,
   "id": "43368816",
   "metadata": {},
   "outputs": [
    {
     "data": {
      "text/plain": [
       "['Survived',\n",
       " 'SibSp',\n",
       " 'Parch',\n",
       " 'Fare',\n",
       " 'age_mean',\n",
       " 'cabin_a',\n",
       " 'cabin_b',\n",
       " 'cabin_c',\n",
       " 'cabin_d',\n",
       " 'cabin_e',\n",
       " 'cabin_f',\n",
       " 'cabin_g',\n",
       " 'cabin_t',\n",
       " 'Pclass_1',\n",
       " 'Pclass_2',\n",
       " 'Pclass_3',\n",
       " 'female',\n",
       " 'male',\n",
       " 'embarked_s',\n",
       " 'embarked_c',\n",
       " 'embarked_q']"
      ]
     },
     "execution_count": 389,
     "metadata": {},
     "output_type": "execute_result"
    }
   ],
   "source": [
    "df.columns.tolist()"
   ]
  }
 ],
 "metadata": {
  "kernelspec": {
   "display_name": "Python 3 (ipykernel)",
   "language": "python",
   "name": "python3"
  },
  "language_info": {
   "codemirror_mode": {
    "name": "ipython",
    "version": 3
   },
   "file_extension": ".py",
   "mimetype": "text/x-python",
   "name": "python",
   "nbconvert_exporter": "python",
   "pygments_lexer": "ipython3",
   "version": "3.10.1"
  }
 },
 "nbformat": 4,
 "nbformat_minor": 5
}
